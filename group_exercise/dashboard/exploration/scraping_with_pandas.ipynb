{
 "cells": [
  {
   "cell_type": "markdown",
   "id": "989eeb6c",
   "metadata": {},
   "source": [
    "# Scraping tables with pandas"
   ]
  },
  {
   "cell_type": "code",
   "execution_count": 24,
   "id": "65e6aaa8",
   "metadata": {},
   "outputs": [
    {
     "data": {
      "text/plain": [
       "(4, list)"
      ]
     },
     "execution_count": 24,
     "metadata": {},
     "output_type": "execute_result"
    }
   ],
   "source": [
    "import pandas as pd\n",
    "\n",
    "df_list = pd.read_html(\"https://en.wikipedia.org/wiki/List_of_largest_Nordic_companies\")\n",
    "\n",
    "len(df_list), type(df_list)"
   ]
  },
  {
   "cell_type": "code",
   "execution_count": 25,
   "id": "16d454fd",
   "metadata": {},
   "outputs": [
    {
     "data": {
      "text/html": [
       "<div>\n",
       "<style scoped>\n",
       "    .dataframe tbody tr th:only-of-type {\n",
       "        vertical-align: middle;\n",
       "    }\n",
       "\n",
       "    .dataframe tbody tr th {\n",
       "        vertical-align: top;\n",
       "    }\n",
       "\n",
       "    .dataframe thead th {\n",
       "        text-align: right;\n",
       "    }\n",
       "</style>\n",
       "<table border=\"1\" class=\"dataframe\">\n",
       "  <thead>\n",
       "    <tr style=\"text-align: right;\">\n",
       "      <th></th>\n",
       "      <th>0</th>\n",
       "      <th>1</th>\n",
       "    </tr>\n",
       "  </thead>\n",
       "  <tbody>\n",
       "    <tr>\n",
       "      <th>0</th>\n",
       "      <td>NaN</td>\n",
       "      <td>This article needs to be updated. Please help ...</td>\n",
       "    </tr>\n",
       "  </tbody>\n",
       "</table>\n",
       "</div>"
      ],
      "text/plain": [
       "    0                                                  1\n",
       "0 NaN  This article needs to be updated. Please help ..."
      ]
     },
     "execution_count": 25,
     "metadata": {},
     "output_type": "execute_result"
    }
   ],
   "source": [
    "df_list[0]"
   ]
  },
  {
   "cell_type": "code",
   "execution_count": 26,
   "id": "78dc3a31",
   "metadata": {},
   "outputs": [
    {
     "data": {
      "text/html": [
       "<div>\n",
       "<style scoped>\n",
       "    .dataframe tbody tr th:only-of-type {\n",
       "        vertical-align: middle;\n",
       "    }\n",
       "\n",
       "    .dataframe tbody tr th {\n",
       "        vertical-align: top;\n",
       "    }\n",
       "\n",
       "    .dataframe thead th {\n",
       "        text-align: right;\n",
       "    }\n",
       "</style>\n",
       "<table border=\"1\" class=\"dataframe\">\n",
       "  <thead>\n",
       "    <tr style=\"text-align: right;\">\n",
       "      <th></th>\n",
       "      <th>Rank</th>\n",
       "      <th>Company</th>\n",
       "      <th>Headquarters</th>\n",
       "      <th>Industry</th>\n",
       "      <th>Revenue (billion $)</th>\n",
       "      <th>Profits (billion $)</th>\n",
       "      <th>Assets (billion $)</th>\n",
       "      <th>Market value (billion $)</th>\n",
       "    </tr>\n",
       "  </thead>\n",
       "  <tbody>\n",
       "    <tr>\n",
       "      <th>0</th>\n",
       "      <td>01 (41)</td>\n",
       "      <td>Equinor</td>\n",
       "      <td>Stavanger, Norway</td>\n",
       "      <td>Oil and gas</td>\n",
       "      <td>111.6</td>\n",
       "      <td>13.1</td>\n",
       "      <td>127.8</td>\n",
       "      <td>81.4[2]</td>\n",
       "    </tr>\n",
       "    <tr>\n",
       "      <th>1</th>\n",
       "      <td>02 (135)</td>\n",
       "      <td>Nordea</td>\n",
       "      <td>Helsinki, Finland</td>\n",
       "      <td>Banking</td>\n",
       "      <td>21.7</td>\n",
       "      <td>3.4</td>\n",
       "      <td>933.8</td>\n",
       "      <td>39.7[3]</td>\n",
       "    </tr>\n",
       "    <tr>\n",
       "      <th>2</th>\n",
       "      <td>03 (152)</td>\n",
       "      <td>A.P. Møller-Maersk</td>\n",
       "      <td>Copenhagen, Denmark</td>\n",
       "      <td>Transportation</td>\n",
       "      <td>56.1</td>\n",
       "      <td>2.6</td>\n",
       "      <td>69.8</td>\n",
       "      <td>33.7[4][5]</td>\n",
       "    </tr>\n",
       "    <tr>\n",
       "      <th>3</th>\n",
       "      <td>04 (183)</td>\n",
       "      <td>Volvo</td>\n",
       "      <td>Gothenburg, Sweden</td>\n",
       "      <td>Automotive</td>\n",
       "      <td>45.0</td>\n",
       "      <td>2.6</td>\n",
       "      <td>49.7</td>\n",
       "      <td>30.2[6][7]</td>\n",
       "    </tr>\n",
       "    <tr>\n",
       "      <th>4</th>\n",
       "      <td>05 (239)</td>\n",
       "      <td>Ericsson</td>\n",
       "      <td>Stockholm, Sweden</td>\n",
       "      <td>Telecommunication</td>\n",
       "      <td>32.9</td>\n",
       "      <td>1.8</td>\n",
       "      <td>19.0</td>\n",
       "      <td>19.4[8][9]</td>\n",
       "    </tr>\n",
       "  </tbody>\n",
       "</table>\n",
       "</div>"
      ],
      "text/plain": [
       "       Rank             Company         Headquarters           Industry  \\\n",
       "0   01 (41)             Equinor    Stavanger, Norway        Oil and gas   \n",
       "1  02 (135)              Nordea    Helsinki, Finland            Banking   \n",
       "2  03 (152)  A.P. Møller-Maersk  Copenhagen, Denmark     Transportation   \n",
       "3  04 (183)               Volvo   Gothenburg, Sweden         Automotive   \n",
       "4  05 (239)            Ericsson    Stockholm, Sweden  Telecommunication   \n",
       "\n",
       "   Revenue (billion $)  Profits (billion $)  Assets (billion $)  \\\n",
       "0                111.6                 13.1               127.8   \n",
       "1                 21.7                  3.4               933.8   \n",
       "2                 56.1                  2.6                69.8   \n",
       "3                 45.0                  2.6                49.7   \n",
       "4                 32.9                  1.8                19.0   \n",
       "\n",
       "  Market value (billion $)  \n",
       "0                  81.4[2]  \n",
       "1                  39.7[3]  \n",
       "2               33.7[4][5]  \n",
       "3               30.2[6][7]  \n",
       "4               19.4[8][9]  "
      ]
     },
     "execution_count": 26,
     "metadata": {},
     "output_type": "execute_result"
    }
   ],
   "source": [
    "df_rank = df_list[1]\n",
    "\n",
    "df_rank.head()"
   ]
  },
  {
   "cell_type": "code",
   "execution_count": 27,
   "id": "24a7e443",
   "metadata": {},
   "outputs": [
    {
     "data": {
      "text/html": [
       "<div>\n",
       "<style scoped>\n",
       "    .dataframe tbody tr th:only-of-type {\n",
       "        vertical-align: middle;\n",
       "    }\n",
       "\n",
       "    .dataframe tbody tr th {\n",
       "        vertical-align: top;\n",
       "    }\n",
       "\n",
       "    .dataframe thead th {\n",
       "        text-align: right;\n",
       "    }\n",
       "</style>\n",
       "<table border=\"1\" class=\"dataframe\">\n",
       "  <thead>\n",
       "    <tr style=\"text-align: right;\">\n",
       "      <th></th>\n",
       "      <th>Country</th>\n",
       "      <th>2008-list</th>\n",
       "      <th>2009-list</th>\n",
       "      <th>2010-list</th>\n",
       "      <th>2011-list</th>\n",
       "      <th>2012-list</th>\n",
       "    </tr>\n",
       "  </thead>\n",
       "  <tbody>\n",
       "    <tr>\n",
       "      <th>0</th>\n",
       "      <td>Sweden</td>\n",
       "      <td>20</td>\n",
       "      <td>22</td>\n",
       "      <td>27</td>\n",
       "      <td>22</td>\n",
       "      <td>25</td>\n",
       "    </tr>\n",
       "    <tr>\n",
       "      <th>1</th>\n",
       "      <td>Finland</td>\n",
       "      <td>16</td>\n",
       "      <td>13</td>\n",
       "      <td>11</td>\n",
       "      <td>12</td>\n",
       "      <td>12</td>\n",
       "    </tr>\n",
       "    <tr>\n",
       "      <th>2</th>\n",
       "      <td>Norway</td>\n",
       "      <td>14</td>\n",
       "      <td>9</td>\n",
       "      <td>10</td>\n",
       "      <td>10</td>\n",
       "      <td>9</td>\n",
       "    </tr>\n",
       "    <tr>\n",
       "      <th>3</th>\n",
       "      <td>Denmark</td>\n",
       "      <td>9</td>\n",
       "      <td>12</td>\n",
       "      <td>13</td>\n",
       "      <td>10</td>\n",
       "      <td>10</td>\n",
       "    </tr>\n",
       "    <tr>\n",
       "      <th>4</th>\n",
       "      <td>Iceland</td>\n",
       "      <td>4</td>\n",
       "      <td>0</td>\n",
       "      <td>0</td>\n",
       "      <td>0</td>\n",
       "      <td>0</td>\n",
       "    </tr>\n",
       "  </tbody>\n",
       "</table>\n",
       "</div>"
      ],
      "text/plain": [
       "   Country  2008-list  2009-list  2010-list  2011-list  2012-list\n",
       "0   Sweden         20         22         27         22         25\n",
       "1  Finland         16         13         11         12         12\n",
       "2   Norway         14          9         10         10          9\n",
       "3  Denmark          9         12         13         10         10\n",
       "4  Iceland          4          0          0          0          0"
      ]
     },
     "execution_count": 27,
     "metadata": {},
     "output_type": "execute_result"
    }
   ],
   "source": [
    "df_country = df_list[2]\n",
    "\n",
    "df_country\n"
   ]
  },
  {
   "cell_type": "code",
   "execution_count": 28,
   "id": "7c572f15",
   "metadata": {},
   "outputs": [
    {
     "name": "stdout",
     "output_type": "stream",
     "text": [
      "<class 'pandas.core.frame.DataFrame'>\n",
      "RangeIndex: 10 entries, 0 to 9\n",
      "Data columns (total 6 columns):\n",
      " #   Column          Non-Null Count  Dtype \n",
      "---  ------          --------------  ----- \n",
      " 0   Rank            10 non-null     int64 \n",
      " 1   Company         10 non-null     object\n",
      " 2   Headquarters    10 non-null     object\n",
      " 3   Industry        10 non-null     object\n",
      " 4   Employees       10 non-null     int64 \n",
      " 5   Reference date  10 non-null     object\n",
      "dtypes: int64(2), object(4)\n",
      "memory usage: 612.0+ bytes\n"
     ]
    }
   ],
   "source": [
    "df_size = df_list[3]\n",
    "\n",
    "df_size.info()"
   ]
  },
  {
   "cell_type": "code",
   "execution_count": 29,
   "id": "32674852",
   "metadata": {},
   "outputs": [],
   "source": [
    "df_rank.to_csv(\"../data/nordic_company_rankings.csv\", index= False)"
   ]
  },
  {
   "cell_type": "markdown",
   "id": "b5c72ae4",
   "metadata": {},
   "source": [
    "## Skapa en dashboard med datan\n",
    "\n",
    "Fritt hur dashboarden ska se ut, men gärna  \n",
    "- dropdown för att filtrera data\n",
    "- sliders för att filtrera data\n",
    "- några KPIer\n",
    "- någon/några visualiseringar\n",
    "- ....\n",
    "\n",
    "Jobba i grupp vi syns igen 14:30\n"
   ]
  },
  {
   "cell_type": "code",
   "execution_count": 30,
   "id": "a1d9d934",
   "metadata": {},
   "outputs": [
    {
     "data": {
      "text/html": [
       "<div>\n",
       "<style scoped>\n",
       "    .dataframe tbody tr th:only-of-type {\n",
       "        vertical-align: middle;\n",
       "    }\n",
       "\n",
       "    .dataframe tbody tr th {\n",
       "        vertical-align: top;\n",
       "    }\n",
       "\n",
       "    .dataframe thead th {\n",
       "        text-align: right;\n",
       "    }\n",
       "</style>\n",
       "<table border=\"1\" class=\"dataframe\">\n",
       "  <thead>\n",
       "    <tr style=\"text-align: right;\">\n",
       "      <th></th>\n",
       "      <th>Rank</th>\n",
       "      <th>Company</th>\n",
       "      <th>Headquarters</th>\n",
       "      <th>Industry</th>\n",
       "      <th>Revenue (billion $)</th>\n",
       "      <th>Profits (billion $)</th>\n",
       "      <th>Assets (billion $)</th>\n",
       "      <th>Market value (billion $)</th>\n",
       "    </tr>\n",
       "  </thead>\n",
       "  <tbody>\n",
       "    <tr>\n",
       "      <th>0</th>\n",
       "      <td>01 (41)</td>\n",
       "      <td>Equinor</td>\n",
       "      <td>Stavanger, Norway</td>\n",
       "      <td>Oil and gas</td>\n",
       "      <td>111.6</td>\n",
       "      <td>13.1</td>\n",
       "      <td>127.8</td>\n",
       "      <td>81.4[2]</td>\n",
       "    </tr>\n",
       "    <tr>\n",
       "      <th>1</th>\n",
       "      <td>02 (135)</td>\n",
       "      <td>Nordea</td>\n",
       "      <td>Helsinki, Finland</td>\n",
       "      <td>Banking</td>\n",
       "      <td>21.7</td>\n",
       "      <td>3.4</td>\n",
       "      <td>933.8</td>\n",
       "      <td>39.7[3]</td>\n",
       "    </tr>\n",
       "    <tr>\n",
       "      <th>2</th>\n",
       "      <td>03 (152)</td>\n",
       "      <td>A.P. Møller-Maersk</td>\n",
       "      <td>Copenhagen, Denmark</td>\n",
       "      <td>Transportation</td>\n",
       "      <td>56.1</td>\n",
       "      <td>2.6</td>\n",
       "      <td>69.8</td>\n",
       "      <td>33.7[4][5]</td>\n",
       "    </tr>\n",
       "    <tr>\n",
       "      <th>3</th>\n",
       "      <td>04 (183)</td>\n",
       "      <td>Volvo</td>\n",
       "      <td>Gothenburg, Sweden</td>\n",
       "      <td>Automotive</td>\n",
       "      <td>45.0</td>\n",
       "      <td>2.6</td>\n",
       "      <td>49.7</td>\n",
       "      <td>30.2[6][7]</td>\n",
       "    </tr>\n",
       "    <tr>\n",
       "      <th>4</th>\n",
       "      <td>05 (239)</td>\n",
       "      <td>Ericsson</td>\n",
       "      <td>Stockholm, Sweden</td>\n",
       "      <td>Telecommunication</td>\n",
       "      <td>32.9</td>\n",
       "      <td>1.8</td>\n",
       "      <td>19.0</td>\n",
       "      <td>19.4[8][9]</td>\n",
       "    </tr>\n",
       "  </tbody>\n",
       "</table>\n",
       "</div>"
      ],
      "text/plain": [
       "       Rank             Company         Headquarters           Industry  \\\n",
       "0   01 (41)             Equinor    Stavanger, Norway        Oil and gas   \n",
       "1  02 (135)              Nordea    Helsinki, Finland            Banking   \n",
       "2  03 (152)  A.P. Møller-Maersk  Copenhagen, Denmark     Transportation   \n",
       "3  04 (183)               Volvo   Gothenburg, Sweden         Automotive   \n",
       "4  05 (239)            Ericsson    Stockholm, Sweden  Telecommunication   \n",
       "\n",
       "   Revenue (billion $)  Profits (billion $)  Assets (billion $)  \\\n",
       "0                111.6                 13.1               127.8   \n",
       "1                 21.7                  3.4               933.8   \n",
       "2                 56.1                  2.6                69.8   \n",
       "3                 45.0                  2.6                49.7   \n",
       "4                 32.9                  1.8                19.0   \n",
       "\n",
       "  Market value (billion $)  \n",
       "0                  81.4[2]  \n",
       "1                  39.7[3]  \n",
       "2               33.7[4][5]  \n",
       "3               30.2[6][7]  \n",
       "4               19.4[8][9]  "
      ]
     },
     "execution_count": 30,
     "metadata": {},
     "output_type": "execute_result"
    }
   ],
   "source": [
    "df = pd.read_csv(\"../data/nordic_company_rankings.csv\")\n",
    "df.head()"
   ]
  },
  {
   "cell_type": "code",
   "execution_count": 31,
   "id": "52d42335",
   "metadata": {},
   "outputs": [
    {
     "name": "stdout",
     "output_type": "stream",
     "text": [
      "<class 'pandas.core.frame.DataFrame'>\n",
      "RangeIndex: 56 entries, 0 to 55\n",
      "Data columns (total 8 columns):\n",
      " #   Column                    Non-Null Count  Dtype  \n",
      "---  ------                    --------------  -----  \n",
      " 0   Rank                      56 non-null     object \n",
      " 1   Company                   56 non-null     object \n",
      " 2   Headquarters              56 non-null     object \n",
      " 3   Industry                  56 non-null     object \n",
      " 4   Revenue (billion $)       56 non-null     float64\n",
      " 5   Profits (billion $)       56 non-null     float64\n",
      " 6   Assets (billion $)        56 non-null     float64\n",
      " 7   Market value (billion $)  56 non-null     object \n",
      "dtypes: float64(3), object(5)\n",
      "memory usage: 3.6+ KB\n"
     ]
    }
   ],
   "source": [
    "df.info()"
   ]
  },
  {
   "cell_type": "code",
   "execution_count": 32,
   "id": "6e7fb97d",
   "metadata": {},
   "outputs": [
    {
     "data": {
      "text/html": [
       "<div>\n",
       "<style scoped>\n",
       "    .dataframe tbody tr th:only-of-type {\n",
       "        vertical-align: middle;\n",
       "    }\n",
       "\n",
       "    .dataframe tbody tr th {\n",
       "        vertical-align: top;\n",
       "    }\n",
       "\n",
       "    .dataframe thead th {\n",
       "        text-align: right;\n",
       "    }\n",
       "</style>\n",
       "<table border=\"1\" class=\"dataframe\">\n",
       "  <thead>\n",
       "    <tr style=\"text-align: right;\">\n",
       "      <th></th>\n",
       "      <th>Rank</th>\n",
       "      <th>Company</th>\n",
       "      <th>Headquarters</th>\n",
       "      <th>Industry</th>\n",
       "      <th>Revenue (billion $)</th>\n",
       "      <th>Profits (billion $)</th>\n",
       "      <th>Assets (billion $)</th>\n",
       "      <th>Market value (billion $)</th>\n",
       "      <th>City</th>\n",
       "      <th>Country</th>\n",
       "    </tr>\n",
       "  </thead>\n",
       "  <tbody>\n",
       "    <tr>\n",
       "      <th>0</th>\n",
       "      <td>01 (41)</td>\n",
       "      <td>Equinor</td>\n",
       "      <td>Stavanger, Norway</td>\n",
       "      <td>Oil and gas</td>\n",
       "      <td>111.6</td>\n",
       "      <td>13.1</td>\n",
       "      <td>127.8</td>\n",
       "      <td>81.4[2]</td>\n",
       "      <td>Stavanger</td>\n",
       "      <td>Norway</td>\n",
       "    </tr>\n",
       "    <tr>\n",
       "      <th>1</th>\n",
       "      <td>02 (135)</td>\n",
       "      <td>Nordea</td>\n",
       "      <td>Helsinki, Finland</td>\n",
       "      <td>Banking</td>\n",
       "      <td>21.7</td>\n",
       "      <td>3.4</td>\n",
       "      <td>933.8</td>\n",
       "      <td>39.7[3]</td>\n",
       "      <td>Helsinki</td>\n",
       "      <td>Finland</td>\n",
       "    </tr>\n",
       "    <tr>\n",
       "      <th>2</th>\n",
       "      <td>03 (152)</td>\n",
       "      <td>A.P. Møller-Maersk</td>\n",
       "      <td>Copenhagen, Denmark</td>\n",
       "      <td>Transportation</td>\n",
       "      <td>56.1</td>\n",
       "      <td>2.6</td>\n",
       "      <td>69.8</td>\n",
       "      <td>33.7[4][5]</td>\n",
       "      <td>Copenhagen</td>\n",
       "      <td>Denmark</td>\n",
       "    </tr>\n",
       "    <tr>\n",
       "      <th>3</th>\n",
       "      <td>04 (183)</td>\n",
       "      <td>Volvo</td>\n",
       "      <td>Gothenburg, Sweden</td>\n",
       "      <td>Automotive</td>\n",
       "      <td>45.0</td>\n",
       "      <td>2.6</td>\n",
       "      <td>49.7</td>\n",
       "      <td>30.2[6][7]</td>\n",
       "      <td>Gothenburg</td>\n",
       "      <td>Sweden</td>\n",
       "    </tr>\n",
       "    <tr>\n",
       "      <th>4</th>\n",
       "      <td>05 (239)</td>\n",
       "      <td>Ericsson</td>\n",
       "      <td>Stockholm, Sweden</td>\n",
       "      <td>Telecommunication</td>\n",
       "      <td>32.9</td>\n",
       "      <td>1.8</td>\n",
       "      <td>19.0</td>\n",
       "      <td>19.4[8][9]</td>\n",
       "      <td>Stockholm</td>\n",
       "      <td>Sweden</td>\n",
       "    </tr>\n",
       "  </tbody>\n",
       "</table>\n",
       "</div>"
      ],
      "text/plain": [
       "       Rank             Company         Headquarters           Industry  \\\n",
       "0   01 (41)             Equinor    Stavanger, Norway        Oil and gas   \n",
       "1  02 (135)              Nordea    Helsinki, Finland            Banking   \n",
       "2  03 (152)  A.P. Møller-Maersk  Copenhagen, Denmark     Transportation   \n",
       "3  04 (183)               Volvo   Gothenburg, Sweden         Automotive   \n",
       "4  05 (239)            Ericsson    Stockholm, Sweden  Telecommunication   \n",
       "\n",
       "   Revenue (billion $)  Profits (billion $)  Assets (billion $)  \\\n",
       "0                111.6                 13.1               127.8   \n",
       "1                 21.7                  3.4               933.8   \n",
       "2                 56.1                  2.6                69.8   \n",
       "3                 45.0                  2.6                49.7   \n",
       "4                 32.9                  1.8                19.0   \n",
       "\n",
       "  Market value (billion $)        City  Country  \n",
       "0                  81.4[2]   Stavanger   Norway  \n",
       "1                  39.7[3]    Helsinki  Finland  \n",
       "2               33.7[4][5]  Copenhagen  Denmark  \n",
       "3               30.2[6][7]  Gothenburg   Sweden  \n",
       "4               19.4[8][9]   Stockholm   Sweden  "
      ]
     },
     "execution_count": 32,
     "metadata": {},
     "output_type": "execute_result"
    }
   ],
   "source": [
    "df[[\"City\", \"Country\"]] = df[\"Headquarters\"].str.split(\", \", expand=True)\n",
    "df.head()"
   ]
  },
  {
   "cell_type": "code",
   "execution_count": 33,
   "id": "81fbcefb",
   "metadata": {},
   "outputs": [],
   "source": [
    "df[\"Market value (billion $)\"] = df[\"Market value (billion $)\"].str.extract(r\"([\\d.]+)\").astype(float) # str.extract(r\"\\[d.]+) Detta söker efter första talet i varje cell, med hjälp av regex\n",
    "                                                                                                       # [\\d.] betyder: matchar siffror (\\d) och punkt(.)\n",
    "                                                                                                       # \"+ matchar en eller flera\"\n",
    "                                                                                                       # \"() gör det till en fångstgrupp (det är det som .extract()) returnerar\"\n",
    "                                                                                                    \n"
   ]
  },
  {
   "cell_type": "code",
   "execution_count": 34,
   "id": "c6fe36e1",
   "metadata": {},
   "outputs": [],
   "source": [
    "df.drop(\"Headquarters\", axis= 1, inplace= True)"
   ]
  },
  {
   "cell_type": "code",
   "execution_count": 35,
   "id": "b8b19ca2",
   "metadata": {},
   "outputs": [],
   "source": [
    "df[[\"Nordic\", \"World\"]] = df[\"Rank\"].str.split(expand=True)\n",
    "\n",
    "df.drop(\"Rank\", axis= 1, inplace= True)"
   ]
  },
  {
   "cell_type": "code",
   "execution_count": 36,
   "id": "0eb5271a",
   "metadata": {},
   "outputs": [],
   "source": [
    "\n",
    "df[\"Nordic\"] = df[\"Nordic\"].astype(int)"
   ]
  },
  {
   "cell_type": "code",
   "execution_count": 37,
   "id": "0655a5f7",
   "metadata": {},
   "outputs": [],
   "source": [
    "df.rename(columns={\"Nordic\": \"Top company in Nordic\", \"World\": \"Forbes top 2000 company\"}, inplace=True)"
   ]
  },
  {
   "cell_type": "code",
   "execution_count": 38,
   "id": "5563a8a1",
   "metadata": {},
   "outputs": [],
   "source": [
    "df[\"Forbes top 2000 company\"] = df[\"Forbes top 2000 company\"].str.replace(r\"[()]\", \"\", regex=True).astype(int) # För att ta bort parantes och lämna kvar värdet"
   ]
  },
  {
   "cell_type": "code",
   "execution_count": 39,
   "id": "1376430f",
   "metadata": {},
   "outputs": [
    {
     "data": {
      "text/html": [
       "<div>\n",
       "<style scoped>\n",
       "    .dataframe tbody tr th:only-of-type {\n",
       "        vertical-align: middle;\n",
       "    }\n",
       "\n",
       "    .dataframe tbody tr th {\n",
       "        vertical-align: top;\n",
       "    }\n",
       "\n",
       "    .dataframe thead th {\n",
       "        text-align: right;\n",
       "    }\n",
       "</style>\n",
       "<table border=\"1\" class=\"dataframe\">\n",
       "  <thead>\n",
       "    <tr style=\"text-align: right;\">\n",
       "      <th></th>\n",
       "      <th>Company</th>\n",
       "      <th>Industry</th>\n",
       "      <th>Revenue (billion $)</th>\n",
       "      <th>Profits (billion $)</th>\n",
       "      <th>Assets (billion $)</th>\n",
       "      <th>Market value (billion $)</th>\n",
       "      <th>City</th>\n",
       "      <th>Country</th>\n",
       "      <th>Top company in Nordic</th>\n",
       "      <th>Forbes top 2000 company</th>\n",
       "    </tr>\n",
       "  </thead>\n",
       "  <tbody>\n",
       "    <tr>\n",
       "      <th>0</th>\n",
       "      <td>Equinor</td>\n",
       "      <td>Oil and gas</td>\n",
       "      <td>111.6</td>\n",
       "      <td>13.1</td>\n",
       "      <td>127.8</td>\n",
       "      <td>81.4</td>\n",
       "      <td>Stavanger</td>\n",
       "      <td>Norway</td>\n",
       "      <td>1</td>\n",
       "      <td>41</td>\n",
       "    </tr>\n",
       "    <tr>\n",
       "      <th>1</th>\n",
       "      <td>Nordea</td>\n",
       "      <td>Banking</td>\n",
       "      <td>21.7</td>\n",
       "      <td>3.4</td>\n",
       "      <td>933.8</td>\n",
       "      <td>39.7</td>\n",
       "      <td>Helsinki</td>\n",
       "      <td>Finland</td>\n",
       "      <td>2</td>\n",
       "      <td>135</td>\n",
       "    </tr>\n",
       "    <tr>\n",
       "      <th>2</th>\n",
       "      <td>A.P. Møller-Maersk</td>\n",
       "      <td>Transportation</td>\n",
       "      <td>56.1</td>\n",
       "      <td>2.6</td>\n",
       "      <td>69.8</td>\n",
       "      <td>33.7</td>\n",
       "      <td>Copenhagen</td>\n",
       "      <td>Denmark</td>\n",
       "      <td>3</td>\n",
       "      <td>152</td>\n",
       "    </tr>\n",
       "    <tr>\n",
       "      <th>3</th>\n",
       "      <td>Volvo</td>\n",
       "      <td>Automotive</td>\n",
       "      <td>45.0</td>\n",
       "      <td>2.6</td>\n",
       "      <td>49.7</td>\n",
       "      <td>30.2</td>\n",
       "      <td>Gothenburg</td>\n",
       "      <td>Sweden</td>\n",
       "      <td>4</td>\n",
       "      <td>183</td>\n",
       "    </tr>\n",
       "    <tr>\n",
       "      <th>4</th>\n",
       "      <td>Ericsson</td>\n",
       "      <td>Telecommunication</td>\n",
       "      <td>32.9</td>\n",
       "      <td>1.8</td>\n",
       "      <td>19.0</td>\n",
       "      <td>19.4</td>\n",
       "      <td>Stockholm</td>\n",
       "      <td>Sweden</td>\n",
       "      <td>5</td>\n",
       "      <td>239</td>\n",
       "    </tr>\n",
       "    <tr>\n",
       "      <th>5</th>\n",
       "      <td>DNB</td>\n",
       "      <td>Diversified financial</td>\n",
       "      <td>11.6</td>\n",
       "      <td>2.2</td>\n",
       "      <td>356.1</td>\n",
       "      <td>21.1</td>\n",
       "      <td>Oslo</td>\n",
       "      <td>Norway</td>\n",
       "      <td>6</td>\n",
       "      <td>260</td>\n",
       "    </tr>\n",
       "    <tr>\n",
       "      <th>6</th>\n",
       "      <td>SEB</td>\n",
       "      <td>Banking</td>\n",
       "      <td>13.5</td>\n",
       "      <td>1.6</td>\n",
       "      <td>344.5</td>\n",
       "      <td>19.2</td>\n",
       "      <td>Stockholm</td>\n",
       "      <td>Sweden</td>\n",
       "      <td>7</td>\n",
       "      <td>280</td>\n",
       "    </tr>\n",
       "    <tr>\n",
       "      <th>7</th>\n",
       "      <td>Handelsbanken</td>\n",
       "      <td>Banking</td>\n",
       "      <td>10.9</td>\n",
       "      <td>1.8</td>\n",
       "      <td>358.0</td>\n",
       "      <td>23.2</td>\n",
       "      <td>Stockholm</td>\n",
       "      <td>Sweden</td>\n",
       "      <td>8</td>\n",
       "      <td>282</td>\n",
       "    </tr>\n",
       "    <tr>\n",
       "      <th>8</th>\n",
       "      <td>Telia</td>\n",
       "      <td>Telecommunications</td>\n",
       "      <td>15.1</td>\n",
       "      <td>2.7</td>\n",
       "      <td>35.9</td>\n",
       "      <td>30.0</td>\n",
       "      <td>Stockholm</td>\n",
       "      <td>Sweden</td>\n",
       "      <td>9</td>\n",
       "      <td>294</td>\n",
       "    </tr>\n",
       "    <tr>\n",
       "      <th>9</th>\n",
       "      <td>Swedbank</td>\n",
       "      <td>Banking</td>\n",
       "      <td>10.3</td>\n",
       "      <td>1.7</td>\n",
       "      <td>270.8</td>\n",
       "      <td>19.1</td>\n",
       "      <td>Stockholm</td>\n",
       "      <td>Sweden</td>\n",
       "      <td>10</td>\n",
       "      <td>311</td>\n",
       "    </tr>\n",
       "    <tr>\n",
       "      <th>10</th>\n",
       "      <td>Telenor</td>\n",
       "      <td>Telecommunication</td>\n",
       "      <td>16.4</td>\n",
       "      <td>1.3</td>\n",
       "      <td>27.8</td>\n",
       "      <td>33.9</td>\n",
       "      <td>Fornebu</td>\n",
       "      <td>Norway</td>\n",
       "      <td>11</td>\n",
       "      <td>353</td>\n",
       "    </tr>\n",
       "    <tr>\n",
       "      <th>11</th>\n",
       "      <td>Fortum</td>\n",
       "      <td>Utilities</td>\n",
       "      <td>3.9</td>\n",
       "      <td>0.9</td>\n",
       "      <td>29.7</td>\n",
       "      <td>16.8</td>\n",
       "      <td>Espoo</td>\n",
       "      <td>Finland</td>\n",
       "      <td>12</td>\n",
       "      <td>432</td>\n",
       "    </tr>\n",
       "    <tr>\n",
       "      <th>12</th>\n",
       "      <td>Novo Nordisk</td>\n",
       "      <td>Health care</td>\n",
       "      <td>11.6</td>\n",
       "      <td>3.0</td>\n",
       "      <td>10.9</td>\n",
       "      <td>90.3</td>\n",
       "      <td>Copenhagen</td>\n",
       "      <td>Denmark</td>\n",
       "      <td>13</td>\n",
       "      <td>466</td>\n",
       "    </tr>\n",
       "    <tr>\n",
       "      <th>13</th>\n",
       "      <td>H&amp;M</td>\n",
       "      <td>Retailing</td>\n",
       "      <td>16.3</td>\n",
       "      <td>2.3</td>\n",
       "      <td>8.7</td>\n",
       "      <td>61.6</td>\n",
       "      <td>Stockholm</td>\n",
       "      <td>Sweden</td>\n",
       "      <td>14</td>\n",
       "      <td>489</td>\n",
       "    </tr>\n",
       "    <tr>\n",
       "      <th>14</th>\n",
       "      <td>Danske Bank</td>\n",
       "      <td>Banking</td>\n",
       "      <td>20.0</td>\n",
       "      <td>0.3</td>\n",
       "      <td>597.8</td>\n",
       "      <td>15.8</td>\n",
       "      <td>Copenhagen</td>\n",
       "      <td>Denmark</td>\n",
       "      <td>15</td>\n",
       "      <td>498</td>\n",
       "    </tr>\n",
       "    <tr>\n",
       "      <th>15</th>\n",
       "      <td>Sampo Group</td>\n",
       "      <td>Insurance</td>\n",
       "      <td>7.2</td>\n",
       "      <td>1.3</td>\n",
       "      <td>38.3</td>\n",
       "      <td>16.3</td>\n",
       "      <td>Helsinki</td>\n",
       "      <td>Finland</td>\n",
       "      <td>16</td>\n",
       "      <td>503</td>\n",
       "    </tr>\n",
       "    <tr>\n",
       "      <th>16</th>\n",
       "      <td>Norsk Hydro</td>\n",
       "      <td>Industrial</td>\n",
       "      <td>16.3</td>\n",
       "      <td>1.1</td>\n",
       "      <td>22.2</td>\n",
       "      <td>11.7</td>\n",
       "      <td>Oslo</td>\n",
       "      <td>Norway</td>\n",
       "      <td>17</td>\n",
       "      <td>504</td>\n",
       "    </tr>\n",
       "    <tr>\n",
       "      <th>17</th>\n",
       "      <td>Atlas Copco</td>\n",
       "      <td>Capital goods</td>\n",
       "      <td>13.6</td>\n",
       "      <td>0.8</td>\n",
       "      <td>14.4</td>\n",
       "      <td>19.0</td>\n",
       "      <td>Stockholm</td>\n",
       "      <td>Sweden</td>\n",
       "      <td>18</td>\n",
       "      <td>528</td>\n",
       "    </tr>\n",
       "    <tr>\n",
       "      <th>18</th>\n",
       "      <td>Carlsberg Group</td>\n",
       "      <td>Brewery</td>\n",
       "      <td>11.1</td>\n",
       "      <td>0.9</td>\n",
       "      <td>25.6</td>\n",
       "      <td>12.8</td>\n",
       "      <td>Copenhagen</td>\n",
       "      <td>Denmark</td>\n",
       "      <td>19</td>\n",
       "      <td>563</td>\n",
       "    </tr>\n",
       "    <tr>\n",
       "      <th>19</th>\n",
       "      <td>Nokia</td>\n",
       "      <td>Technology</td>\n",
       "      <td>50.1</td>\n",
       "      <td>-1.5</td>\n",
       "      <td>44.6</td>\n",
       "      <td>32.8</td>\n",
       "      <td>Espoo</td>\n",
       "      <td>Finland</td>\n",
       "      <td>20</td>\n",
       "      <td>573</td>\n",
       "    </tr>\n",
       "    <tr>\n",
       "      <th>20</th>\n",
       "      <td>Yara International</td>\n",
       "      <td>Chemical industry</td>\n",
       "      <td>13.0</td>\n",
       "      <td>2.0</td>\n",
       "      <td>12.1</td>\n",
       "      <td>13.3</td>\n",
       "      <td>Oslo</td>\n",
       "      <td>Norway</td>\n",
       "      <td>21</td>\n",
       "      <td>574</td>\n",
       "    </tr>\n",
       "    <tr>\n",
       "      <th>21</th>\n",
       "      <td>Sandvik</td>\n",
       "      <td>Capital goods</td>\n",
       "      <td>13.6</td>\n",
       "      <td>0.8</td>\n",
       "      <td>14.4</td>\n",
       "      <td>19.0</td>\n",
       "      <td>Sandviken</td>\n",
       "      <td>Sweden</td>\n",
       "      <td>22</td>\n",
       "      <td>578</td>\n",
       "    </tr>\n",
       "    <tr>\n",
       "      <th>22</th>\n",
       "      <td>Skanska</td>\n",
       "      <td>Construction</td>\n",
       "      <td>17.2</td>\n",
       "      <td>1.1</td>\n",
       "      <td>11.8</td>\n",
       "      <td>7.5</td>\n",
       "      <td>Stockholm</td>\n",
       "      <td>Sweden</td>\n",
       "      <td>23</td>\n",
       "      <td>707</td>\n",
       "    </tr>\n",
       "    <tr>\n",
       "      <th>23</th>\n",
       "      <td>UPM-Kymmene</td>\n",
       "      <td>Materials</td>\n",
       "      <td>13.0</td>\n",
       "      <td>0.6</td>\n",
       "      <td>19.3</td>\n",
       "      <td>7.2</td>\n",
       "      <td>Helsinki</td>\n",
       "      <td>Finland</td>\n",
       "      <td>24</td>\n",
       "      <td>765</td>\n",
       "    </tr>\n",
       "    <tr>\n",
       "      <th>24</th>\n",
       "      <td>SKF</td>\n",
       "      <td>Manufacturing</td>\n",
       "      <td>9.6</td>\n",
       "      <td>0.9</td>\n",
       "      <td>8.5</td>\n",
       "      <td>11.5</td>\n",
       "      <td>Gothenburg</td>\n",
       "      <td>Sweden</td>\n",
       "      <td>25</td>\n",
       "      <td>845</td>\n",
       "    </tr>\n",
       "    <tr>\n",
       "      <th>25</th>\n",
       "      <td>Stora Enso</td>\n",
       "      <td>Manufacturing</td>\n",
       "      <td>14.2</td>\n",
       "      <td>0.4</td>\n",
       "      <td>16.7</td>\n",
       "      <td>6.0</td>\n",
       "      <td>Helsinki</td>\n",
       "      <td>Finland</td>\n",
       "      <td>26</td>\n",
       "      <td>902</td>\n",
       "    </tr>\n",
       "    <tr>\n",
       "      <th>26</th>\n",
       "      <td>Svenska Cellulosa Aktiebolaget</td>\n",
       "      <td>Consumer Goods</td>\n",
       "      <td>11.8</td>\n",
       "      <td>0.1</td>\n",
       "      <td>20.2</td>\n",
       "      <td>12.5</td>\n",
       "      <td>Stockholm</td>\n",
       "      <td>Sweden</td>\n",
       "      <td>27</td>\n",
       "      <td>904</td>\n",
       "    </tr>\n",
       "    <tr>\n",
       "      <th>27</th>\n",
       "      <td>Kone</td>\n",
       "      <td>Engineering</td>\n",
       "      <td>9.5</td>\n",
       "      <td>1.2</td>\n",
       "      <td>8.4</td>\n",
       "      <td>14.9</td>\n",
       "      <td>Espoo</td>\n",
       "      <td>Finland</td>\n",
       "      <td>28</td>\n",
       "      <td>937</td>\n",
       "    </tr>\n",
       "    <tr>\n",
       "      <th>28</th>\n",
       "      <td>Electrolux</td>\n",
       "      <td>Manufacturing</td>\n",
       "      <td>14.7</td>\n",
       "      <td>0.3</td>\n",
       "      <td>10.7</td>\n",
       "      <td>6.8</td>\n",
       "      <td>Stockholm</td>\n",
       "      <td>Sweden</td>\n",
       "      <td>29</td>\n",
       "      <td>1098</td>\n",
       "    </tr>\n",
       "    <tr>\n",
       "      <th>29</th>\n",
       "      <td>Assa Abloy</td>\n",
       "      <td>Manufacturing</td>\n",
       "      <td>6.1</td>\n",
       "      <td>0.6</td>\n",
       "      <td>8.1</td>\n",
       "      <td>11.2</td>\n",
       "      <td>Stockholm</td>\n",
       "      <td>Sweden</td>\n",
       "      <td>30</td>\n",
       "      <td>1101</td>\n",
       "    </tr>\n",
       "    <tr>\n",
       "      <th>30</th>\n",
       "      <td>Investor</td>\n",
       "      <td>Diversified financials</td>\n",
       "      <td>2.8</td>\n",
       "      <td>-1.3</td>\n",
       "      <td>31.2</td>\n",
       "      <td>17.0</td>\n",
       "      <td>Stockholm</td>\n",
       "      <td>Sweden</td>\n",
       "      <td>32</td>\n",
       "      <td>1131</td>\n",
       "    </tr>\n",
       "    <tr>\n",
       "      <th>31</th>\n",
       "      <td>Tele2</td>\n",
       "      <td>Telecommunications</td>\n",
       "      <td>5.9</td>\n",
       "      <td>0.7</td>\n",
       "      <td>6.4</td>\n",
       "      <td>8.6</td>\n",
       "      <td>Stockholm</td>\n",
       "      <td>Sweden</td>\n",
       "      <td>32</td>\n",
       "      <td>1170</td>\n",
       "    </tr>\n",
       "    <tr>\n",
       "      <th>32</th>\n",
       "      <td>Metso</td>\n",
       "      <td>Capital goods</td>\n",
       "      <td>8.6</td>\n",
       "      <td>0.5</td>\n",
       "      <td>8.4</td>\n",
       "      <td>7.3</td>\n",
       "      <td>Helsinki</td>\n",
       "      <td>Finland</td>\n",
       "      <td>33</td>\n",
       "      <td>1175</td>\n",
       "    </tr>\n",
       "    <tr>\n",
       "      <th>33</th>\n",
       "      <td>Autoliv</td>\n",
       "      <td>Automotive</td>\n",
       "      <td>8.2</td>\n",
       "      <td>0.6</td>\n",
       "      <td>6.1</td>\n",
       "      <td>6.2</td>\n",
       "      <td>Stockholm</td>\n",
       "      <td>Sweden</td>\n",
       "      <td>34</td>\n",
       "      <td>1226</td>\n",
       "    </tr>\n",
       "    <tr>\n",
       "      <th>34</th>\n",
       "      <td>Orkla Group</td>\n",
       "      <td>Media</td>\n",
       "      <td>10.2</td>\n",
       "      <td>-0.1</td>\n",
       "      <td>11.1</td>\n",
       "      <td>8.2</td>\n",
       "      <td>Oslo</td>\n",
       "      <td>Norway</td>\n",
       "      <td>35</td>\n",
       "      <td>1254</td>\n",
       "    </tr>\n",
       "    <tr>\n",
       "      <th>35</th>\n",
       "      <td>Kinnevik</td>\n",
       "      <td>Investment</td>\n",
       "      <td>1.3</td>\n",
       "      <td>1.0</td>\n",
       "      <td>10.2</td>\n",
       "      <td>6.3</td>\n",
       "      <td>Stockholm</td>\n",
       "      <td>Sweden</td>\n",
       "      <td>36</td>\n",
       "      <td>1297</td>\n",
       "    </tr>\n",
       "    <tr>\n",
       "      <th>36</th>\n",
       "      <td>Storebrand</td>\n",
       "      <td>Insurance</td>\n",
       "      <td>5.6</td>\n",
       "      <td>0.1</td>\n",
       "      <td>67.2</td>\n",
       "      <td>2.4</td>\n",
       "      <td>Oslo</td>\n",
       "      <td>Norway</td>\n",
       "      <td>37</td>\n",
       "      <td>1363</td>\n",
       "    </tr>\n",
       "    <tr>\n",
       "      <th>37</th>\n",
       "      <td>TDC A/S</td>\n",
       "      <td>Telecommunications</td>\n",
       "      <td>4.6</td>\n",
       "      <td>0.5</td>\n",
       "      <td>11.4</td>\n",
       "      <td>6.0</td>\n",
       "      <td>Copenhagen</td>\n",
       "      <td>Denmark</td>\n",
       "      <td>38</td>\n",
       "      <td>1373</td>\n",
       "    </tr>\n",
       "    <tr>\n",
       "      <th>38</th>\n",
       "      <td>OP-Pohjola Group</td>\n",
       "      <td>Financial services</td>\n",
       "      <td>4.9</td>\n",
       "      <td>0.3</td>\n",
       "      <td>53.3</td>\n",
       "      <td>3.7</td>\n",
       "      <td>Helsinki</td>\n",
       "      <td>Finland</td>\n",
       "      <td>39</td>\n",
       "      <td>1376</td>\n",
       "    </tr>\n",
       "    <tr>\n",
       "      <th>39</th>\n",
       "      <td>Aker Solutions</td>\n",
       "      <td>Engineering</td>\n",
       "      <td>6.1</td>\n",
       "      <td>0.9</td>\n",
       "      <td>5.6</td>\n",
       "      <td>4.5</td>\n",
       "      <td>Oslo</td>\n",
       "      <td>Norway</td>\n",
       "      <td>40</td>\n",
       "      <td>1388</td>\n",
       "    </tr>\n",
       "    <tr>\n",
       "      <th>40</th>\n",
       "      <td>Gjensidige</td>\n",
       "      <td>Insurance</td>\n",
       "      <td>3.6</td>\n",
       "      <td>0.5</td>\n",
       "      <td>14.7</td>\n",
       "      <td>5.9</td>\n",
       "      <td>Oslo</td>\n",
       "      <td>Norway</td>\n",
       "      <td>41</td>\n",
       "      <td>1416</td>\n",
       "    </tr>\n",
       "    <tr>\n",
       "      <th>41</th>\n",
       "      <td>L E Lundbergföretagen</td>\n",
       "      <td>Investment</td>\n",
       "      <td>3.3</td>\n",
       "      <td>0.7</td>\n",
       "      <td>12.5</td>\n",
       "      <td>4.2</td>\n",
       "      <td>Stockholm</td>\n",
       "      <td>Sweden</td>\n",
       "      <td>42</td>\n",
       "      <td>1481</td>\n",
       "    </tr>\n",
       "    <tr>\n",
       "      <th>42</th>\n",
       "      <td>Alfa Laval</td>\n",
       "      <td>Manufacturing</td>\n",
       "      <td>4.2</td>\n",
       "      <td>0.5</td>\n",
       "      <td>4.8</td>\n",
       "      <td>8.7</td>\n",
       "      <td>Lund</td>\n",
       "      <td>Sweden</td>\n",
       "      <td>43</td>\n",
       "      <td>1488</td>\n",
       "    </tr>\n",
       "    <tr>\n",
       "      <th>43</th>\n",
       "      <td>Neste</td>\n",
       "      <td>Oil refining</td>\n",
       "      <td>20.0</td>\n",
       "      <td>0.2</td>\n",
       "      <td>9.4</td>\n",
       "      <td>3.1</td>\n",
       "      <td>Espoo</td>\n",
       "      <td>Finland</td>\n",
       "      <td>44</td>\n",
       "      <td>1495</td>\n",
       "    </tr>\n",
       "    <tr>\n",
       "      <th>44</th>\n",
       "      <td>Wärtsilä</td>\n",
       "      <td>Manufacturing</td>\n",
       "      <td>5.6</td>\n",
       "      <td>0.6</td>\n",
       "      <td>5.8</td>\n",
       "      <td>7.2</td>\n",
       "      <td>Helsinki</td>\n",
       "      <td>Finland</td>\n",
       "      <td>45</td>\n",
       "      <td>1506</td>\n",
       "    </tr>\n",
       "    <tr>\n",
       "      <th>45</th>\n",
       "      <td>Boliden AB</td>\n",
       "      <td>Mining</td>\n",
       "      <td>5.8</td>\n",
       "      <td>0.5</td>\n",
       "      <td>5.5</td>\n",
       "      <td>4.6</td>\n",
       "      <td>Stockholm</td>\n",
       "      <td>Sweden</td>\n",
       "      <td>46</td>\n",
       "      <td>1619</td>\n",
       "    </tr>\n",
       "    <tr>\n",
       "      <th>46</th>\n",
       "      <td>Jyske Bank</td>\n",
       "      <td>Banking</td>\n",
       "      <td>1.6</td>\n",
       "      <td>0.1</td>\n",
       "      <td>47.2</td>\n",
       "      <td>2.4</td>\n",
       "      <td>Silkeborg</td>\n",
       "      <td>Denmark</td>\n",
       "      <td>47</td>\n",
       "      <td>1686</td>\n",
       "    </tr>\n",
       "    <tr>\n",
       "      <th>47</th>\n",
       "      <td>Swedish Match</td>\n",
       "      <td>Tobacco</td>\n",
       "      <td>1.7</td>\n",
       "      <td>0.4</td>\n",
       "      <td>2.1</td>\n",
       "      <td>8.1</td>\n",
       "      <td>Stockholm</td>\n",
       "      <td>Sweden</td>\n",
       "      <td>48</td>\n",
       "      <td>1750</td>\n",
       "    </tr>\n",
       "    <tr>\n",
       "      <th>48</th>\n",
       "      <td>Hexagon AB</td>\n",
       "      <td>Technology</td>\n",
       "      <td>2.8</td>\n",
       "      <td>0.4</td>\n",
       "      <td>6.8</td>\n",
       "      <td>7.0</td>\n",
       "      <td>Stockholm</td>\n",
       "      <td>Sweden</td>\n",
       "      <td>49</td>\n",
       "      <td>1816</td>\n",
       "    </tr>\n",
       "    <tr>\n",
       "      <th>49</th>\n",
       "      <td>Nokian Tyres</td>\n",
       "      <td>Manufacturing</td>\n",
       "      <td>1.9</td>\n",
       "      <td>0.4</td>\n",
       "      <td>2.4</td>\n",
       "      <td>6.4</td>\n",
       "      <td>Nokia</td>\n",
       "      <td>Finland</td>\n",
       "      <td>50</td>\n",
       "      <td>1868</td>\n",
       "    </tr>\n",
       "    <tr>\n",
       "      <th>50</th>\n",
       "      <td>Kesko</td>\n",
       "      <td>Retail</td>\n",
       "      <td>12.3</td>\n",
       "      <td>0.2</td>\n",
       "      <td>5.4</td>\n",
       "      <td>3.2</td>\n",
       "      <td>Helsinki</td>\n",
       "      <td>Finland</td>\n",
       "      <td>51</td>\n",
       "      <td>1883</td>\n",
       "    </tr>\n",
       "    <tr>\n",
       "      <th>51</th>\n",
       "      <td>Novozymes</td>\n",
       "      <td>Health care</td>\n",
       "      <td>1.8</td>\n",
       "      <td>0.3</td>\n",
       "      <td>2.4</td>\n",
       "      <td>7.9</td>\n",
       "      <td>Copenhagen</td>\n",
       "      <td>Denmark</td>\n",
       "      <td>52</td>\n",
       "      <td>1889</td>\n",
       "    </tr>\n",
       "    <tr>\n",
       "      <th>52</th>\n",
       "      <td>Sydbank</td>\n",
       "      <td>Banking</td>\n",
       "      <td>1.0</td>\n",
       "      <td>0.0</td>\n",
       "      <td>26.8</td>\n",
       "      <td>1.4</td>\n",
       "      <td>Aabenraa</td>\n",
       "      <td>Denmark</td>\n",
       "      <td>53</td>\n",
       "      <td>1929</td>\n",
       "    </tr>\n",
       "    <tr>\n",
       "      <th>53</th>\n",
       "      <td>Getinge Group</td>\n",
       "      <td>Medical technology</td>\n",
       "      <td>3.2</td>\n",
       "      <td>0.4</td>\n",
       "      <td>6.0</td>\n",
       "      <td>6.6</td>\n",
       "      <td>Getinge</td>\n",
       "      <td>Sweden</td>\n",
       "      <td>54</td>\n",
       "      <td>1935</td>\n",
       "    </tr>\n",
       "    <tr>\n",
       "      <th>54</th>\n",
       "      <td>Coloplast</td>\n",
       "      <td>Medical equipment</td>\n",
       "      <td>1.8</td>\n",
       "      <td>0.3</td>\n",
       "      <td>1.6</td>\n",
       "      <td>7.3</td>\n",
       "      <td>Copenhagen</td>\n",
       "      <td>Denmark</td>\n",
       "      <td>55</td>\n",
       "      <td>1937</td>\n",
       "    </tr>\n",
       "    <tr>\n",
       "      <th>55</th>\n",
       "      <td>Vestas</td>\n",
       "      <td>Manufacturing</td>\n",
       "      <td>7.6</td>\n",
       "      <td>-0.2</td>\n",
       "      <td>9.6</td>\n",
       "      <td>2.3</td>\n",
       "      <td>Aarhus</td>\n",
       "      <td>Denmark</td>\n",
       "      <td>56</td>\n",
       "      <td>1948</td>\n",
       "    </tr>\n",
       "  </tbody>\n",
       "</table>\n",
       "</div>"
      ],
      "text/plain": [
       "                           Company                Industry  \\\n",
       "0                          Equinor             Oil and gas   \n",
       "1                           Nordea                 Banking   \n",
       "2               A.P. Møller-Maersk          Transportation   \n",
       "3                            Volvo              Automotive   \n",
       "4                         Ericsson       Telecommunication   \n",
       "5                              DNB   Diversified financial   \n",
       "6                              SEB                 Banking   \n",
       "7                    Handelsbanken                 Banking   \n",
       "8                            Telia      Telecommunications   \n",
       "9                         Swedbank                 Banking   \n",
       "10                         Telenor       Telecommunication   \n",
       "11                          Fortum               Utilities   \n",
       "12                    Novo Nordisk             Health care   \n",
       "13                             H&M               Retailing   \n",
       "14                     Danske Bank                 Banking   \n",
       "15                     Sampo Group               Insurance   \n",
       "16                     Norsk Hydro              Industrial   \n",
       "17                     Atlas Copco           Capital goods   \n",
       "18                 Carlsberg Group                 Brewery   \n",
       "19                           Nokia              Technology   \n",
       "20              Yara International       Chemical industry   \n",
       "21                         Sandvik           Capital goods   \n",
       "22                         Skanska            Construction   \n",
       "23                     UPM-Kymmene               Materials   \n",
       "24                             SKF           Manufacturing   \n",
       "25                      Stora Enso           Manufacturing   \n",
       "26  Svenska Cellulosa Aktiebolaget          Consumer Goods   \n",
       "27                            Kone             Engineering   \n",
       "28                      Electrolux           Manufacturing   \n",
       "29                      Assa Abloy           Manufacturing   \n",
       "30                        Investor  Diversified financials   \n",
       "31                           Tele2      Telecommunications   \n",
       "32                           Metso           Capital goods   \n",
       "33                         Autoliv              Automotive   \n",
       "34                     Orkla Group                   Media   \n",
       "35                        Kinnevik              Investment   \n",
       "36                      Storebrand               Insurance   \n",
       "37                         TDC A/S      Telecommunications   \n",
       "38                OP-Pohjola Group      Financial services   \n",
       "39                  Aker Solutions             Engineering   \n",
       "40                      Gjensidige               Insurance   \n",
       "41           L E Lundbergföretagen              Investment   \n",
       "42                      Alfa Laval           Manufacturing   \n",
       "43                           Neste            Oil refining   \n",
       "44                        Wärtsilä           Manufacturing   \n",
       "45                      Boliden AB                  Mining   \n",
       "46                      Jyske Bank                 Banking   \n",
       "47                   Swedish Match                 Tobacco   \n",
       "48                      Hexagon AB              Technology   \n",
       "49                    Nokian Tyres           Manufacturing   \n",
       "50                           Kesko                  Retail   \n",
       "51                       Novozymes             Health care   \n",
       "52                         Sydbank                 Banking   \n",
       "53                   Getinge Group      Medical technology   \n",
       "54                       Coloplast       Medical equipment   \n",
       "55                          Vestas           Manufacturing   \n",
       "\n",
       "    Revenue (billion $)  Profits (billion $)  Assets (billion $)  \\\n",
       "0                 111.6                 13.1               127.8   \n",
       "1                  21.7                  3.4               933.8   \n",
       "2                  56.1                  2.6                69.8   \n",
       "3                  45.0                  2.6                49.7   \n",
       "4                  32.9                  1.8                19.0   \n",
       "5                  11.6                  2.2               356.1   \n",
       "6                  13.5                  1.6               344.5   \n",
       "7                  10.9                  1.8               358.0   \n",
       "8                  15.1                  2.7                35.9   \n",
       "9                  10.3                  1.7               270.8   \n",
       "10                 16.4                  1.3                27.8   \n",
       "11                  3.9                  0.9                29.7   \n",
       "12                 11.6                  3.0                10.9   \n",
       "13                 16.3                  2.3                 8.7   \n",
       "14                 20.0                  0.3               597.8   \n",
       "15                  7.2                  1.3                38.3   \n",
       "16                 16.3                  1.1                22.2   \n",
       "17                 13.6                  0.8                14.4   \n",
       "18                 11.1                  0.9                25.6   \n",
       "19                 50.1                 -1.5                44.6   \n",
       "20                 13.0                  2.0                12.1   \n",
       "21                 13.6                  0.8                14.4   \n",
       "22                 17.2                  1.1                11.8   \n",
       "23                 13.0                  0.6                19.3   \n",
       "24                  9.6                  0.9                 8.5   \n",
       "25                 14.2                  0.4                16.7   \n",
       "26                 11.8                  0.1                20.2   \n",
       "27                  9.5                  1.2                 8.4   \n",
       "28                 14.7                  0.3                10.7   \n",
       "29                  6.1                  0.6                 8.1   \n",
       "30                  2.8                 -1.3                31.2   \n",
       "31                  5.9                  0.7                 6.4   \n",
       "32                  8.6                  0.5                 8.4   \n",
       "33                  8.2                  0.6                 6.1   \n",
       "34                 10.2                 -0.1                11.1   \n",
       "35                  1.3                  1.0                10.2   \n",
       "36                  5.6                  0.1                67.2   \n",
       "37                  4.6                  0.5                11.4   \n",
       "38                  4.9                  0.3                53.3   \n",
       "39                  6.1                  0.9                 5.6   \n",
       "40                  3.6                  0.5                14.7   \n",
       "41                  3.3                  0.7                12.5   \n",
       "42                  4.2                  0.5                 4.8   \n",
       "43                 20.0                  0.2                 9.4   \n",
       "44                  5.6                  0.6                 5.8   \n",
       "45                  5.8                  0.5                 5.5   \n",
       "46                  1.6                  0.1                47.2   \n",
       "47                  1.7                  0.4                 2.1   \n",
       "48                  2.8                  0.4                 6.8   \n",
       "49                  1.9                  0.4                 2.4   \n",
       "50                 12.3                  0.2                 5.4   \n",
       "51                  1.8                  0.3                 2.4   \n",
       "52                  1.0                  0.0                26.8   \n",
       "53                  3.2                  0.4                 6.0   \n",
       "54                  1.8                  0.3                 1.6   \n",
       "55                  7.6                 -0.2                 9.6   \n",
       "\n",
       "    Market value (billion $)        City  Country  Top company in Nordic  \\\n",
       "0                       81.4   Stavanger   Norway                      1   \n",
       "1                       39.7    Helsinki  Finland                      2   \n",
       "2                       33.7  Copenhagen  Denmark                      3   \n",
       "3                       30.2  Gothenburg   Sweden                      4   \n",
       "4                       19.4   Stockholm   Sweden                      5   \n",
       "5                       21.1        Oslo   Norway                      6   \n",
       "6                       19.2   Stockholm   Sweden                      7   \n",
       "7                       23.2   Stockholm   Sweden                      8   \n",
       "8                       30.0   Stockholm   Sweden                      9   \n",
       "9                       19.1   Stockholm   Sweden                     10   \n",
       "10                      33.9     Fornebu   Norway                     11   \n",
       "11                      16.8       Espoo  Finland                     12   \n",
       "12                      90.3  Copenhagen  Denmark                     13   \n",
       "13                      61.6   Stockholm   Sweden                     14   \n",
       "14                      15.8  Copenhagen  Denmark                     15   \n",
       "15                      16.3    Helsinki  Finland                     16   \n",
       "16                      11.7        Oslo   Norway                     17   \n",
       "17                      19.0   Stockholm   Sweden                     18   \n",
       "18                      12.8  Copenhagen  Denmark                     19   \n",
       "19                      32.8       Espoo  Finland                     20   \n",
       "20                      13.3        Oslo   Norway                     21   \n",
       "21                      19.0   Sandviken   Sweden                     22   \n",
       "22                       7.5   Stockholm   Sweden                     23   \n",
       "23                       7.2    Helsinki  Finland                     24   \n",
       "24                      11.5  Gothenburg   Sweden                     25   \n",
       "25                       6.0    Helsinki  Finland                     26   \n",
       "26                      12.5   Stockholm   Sweden                     27   \n",
       "27                      14.9       Espoo  Finland                     28   \n",
       "28                       6.8   Stockholm   Sweden                     29   \n",
       "29                      11.2   Stockholm   Sweden                     30   \n",
       "30                      17.0   Stockholm   Sweden                     32   \n",
       "31                       8.6   Stockholm   Sweden                     32   \n",
       "32                       7.3    Helsinki  Finland                     33   \n",
       "33                       6.2   Stockholm   Sweden                     34   \n",
       "34                       8.2        Oslo   Norway                     35   \n",
       "35                       6.3   Stockholm   Sweden                     36   \n",
       "36                       2.4        Oslo   Norway                     37   \n",
       "37                       6.0  Copenhagen  Denmark                     38   \n",
       "38                       3.7    Helsinki  Finland                     39   \n",
       "39                       4.5        Oslo   Norway                     40   \n",
       "40                       5.9        Oslo   Norway                     41   \n",
       "41                       4.2   Stockholm   Sweden                     42   \n",
       "42                       8.7        Lund   Sweden                     43   \n",
       "43                       3.1       Espoo  Finland                     44   \n",
       "44                       7.2    Helsinki  Finland                     45   \n",
       "45                       4.6   Stockholm   Sweden                     46   \n",
       "46                       2.4   Silkeborg  Denmark                     47   \n",
       "47                       8.1   Stockholm   Sweden                     48   \n",
       "48                       7.0   Stockholm   Sweden                     49   \n",
       "49                       6.4       Nokia  Finland                     50   \n",
       "50                       3.2    Helsinki  Finland                     51   \n",
       "51                       7.9  Copenhagen  Denmark                     52   \n",
       "52                       1.4    Aabenraa  Denmark                     53   \n",
       "53                       6.6     Getinge   Sweden                     54   \n",
       "54                       7.3  Copenhagen  Denmark                     55   \n",
       "55                       2.3      Aarhus  Denmark                     56   \n",
       "\n",
       "    Forbes top 2000 company  \n",
       "0                        41  \n",
       "1                       135  \n",
       "2                       152  \n",
       "3                       183  \n",
       "4                       239  \n",
       "5                       260  \n",
       "6                       280  \n",
       "7                       282  \n",
       "8                       294  \n",
       "9                       311  \n",
       "10                      353  \n",
       "11                      432  \n",
       "12                      466  \n",
       "13                      489  \n",
       "14                      498  \n",
       "15                      503  \n",
       "16                      504  \n",
       "17                      528  \n",
       "18                      563  \n",
       "19                      573  \n",
       "20                      574  \n",
       "21                      578  \n",
       "22                      707  \n",
       "23                      765  \n",
       "24                      845  \n",
       "25                      902  \n",
       "26                      904  \n",
       "27                      937  \n",
       "28                     1098  \n",
       "29                     1101  \n",
       "30                     1131  \n",
       "31                     1170  \n",
       "32                     1175  \n",
       "33                     1226  \n",
       "34                     1254  \n",
       "35                     1297  \n",
       "36                     1363  \n",
       "37                     1373  \n",
       "38                     1376  \n",
       "39                     1388  \n",
       "40                     1416  \n",
       "41                     1481  \n",
       "42                     1488  \n",
       "43                     1495  \n",
       "44                     1506  \n",
       "45                     1619  \n",
       "46                     1686  \n",
       "47                     1750  \n",
       "48                     1816  \n",
       "49                     1868  \n",
       "50                     1883  \n",
       "51                     1889  \n",
       "52                     1929  \n",
       "53                     1935  \n",
       "54                     1937  \n",
       "55                     1948  "
      ]
     },
     "execution_count": 39,
     "metadata": {},
     "output_type": "execute_result"
    }
   ],
   "source": [
    "df.reset_index(drop= True)"
   ]
  },
  {
   "cell_type": "code",
   "execution_count": 40,
   "id": "a35f850e",
   "metadata": {},
   "outputs": [
    {
     "data": {
      "text/plain": [
       "array(['Oil and gas', 'Banking', 'Transportation', 'Automotive',\n",
       "       'Telecommunication', 'Diversified financial', 'Telecommunications',\n",
       "       'Utilities', 'Health care', 'Retailing', 'Insurance', 'Industrial',\n",
       "       'Capital goods', 'Brewery', 'Technology', 'Chemical industry',\n",
       "       'Construction', 'Materials', 'Manufacturing', 'Consumer Goods',\n",
       "       'Engineering', 'Diversified financials', 'Media', 'Investment',\n",
       "       'Financial services', 'Oil refining', 'Mining', 'Tobacco',\n",
       "       'Retail', 'Medical technology', 'Medical equipment'], dtype=object)"
      ]
     },
     "execution_count": 40,
     "metadata": {},
     "output_type": "execute_result"
    }
   ],
   "source": [
    "df[\"Industry\"].unique()\n"
   ]
  },
  {
   "cell_type": "code",
   "execution_count": 41,
   "id": "515e1f02",
   "metadata": {},
   "outputs": [
    {
     "data": {
      "text/html": [
       "<div>\n",
       "<style scoped>\n",
       "    .dataframe tbody tr th:only-of-type {\n",
       "        vertical-align: middle;\n",
       "    }\n",
       "\n",
       "    .dataframe tbody tr th {\n",
       "        vertical-align: top;\n",
       "    }\n",
       "\n",
       "    .dataframe thead th {\n",
       "        text-align: right;\n",
       "    }\n",
       "</style>\n",
       "<table border=\"1\" class=\"dataframe\">\n",
       "  <thead>\n",
       "    <tr style=\"text-align: right;\">\n",
       "      <th></th>\n",
       "      <th>Company</th>\n",
       "      <th>Country</th>\n",
       "      <th>Revenue (billion $)</th>\n",
       "    </tr>\n",
       "  </thead>\n",
       "  <tbody>\n",
       "    <tr>\n",
       "      <th>19</th>\n",
       "      <td>Nokia</td>\n",
       "      <td>Finland</td>\n",
       "      <td>50.1</td>\n",
       "    </tr>\n",
       "    <tr>\n",
       "      <th>48</th>\n",
       "      <td>Hexagon AB</td>\n",
       "      <td>Sweden</td>\n",
       "      <td>2.8</td>\n",
       "    </tr>\n",
       "  </tbody>\n",
       "</table>\n",
       "</div>"
      ],
      "text/plain": [
       "       Company  Country  Revenue (billion $)\n",
       "19       Nokia  Finland                 50.1\n",
       "48  Hexagon AB   Sweden                  2.8"
      ]
     },
     "execution_count": 41,
     "metadata": {},
     "output_type": "execute_result"
    }
   ],
   "source": [
    "def filter_data(df, industry= \"Banking\", metric= \"Revenue (billion $)\"):\n",
    "    filter_ = df[df[\"Industry\"] == industry]\n",
    "    \n",
    "\n",
    "    \n",
    "    return filter_[[\"Company\", \"Country\", metric]]\n",
    "\n",
    "filter_data(df, \"Technology\")"
   ]
  },
  {
   "cell_type": "code",
   "execution_count": 42,
   "id": "3f6d3dfa",
   "metadata": {},
   "outputs": [
    {
     "data": {
      "application/vnd.plotly.v1+json": {
       "config": {
        "plotlyServerURL": "https://plot.ly"
       },
       "data": [
        {
         "hovertemplate": "Company=%{x}<br>Revenue (billion $)=%{y}<extra></extra>",
         "legendgroup": "",
         "marker": {
          "color": "#636efa",
          "pattern": {
           "shape": ""
          }
         },
         "name": "",
         "orientation": "v",
         "showlegend": false,
         "textposition": "auto",
         "type": "bar",
         "x": [
          "Equinor",
          "Nordea",
          "A.P. Møller-Maersk",
          "Volvo",
          "Ericsson"
         ],
         "xaxis": "x",
         "y": {
          "bdata": "ZmZmZmbmW0AzMzMzM7M1QM3MzMzMDExAAAAAAACARkAzMzMzM3NAQA==",
          "dtype": "f8"
         },
         "yaxis": "y"
        }
       ],
       "layout": {
        "barmode": "relative",
        "legend": {
         "tracegroupgap": 0
        },
        "margin": {
         "t": 60
        },
        "template": {
         "data": {
          "bar": [
           {
            "error_x": {
             "color": "#2a3f5f"
            },
            "error_y": {
             "color": "#2a3f5f"
            },
            "marker": {
             "line": {
              "color": "#E5ECF6",
              "width": 0.5
             },
             "pattern": {
              "fillmode": "overlay",
              "size": 10,
              "solidity": 0.2
             }
            },
            "type": "bar"
           }
          ],
          "barpolar": [
           {
            "marker": {
             "line": {
              "color": "#E5ECF6",
              "width": 0.5
             },
             "pattern": {
              "fillmode": "overlay",
              "size": 10,
              "solidity": 0.2
             }
            },
            "type": "barpolar"
           }
          ],
          "carpet": [
           {
            "aaxis": {
             "endlinecolor": "#2a3f5f",
             "gridcolor": "white",
             "linecolor": "white",
             "minorgridcolor": "white",
             "startlinecolor": "#2a3f5f"
            },
            "baxis": {
             "endlinecolor": "#2a3f5f",
             "gridcolor": "white",
             "linecolor": "white",
             "minorgridcolor": "white",
             "startlinecolor": "#2a3f5f"
            },
            "type": "carpet"
           }
          ],
          "choropleth": [
           {
            "colorbar": {
             "outlinewidth": 0,
             "ticks": ""
            },
            "type": "choropleth"
           }
          ],
          "contour": [
           {
            "colorbar": {
             "outlinewidth": 0,
             "ticks": ""
            },
            "colorscale": [
             [
              0,
              "#0d0887"
             ],
             [
              0.1111111111111111,
              "#46039f"
             ],
             [
              0.2222222222222222,
              "#7201a8"
             ],
             [
              0.3333333333333333,
              "#9c179e"
             ],
             [
              0.4444444444444444,
              "#bd3786"
             ],
             [
              0.5555555555555556,
              "#d8576b"
             ],
             [
              0.6666666666666666,
              "#ed7953"
             ],
             [
              0.7777777777777778,
              "#fb9f3a"
             ],
             [
              0.8888888888888888,
              "#fdca26"
             ],
             [
              1,
              "#f0f921"
             ]
            ],
            "type": "contour"
           }
          ],
          "contourcarpet": [
           {
            "colorbar": {
             "outlinewidth": 0,
             "ticks": ""
            },
            "type": "contourcarpet"
           }
          ],
          "heatmap": [
           {
            "colorbar": {
             "outlinewidth": 0,
             "ticks": ""
            },
            "colorscale": [
             [
              0,
              "#0d0887"
             ],
             [
              0.1111111111111111,
              "#46039f"
             ],
             [
              0.2222222222222222,
              "#7201a8"
             ],
             [
              0.3333333333333333,
              "#9c179e"
             ],
             [
              0.4444444444444444,
              "#bd3786"
             ],
             [
              0.5555555555555556,
              "#d8576b"
             ],
             [
              0.6666666666666666,
              "#ed7953"
             ],
             [
              0.7777777777777778,
              "#fb9f3a"
             ],
             [
              0.8888888888888888,
              "#fdca26"
             ],
             [
              1,
              "#f0f921"
             ]
            ],
            "type": "heatmap"
           }
          ],
          "histogram": [
           {
            "marker": {
             "pattern": {
              "fillmode": "overlay",
              "size": 10,
              "solidity": 0.2
             }
            },
            "type": "histogram"
           }
          ],
          "histogram2d": [
           {
            "colorbar": {
             "outlinewidth": 0,
             "ticks": ""
            },
            "colorscale": [
             [
              0,
              "#0d0887"
             ],
             [
              0.1111111111111111,
              "#46039f"
             ],
             [
              0.2222222222222222,
              "#7201a8"
             ],
             [
              0.3333333333333333,
              "#9c179e"
             ],
             [
              0.4444444444444444,
              "#bd3786"
             ],
             [
              0.5555555555555556,
              "#d8576b"
             ],
             [
              0.6666666666666666,
              "#ed7953"
             ],
             [
              0.7777777777777778,
              "#fb9f3a"
             ],
             [
              0.8888888888888888,
              "#fdca26"
             ],
             [
              1,
              "#f0f921"
             ]
            ],
            "type": "histogram2d"
           }
          ],
          "histogram2dcontour": [
           {
            "colorbar": {
             "outlinewidth": 0,
             "ticks": ""
            },
            "colorscale": [
             [
              0,
              "#0d0887"
             ],
             [
              0.1111111111111111,
              "#46039f"
             ],
             [
              0.2222222222222222,
              "#7201a8"
             ],
             [
              0.3333333333333333,
              "#9c179e"
             ],
             [
              0.4444444444444444,
              "#bd3786"
             ],
             [
              0.5555555555555556,
              "#d8576b"
             ],
             [
              0.6666666666666666,
              "#ed7953"
             ],
             [
              0.7777777777777778,
              "#fb9f3a"
             ],
             [
              0.8888888888888888,
              "#fdca26"
             ],
             [
              1,
              "#f0f921"
             ]
            ],
            "type": "histogram2dcontour"
           }
          ],
          "mesh3d": [
           {
            "colorbar": {
             "outlinewidth": 0,
             "ticks": ""
            },
            "type": "mesh3d"
           }
          ],
          "parcoords": [
           {
            "line": {
             "colorbar": {
              "outlinewidth": 0,
              "ticks": ""
             }
            },
            "type": "parcoords"
           }
          ],
          "pie": [
           {
            "automargin": true,
            "type": "pie"
           }
          ],
          "scatter": [
           {
            "fillpattern": {
             "fillmode": "overlay",
             "size": 10,
             "solidity": 0.2
            },
            "type": "scatter"
           }
          ],
          "scatter3d": [
           {
            "line": {
             "colorbar": {
              "outlinewidth": 0,
              "ticks": ""
             }
            },
            "marker": {
             "colorbar": {
              "outlinewidth": 0,
              "ticks": ""
             }
            },
            "type": "scatter3d"
           }
          ],
          "scattercarpet": [
           {
            "marker": {
             "colorbar": {
              "outlinewidth": 0,
              "ticks": ""
             }
            },
            "type": "scattercarpet"
           }
          ],
          "scattergeo": [
           {
            "marker": {
             "colorbar": {
              "outlinewidth": 0,
              "ticks": ""
             }
            },
            "type": "scattergeo"
           }
          ],
          "scattergl": [
           {
            "marker": {
             "colorbar": {
              "outlinewidth": 0,
              "ticks": ""
             }
            },
            "type": "scattergl"
           }
          ],
          "scattermap": [
           {
            "marker": {
             "colorbar": {
              "outlinewidth": 0,
              "ticks": ""
             }
            },
            "type": "scattermap"
           }
          ],
          "scattermapbox": [
           {
            "marker": {
             "colorbar": {
              "outlinewidth": 0,
              "ticks": ""
             }
            },
            "type": "scattermapbox"
           }
          ],
          "scatterpolar": [
           {
            "marker": {
             "colorbar": {
              "outlinewidth": 0,
              "ticks": ""
             }
            },
            "type": "scatterpolar"
           }
          ],
          "scatterpolargl": [
           {
            "marker": {
             "colorbar": {
              "outlinewidth": 0,
              "ticks": ""
             }
            },
            "type": "scatterpolargl"
           }
          ],
          "scatterternary": [
           {
            "marker": {
             "colorbar": {
              "outlinewidth": 0,
              "ticks": ""
             }
            },
            "type": "scatterternary"
           }
          ],
          "surface": [
           {
            "colorbar": {
             "outlinewidth": 0,
             "ticks": ""
            },
            "colorscale": [
             [
              0,
              "#0d0887"
             ],
             [
              0.1111111111111111,
              "#46039f"
             ],
             [
              0.2222222222222222,
              "#7201a8"
             ],
             [
              0.3333333333333333,
              "#9c179e"
             ],
             [
              0.4444444444444444,
              "#bd3786"
             ],
             [
              0.5555555555555556,
              "#d8576b"
             ],
             [
              0.6666666666666666,
              "#ed7953"
             ],
             [
              0.7777777777777778,
              "#fb9f3a"
             ],
             [
              0.8888888888888888,
              "#fdca26"
             ],
             [
              1,
              "#f0f921"
             ]
            ],
            "type": "surface"
           }
          ],
          "table": [
           {
            "cells": {
             "fill": {
              "color": "#EBF0F8"
             },
             "line": {
              "color": "white"
             }
            },
            "header": {
             "fill": {
              "color": "#C8D4E3"
             },
             "line": {
              "color": "white"
             }
            },
            "type": "table"
           }
          ]
         },
         "layout": {
          "annotationdefaults": {
           "arrowcolor": "#2a3f5f",
           "arrowhead": 0,
           "arrowwidth": 1
          },
          "autotypenumbers": "strict",
          "coloraxis": {
           "colorbar": {
            "outlinewidth": 0,
            "ticks": ""
           }
          },
          "colorscale": {
           "diverging": [
            [
             0,
             "#8e0152"
            ],
            [
             0.1,
             "#c51b7d"
            ],
            [
             0.2,
             "#de77ae"
            ],
            [
             0.3,
             "#f1b6da"
            ],
            [
             0.4,
             "#fde0ef"
            ],
            [
             0.5,
             "#f7f7f7"
            ],
            [
             0.6,
             "#e6f5d0"
            ],
            [
             0.7,
             "#b8e186"
            ],
            [
             0.8,
             "#7fbc41"
            ],
            [
             0.9,
             "#4d9221"
            ],
            [
             1,
             "#276419"
            ]
           ],
           "sequential": [
            [
             0,
             "#0d0887"
            ],
            [
             0.1111111111111111,
             "#46039f"
            ],
            [
             0.2222222222222222,
             "#7201a8"
            ],
            [
             0.3333333333333333,
             "#9c179e"
            ],
            [
             0.4444444444444444,
             "#bd3786"
            ],
            [
             0.5555555555555556,
             "#d8576b"
            ],
            [
             0.6666666666666666,
             "#ed7953"
            ],
            [
             0.7777777777777778,
             "#fb9f3a"
            ],
            [
             0.8888888888888888,
             "#fdca26"
            ],
            [
             1,
             "#f0f921"
            ]
           ],
           "sequentialminus": [
            [
             0,
             "#0d0887"
            ],
            [
             0.1111111111111111,
             "#46039f"
            ],
            [
             0.2222222222222222,
             "#7201a8"
            ],
            [
             0.3333333333333333,
             "#9c179e"
            ],
            [
             0.4444444444444444,
             "#bd3786"
            ],
            [
             0.5555555555555556,
             "#d8576b"
            ],
            [
             0.6666666666666666,
             "#ed7953"
            ],
            [
             0.7777777777777778,
             "#fb9f3a"
            ],
            [
             0.8888888888888888,
             "#fdca26"
            ],
            [
             1,
             "#f0f921"
            ]
           ]
          },
          "colorway": [
           "#636efa",
           "#EF553B",
           "#00cc96",
           "#ab63fa",
           "#FFA15A",
           "#19d3f3",
           "#FF6692",
           "#B6E880",
           "#FF97FF",
           "#FECB52"
          ],
          "font": {
           "color": "#2a3f5f"
          },
          "geo": {
           "bgcolor": "white",
           "lakecolor": "white",
           "landcolor": "#E5ECF6",
           "showlakes": true,
           "showland": true,
           "subunitcolor": "white"
          },
          "hoverlabel": {
           "align": "left"
          },
          "hovermode": "closest",
          "mapbox": {
           "style": "light"
          },
          "paper_bgcolor": "white",
          "plot_bgcolor": "#E5ECF6",
          "polar": {
           "angularaxis": {
            "gridcolor": "white",
            "linecolor": "white",
            "ticks": ""
           },
           "bgcolor": "#E5ECF6",
           "radialaxis": {
            "gridcolor": "white",
            "linecolor": "white",
            "ticks": ""
           }
          },
          "scene": {
           "xaxis": {
            "backgroundcolor": "#E5ECF6",
            "gridcolor": "white",
            "gridwidth": 2,
            "linecolor": "white",
            "showbackground": true,
            "ticks": "",
            "zerolinecolor": "white"
           },
           "yaxis": {
            "backgroundcolor": "#E5ECF6",
            "gridcolor": "white",
            "gridwidth": 2,
            "linecolor": "white",
            "showbackground": true,
            "ticks": "",
            "zerolinecolor": "white"
           },
           "zaxis": {
            "backgroundcolor": "#E5ECF6",
            "gridcolor": "white",
            "gridwidth": 2,
            "linecolor": "white",
            "showbackground": true,
            "ticks": "",
            "zerolinecolor": "white"
           }
          },
          "shapedefaults": {
           "line": {
            "color": "#2a3f5f"
           }
          },
          "ternary": {
           "aaxis": {
            "gridcolor": "white",
            "linecolor": "white",
            "ticks": ""
           },
           "baxis": {
            "gridcolor": "white",
            "linecolor": "white",
            "ticks": ""
           },
           "bgcolor": "#E5ECF6",
           "caxis": {
            "gridcolor": "white",
            "linecolor": "white",
            "ticks": ""
           }
          },
          "title": {
           "x": 0.05
          },
          "xaxis": {
           "automargin": true,
           "gridcolor": "white",
           "linecolor": "white",
           "ticks": "",
           "title": {
            "standoff": 15
           },
           "zerolinecolor": "white",
           "zerolinewidth": 2
          },
          "yaxis": {
           "automargin": true,
           "gridcolor": "white",
           "linecolor": "white",
           "ticks": "",
           "title": {
            "standoff": 15
           },
           "zerolinecolor": "white",
           "zerolinewidth": 2
          }
         }
        },
        "xaxis": {
         "anchor": "y",
         "domain": [
          0,
          1
         ],
         "title": {
          "text": "Company"
         }
        },
        "yaxis": {
         "anchor": "x",
         "domain": [
          0,
          1
         ],
         "title": {
          "text": "Revenue (billion $)"
         }
        }
       }
      }
     },
     "metadata": {},
     "output_type": "display_data"
    }
   ],
   "source": [
    "import plotly.express as px\n",
    "\n",
    "def create_bar_chart(df):\n",
    "    \n",
    "\n",
    "    \n",
    "    \n",
    "    fig = px.bar(df.head(), x= df[\"Company\"].head(), y= df[\"Revenue (billion $)\"].head())\n",
    "    \n",
    "    fig\n",
    "    \n",
    "    \n",
    "    \n",
    "    fig.show()\n",
    "    \n",
    "create_bar_chart(df)"
   ]
  },
  {
   "cell_type": "code",
   "execution_count": null,
   "id": "2e050173",
   "metadata": {},
   "outputs": [],
   "source": []
  },
  {
   "cell_type": "code",
   "execution_count": 43,
   "id": "e0475b8c",
   "metadata": {},
   "outputs": [],
   "source": [
    "df.to_csv(\"../data/filter_nordic_company_ranking.csv\", index= False)"
   ]
  },
  {
   "cell_type": "code",
   "execution_count": null,
   "id": "c634f654",
   "metadata": {},
   "outputs": [
    {
     "data": {
      "text/html": [
       "<div>\n",
       "<style scoped>\n",
       "    .dataframe tbody tr th:only-of-type {\n",
       "        vertical-align: middle;\n",
       "    }\n",
       "\n",
       "    .dataframe tbody tr th {\n",
       "        vertical-align: top;\n",
       "    }\n",
       "\n",
       "    .dataframe thead th {\n",
       "        text-align: right;\n",
       "    }\n",
       "</style>\n",
       "<table border=\"1\" class=\"dataframe\">\n",
       "  <thead>\n",
       "    <tr style=\"text-align: right;\">\n",
       "      <th></th>\n",
       "      <th>Company</th>\n",
       "      <th>Industry</th>\n",
       "      <th>Revenue (billion $)</th>\n",
       "      <th>Profits (billion $)</th>\n",
       "      <th>Assets (billion $)</th>\n",
       "      <th>Market value (billion $)</th>\n",
       "      <th>City</th>\n",
       "      <th>Country</th>\n",
       "      <th>Top company in Nordic</th>\n",
       "      <th>Forbes top 2000 company</th>\n",
       "    </tr>\n",
       "  </thead>\n",
       "  <tbody>\n",
       "    <tr>\n",
       "      <th>1</th>\n",
       "      <td>Nordea</td>\n",
       "      <td>Banking</td>\n",
       "      <td>21.7</td>\n",
       "      <td>3.4</td>\n",
       "      <td>933.8</td>\n",
       "      <td>39.7</td>\n",
       "      <td>Helsinki</td>\n",
       "      <td>Finland</td>\n",
       "      <td>2</td>\n",
       "      <td>135</td>\n",
       "    </tr>\n",
       "    <tr>\n",
       "      <th>6</th>\n",
       "      <td>SEB</td>\n",
       "      <td>Banking</td>\n",
       "      <td>13.5</td>\n",
       "      <td>1.6</td>\n",
       "      <td>344.5</td>\n",
       "      <td>19.2</td>\n",
       "      <td>Stockholm</td>\n",
       "      <td>Sweden</td>\n",
       "      <td>7</td>\n",
       "      <td>280</td>\n",
       "    </tr>\n",
       "    <tr>\n",
       "      <th>7</th>\n",
       "      <td>Handelsbanken</td>\n",
       "      <td>Banking</td>\n",
       "      <td>10.9</td>\n",
       "      <td>1.8</td>\n",
       "      <td>358.0</td>\n",
       "      <td>23.2</td>\n",
       "      <td>Stockholm</td>\n",
       "      <td>Sweden</td>\n",
       "      <td>8</td>\n",
       "      <td>282</td>\n",
       "    </tr>\n",
       "    <tr>\n",
       "      <th>9</th>\n",
       "      <td>Swedbank</td>\n",
       "      <td>Banking</td>\n",
       "      <td>10.3</td>\n",
       "      <td>1.7</td>\n",
       "      <td>270.8</td>\n",
       "      <td>19.1</td>\n",
       "      <td>Stockholm</td>\n",
       "      <td>Sweden</td>\n",
       "      <td>10</td>\n",
       "      <td>311</td>\n",
       "    </tr>\n",
       "    <tr>\n",
       "      <th>14</th>\n",
       "      <td>Danske Bank</td>\n",
       "      <td>Banking</td>\n",
       "      <td>20.0</td>\n",
       "      <td>0.3</td>\n",
       "      <td>597.8</td>\n",
       "      <td>15.8</td>\n",
       "      <td>Copenhagen</td>\n",
       "      <td>Denmark</td>\n",
       "      <td>15</td>\n",
       "      <td>498</td>\n",
       "    </tr>\n",
       "    <tr>\n",
       "      <th>46</th>\n",
       "      <td>Jyske Bank</td>\n",
       "      <td>Banking</td>\n",
       "      <td>1.6</td>\n",
       "      <td>0.1</td>\n",
       "      <td>47.2</td>\n",
       "      <td>2.4</td>\n",
       "      <td>Silkeborg</td>\n",
       "      <td>Denmark</td>\n",
       "      <td>47</td>\n",
       "      <td>1686</td>\n",
       "    </tr>\n",
       "    <tr>\n",
       "      <th>52</th>\n",
       "      <td>Sydbank</td>\n",
       "      <td>Banking</td>\n",
       "      <td>1.0</td>\n",
       "      <td>0.0</td>\n",
       "      <td>26.8</td>\n",
       "      <td>1.4</td>\n",
       "      <td>Aabenraa</td>\n",
       "      <td>Denmark</td>\n",
       "      <td>53</td>\n",
       "      <td>1929</td>\n",
       "    </tr>\n",
       "  </tbody>\n",
       "</table>\n",
       "</div>"
      ],
      "text/plain": [
       "          Company Industry  Revenue (billion $)  Profits (billion $)  \\\n",
       "1          Nordea  Banking                 21.7                  3.4   \n",
       "6             SEB  Banking                 13.5                  1.6   \n",
       "7   Handelsbanken  Banking                 10.9                  1.8   \n",
       "9        Swedbank  Banking                 10.3                  1.7   \n",
       "14    Danske Bank  Banking                 20.0                  0.3   \n",
       "46     Jyske Bank  Banking                  1.6                  0.1   \n",
       "52        Sydbank  Banking                  1.0                  0.0   \n",
       "\n",
       "    Assets (billion $)  Market value (billion $)        City  Country  \\\n",
       "1                933.8                      39.7    Helsinki  Finland   \n",
       "6                344.5                      19.2   Stockholm   Sweden   \n",
       "7                358.0                      23.2   Stockholm   Sweden   \n",
       "9                270.8                      19.1   Stockholm   Sweden   \n",
       "14               597.8                      15.8  Copenhagen  Denmark   \n",
       "46                47.2                       2.4   Silkeborg  Denmark   \n",
       "52                26.8                       1.4    Aabenraa  Denmark   \n",
       "\n",
       "    Top company in Nordic  Forbes top 2000 company  \n",
       "1                       2                      135  \n",
       "6                       7                      280  \n",
       "7                       8                      282  \n",
       "9                      10                      311  \n",
       "14                     15                      498  \n",
       "46                     47                     1686  \n",
       "52                     53                     1929  "
      ]
     },
     "execution_count": 44,
     "metadata": {},
     "output_type": "execute_result"
    }
   ],
   "source": [
    "df.query(\"Industry == 'Banking'\").sort_values(as)"
   ]
  },
  {
   "cell_type": "code",
   "execution_count": 46,
   "id": "6a693c5e",
   "metadata": {},
   "outputs": [
    {
     "data": {
      "text/html": [
       "<div>\n",
       "<style scoped>\n",
       "    .dataframe tbody tr th:only-of-type {\n",
       "        vertical-align: middle;\n",
       "    }\n",
       "\n",
       "    .dataframe tbody tr th {\n",
       "        vertical-align: top;\n",
       "    }\n",
       "\n",
       "    .dataframe thead th {\n",
       "        text-align: right;\n",
       "    }\n",
       "</style>\n",
       "<table border=\"1\" class=\"dataframe\">\n",
       "  <thead>\n",
       "    <tr style=\"text-align: right;\">\n",
       "      <th></th>\n",
       "      <th>Company</th>\n",
       "      <th>Industry</th>\n",
       "      <th>Revenue (billion $)</th>\n",
       "      <th>Profits (billion $)</th>\n",
       "      <th>Assets (billion $)</th>\n",
       "      <th>Market value (billion $)</th>\n",
       "      <th>City</th>\n",
       "      <th>Country</th>\n",
       "      <th>Top company in Nordic</th>\n",
       "      <th>Forbes top 2000 company</th>\n",
       "    </tr>\n",
       "  </thead>\n",
       "  <tbody>\n",
       "    <tr>\n",
       "      <th>0</th>\n",
       "      <td>Equinor</td>\n",
       "      <td>Oil and gas</td>\n",
       "      <td>111.6</td>\n",
       "      <td>13.1</td>\n",
       "      <td>127.8</td>\n",
       "      <td>81.4</td>\n",
       "      <td>Stavanger</td>\n",
       "      <td>Norway</td>\n",
       "      <td>1</td>\n",
       "      <td>41</td>\n",
       "    </tr>\n",
       "    <tr>\n",
       "      <th>1</th>\n",
       "      <td>Nordea</td>\n",
       "      <td>Banking</td>\n",
       "      <td>21.7</td>\n",
       "      <td>3.4</td>\n",
       "      <td>933.8</td>\n",
       "      <td>39.7</td>\n",
       "      <td>Helsinki</td>\n",
       "      <td>Finland</td>\n",
       "      <td>2</td>\n",
       "      <td>135</td>\n",
       "    </tr>\n",
       "    <tr>\n",
       "      <th>2</th>\n",
       "      <td>A.P. Møller-Maersk</td>\n",
       "      <td>Transportation</td>\n",
       "      <td>56.1</td>\n",
       "      <td>2.6</td>\n",
       "      <td>69.8</td>\n",
       "      <td>33.7</td>\n",
       "      <td>Copenhagen</td>\n",
       "      <td>Denmark</td>\n",
       "      <td>3</td>\n",
       "      <td>152</td>\n",
       "    </tr>\n",
       "    <tr>\n",
       "      <th>3</th>\n",
       "      <td>Volvo</td>\n",
       "      <td>Automotive</td>\n",
       "      <td>45.0</td>\n",
       "      <td>2.6</td>\n",
       "      <td>49.7</td>\n",
       "      <td>30.2</td>\n",
       "      <td>Gothenburg</td>\n",
       "      <td>Sweden</td>\n",
       "      <td>4</td>\n",
       "      <td>183</td>\n",
       "    </tr>\n",
       "    <tr>\n",
       "      <th>4</th>\n",
       "      <td>Ericsson</td>\n",
       "      <td>Telecommunication</td>\n",
       "      <td>32.9</td>\n",
       "      <td>1.8</td>\n",
       "      <td>19.0</td>\n",
       "      <td>19.4</td>\n",
       "      <td>Stockholm</td>\n",
       "      <td>Sweden</td>\n",
       "      <td>5</td>\n",
       "      <td>239</td>\n",
       "    </tr>\n",
       "  </tbody>\n",
       "</table>\n",
       "</div>"
      ],
      "text/plain": [
       "              Company           Industry  Revenue (billion $)  \\\n",
       "0             Equinor        Oil and gas                111.6   \n",
       "1              Nordea            Banking                 21.7   \n",
       "2  A.P. Møller-Maersk     Transportation                 56.1   \n",
       "3               Volvo         Automotive                 45.0   \n",
       "4            Ericsson  Telecommunication                 32.9   \n",
       "\n",
       "   Profits (billion $)  Assets (billion $)  Market value (billion $)  \\\n",
       "0                 13.1               127.8                      81.4   \n",
       "1                  3.4               933.8                      39.7   \n",
       "2                  2.6                69.8                      33.7   \n",
       "3                  2.6                49.7                      30.2   \n",
       "4                  1.8                19.0                      19.4   \n",
       "\n",
       "         City  Country  Top company in Nordic  Forbes top 2000 company  \n",
       "0   Stavanger   Norway                      1                       41  \n",
       "1    Helsinki  Finland                      2                      135  \n",
       "2  Copenhagen  Denmark                      3                      152  \n",
       "3  Gothenburg   Sweden                      4                      183  \n",
       "4   Stockholm   Sweden                      5                      239  "
      ]
     },
     "execution_count": 46,
     "metadata": {},
     "output_type": "execute_result"
    }
   ],
   "source": [
    "df_new = pd.read_csv(\"../data/filter_nordic_company_ranking.csv\")\n",
    "\n",
    "df_new.head()\n"
   ]
  },
  {
   "cell_type": "code",
   "execution_count": 47,
   "id": "ee6924f3",
   "metadata": {},
   "outputs": [
    {
     "name": "stdout",
     "output_type": "stream",
     "text": [
      "(56, 10)\n",
      "              Company           Industry  Revenue (billion $)  \\\n",
      "0             Equinor        Oil and gas                111.6   \n",
      "1              Nordea            Banking                 21.7   \n",
      "2  A.P. Møller-Maersk     Transportation                 56.1   \n",
      "3               Volvo         Automotive                 45.0   \n",
      "4            Ericsson  Telecommunication                 32.9   \n",
      "\n",
      "   Profits (billion $)  Assets (billion $)  Market value (billion $)  \\\n",
      "0                 13.1               127.8                      81.4   \n",
      "1                  3.4               933.8                      39.7   \n",
      "2                  2.6                69.8                      33.7   \n",
      "3                  2.6                49.7                      30.2   \n",
      "4                  1.8                19.0                      19.4   \n",
      "\n",
      "         City  Country  Top company in Nordic  Forbes top 2000 company  \n",
      "0   Stavanger   Norway                      1                       41  \n",
      "1    Helsinki  Finland                      2                      135  \n",
      "2  Copenhagen  Denmark                      3                      152  \n",
      "3  Gothenburg   Sweden                      4                      183  \n",
      "4   Stockholm   Sweden                      5                      239  \n"
     ]
    }
   ],
   "source": [
    "print(df_new.shape)\n",
    "print(df.head())"
   ]
  },
  {
   "cell_type": "code",
   "execution_count": 48,
   "id": "7d8d6ba9",
   "metadata": {},
   "outputs": [
    {
     "name": "stdout",
     "output_type": "stream",
     "text": [
      "['Company', 'Industry', 'Revenue (billion $)', 'Profits (billion $)', 'Assets (billion $)', 'Market value (billion $)', 'City', 'Country', 'Top company in Nordic', 'Forbes top 2000 company']\n"
     ]
    }
   ],
   "source": [
    "print(df_new.columns.tolist())"
   ]
  }
 ],
 "metadata": {
  "kernelspec": {
   "display_name": ".venv",
   "language": "python",
   "name": "python3"
  },
  "language_info": {
   "codemirror_mode": {
    "name": "ipython",
    "version": 3
   },
   "file_extension": ".py",
   "mimetype": "text/x-python",
   "name": "python",
   "nbconvert_exporter": "python",
   "pygments_lexer": "ipython3",
   "version": "3.12.6"
  }
 },
 "nbformat": 4,
 "nbformat_minor": 5
}
