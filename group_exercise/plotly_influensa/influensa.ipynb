{
 "cells": [
  {
   "cell_type": "markdown",
   "id": "60e26de3",
   "metadata": {},
   "source": [
    "# Group exercise\n"
   ]
  },
  {
   "cell_type": "markdown",
   "id": "7033bd09",
   "metadata": {},
   "source": [
    "- Gör explorativ dataanalys\n",
    "- Gör olika explorativa grafer\n",
    "- Välj ut en graf och gör storytelling på den "
   ]
  },
  {
   "cell_type": "code",
   "execution_count": 36,
   "id": "5126c62d",
   "metadata": {},
   "outputs": [],
   "source": [
    "import pandas as pd\n",
    "\n",
    "df = pd.read_csv(\"data/influensa.csv\", delimiter=\";\")"
   ]
  },
  {
   "cell_type": "code",
   "execution_count": 37,
   "id": "db622b34",
   "metadata": {},
   "outputs": [
    {
     "data": {
      "text/html": [
       "<div>\n",
       "<style scoped>\n",
       "    .dataframe tbody tr th:only-of-type {\n",
       "        vertical-align: middle;\n",
       "    }\n",
       "\n",
       "    .dataframe tbody tr th {\n",
       "        vertical-align: top;\n",
       "    }\n",
       "\n",
       "    .dataframe thead th {\n",
       "        text-align: right;\n",
       "    }\n",
       "</style>\n",
       "<table border=\"1\" class=\"dataframe\">\n",
       "  <thead>\n",
       "    <tr style=\"text-align: right;\">\n",
       "      <th></th>\n",
       "      <th>Datum</th>\n",
       "      <th>Vårdform</th>\n",
       "      <th>Mått</th>\n",
       "      <th>DATA</th>\n",
       "    </tr>\n",
       "  </thead>\n",
       "  <tbody>\n",
       "    <tr>\n",
       "      <th>0</th>\n",
       "      <td>2015-07-09</td>\n",
       "      <td>Slutenvård</td>\n",
       "      <td>Antal</td>\n",
       "      <td>0.0</td>\n",
       "    </tr>\n",
       "    <tr>\n",
       "      <th>1</th>\n",
       "      <td>2015-07-09</td>\n",
       "      <td>Slutenvård</td>\n",
       "      <td>Per 100 000</td>\n",
       "      <td>0.000</td>\n",
       "    </tr>\n",
       "    <tr>\n",
       "      <th>2</th>\n",
       "      <td>2015-07-09</td>\n",
       "      <td>Intensivvård</td>\n",
       "      <td>Antal</td>\n",
       "      <td>0.0</td>\n",
       "    </tr>\n",
       "    <tr>\n",
       "      <th>3</th>\n",
       "      <td>2015-07-09</td>\n",
       "      <td>Intensivvård</td>\n",
       "      <td>Per 100 000</td>\n",
       "      <td>0.000</td>\n",
       "    </tr>\n",
       "    <tr>\n",
       "      <th>4</th>\n",
       "      <td>2015-07-16</td>\n",
       "      <td>Slutenvård</td>\n",
       "      <td>Antal</td>\n",
       "      <td>0.0</td>\n",
       "    </tr>\n",
       "  </tbody>\n",
       "</table>\n",
       "</div>"
      ],
      "text/plain": [
       "        Datum      Vårdform         Mått   DATA\n",
       "0  2015-07-09    Slutenvård        Antal    0.0\n",
       "1  2015-07-09    Slutenvård  Per 100 000  0.000\n",
       "2  2015-07-09  Intensivvård        Antal    0.0\n",
       "3  2015-07-09  Intensivvård  Per 100 000  0.000\n",
       "4  2015-07-16    Slutenvård        Antal    0.0"
      ]
     },
     "execution_count": 37,
     "metadata": {},
     "output_type": "execute_result"
    }
   ],
   "source": [
    "df.head()"
   ]
  },
  {
   "cell_type": "code",
   "execution_count": 38,
   "id": "1cff1303",
   "metadata": {},
   "outputs": [
    {
     "data": {
      "text/plain": [
       "0       2015-07-09\n",
       "1       2015-07-09\n",
       "2       2015-07-09\n",
       "3       2015-07-09\n",
       "4       2015-07-16\n",
       "           ...    \n",
       "2035    2025-04-03\n",
       "2036    2025-04-10\n",
       "2037    2025-04-10\n",
       "2038    2025-04-10\n",
       "2039    2025-04-10\n",
       "Name: Datum, Length: 2040, dtype: object"
      ]
     },
     "execution_count": 38,
     "metadata": {},
     "output_type": "execute_result"
    }
   ],
   "source": [
    "df[\"Datum\"]"
   ]
  },
  {
   "cell_type": "code",
   "execution_count": 39,
   "id": "c6e85154",
   "metadata": {},
   "outputs": [
    {
     "name": "stdout",
     "output_type": "stream",
     "text": [
      "<class 'pandas.core.frame.DataFrame'>\n",
      "RangeIndex: 2040 entries, 0 to 2039\n",
      "Data columns (total 4 columns):\n",
      " #   Column    Non-Null Count  Dtype \n",
      "---  ------    --------------  ----- \n",
      " 0   Datum     2040 non-null   object\n",
      " 1   Vårdform  2040 non-null   object\n",
      " 2   Mått      2040 non-null   object\n",
      " 3   DATA      2040 non-null   object\n",
      "dtypes: object(4)\n",
      "memory usage: 63.9+ KB\n"
     ]
    }
   ],
   "source": [
    "df.info()"
   ]
  },
  {
   "cell_type": "code",
   "execution_count": 40,
   "id": "d0058010",
   "metadata": {},
   "outputs": [],
   "source": [
    "import numpy as np\n",
    "\n",
    "df[\"DATA\"] = df[\"DATA\"].replace(r'^\\.$', np.nan, regex=True).astype(float)\n",
    "df[\"DATA\"] = pd.to_numeric(df[\"DATA\"], errors= 'coerce')"
   ]
  },
  {
   "cell_type": "code",
   "execution_count": 41,
   "id": "9262c002",
   "metadata": {},
   "outputs": [
    {
     "name": "stdout",
     "output_type": "stream",
     "text": [
      "<class 'pandas.core.frame.DataFrame'>\n",
      "RangeIndex: 2040 entries, 0 to 2039\n",
      "Data columns (total 4 columns):\n",
      " #   Column    Non-Null Count  Dtype  \n",
      "---  ------    --------------  -----  \n",
      " 0   Datum     2040 non-null   object \n",
      " 1   Vårdform  2040 non-null   object \n",
      " 2   Mått      2040 non-null   object \n",
      " 3   DATA      2036 non-null   float64\n",
      "dtypes: float64(1), object(3)\n",
      "memory usage: 63.9+ KB\n"
     ]
    }
   ],
   "source": [
    "df.info()"
   ]
  },
  {
   "cell_type": "code",
   "execution_count": 43,
   "id": "ba7412bc",
   "metadata": {},
   "outputs": [
    {
     "data": {
      "text/html": [
       "<div>\n",
       "<style scoped>\n",
       "    .dataframe tbody tr th:only-of-type {\n",
       "        vertical-align: middle;\n",
       "    }\n",
       "\n",
       "    .dataframe tbody tr th {\n",
       "        vertical-align: top;\n",
       "    }\n",
       "\n",
       "    .dataframe thead th {\n",
       "        text-align: right;\n",
       "    }\n",
       "</style>\n",
       "<table border=\"1\" class=\"dataframe\">\n",
       "  <thead>\n",
       "    <tr style=\"text-align: right;\">\n",
       "      <th></th>\n",
       "      <th>Datum</th>\n",
       "      <th>Vårdform</th>\n",
       "      <th>Mått</th>\n",
       "      <th>DATA</th>\n",
       "    </tr>\n",
       "  </thead>\n",
       "  <tbody>\n",
       "    <tr>\n",
       "      <th>0</th>\n",
       "      <td>2015-07-09</td>\n",
       "      <td>Slutenvård</td>\n",
       "      <td>Antal</td>\n",
       "      <td>0.0</td>\n",
       "    </tr>\n",
       "    <tr>\n",
       "      <th>2</th>\n",
       "      <td>2015-07-09</td>\n",
       "      <td>Intensivvård</td>\n",
       "      <td>Antal</td>\n",
       "      <td>0.0</td>\n",
       "    </tr>\n",
       "    <tr>\n",
       "      <th>4</th>\n",
       "      <td>2015-07-16</td>\n",
       "      <td>Slutenvård</td>\n",
       "      <td>Antal</td>\n",
       "      <td>0.0</td>\n",
       "    </tr>\n",
       "    <tr>\n",
       "      <th>6</th>\n",
       "      <td>2015-07-16</td>\n",
       "      <td>Intensivvård</td>\n",
       "      <td>Antal</td>\n",
       "      <td>0.0</td>\n",
       "    </tr>\n",
       "    <tr>\n",
       "      <th>8</th>\n",
       "      <td>2015-07-23</td>\n",
       "      <td>Slutenvård</td>\n",
       "      <td>Antal</td>\n",
       "      <td>0.6</td>\n",
       "    </tr>\n",
       "    <tr>\n",
       "      <th>...</th>\n",
       "      <td>...</td>\n",
       "      <td>...</td>\n",
       "      <td>...</td>\n",
       "      <td>...</td>\n",
       "    </tr>\n",
       "    <tr>\n",
       "      <th>2030</th>\n",
       "      <td>2025-03-27</td>\n",
       "      <td>Intensivvård</td>\n",
       "      <td>Antal</td>\n",
       "      <td>2.6</td>\n",
       "    </tr>\n",
       "    <tr>\n",
       "      <th>2032</th>\n",
       "      <td>2025-04-03</td>\n",
       "      <td>Slutenvård</td>\n",
       "      <td>Antal</td>\n",
       "      <td>NaN</td>\n",
       "    </tr>\n",
       "    <tr>\n",
       "      <th>2034</th>\n",
       "      <td>2025-04-03</td>\n",
       "      <td>Intensivvård</td>\n",
       "      <td>Antal</td>\n",
       "      <td>1.7</td>\n",
       "    </tr>\n",
       "    <tr>\n",
       "      <th>2036</th>\n",
       "      <td>2025-04-10</td>\n",
       "      <td>Slutenvård</td>\n",
       "      <td>Antal</td>\n",
       "      <td>NaN</td>\n",
       "    </tr>\n",
       "    <tr>\n",
       "      <th>2038</th>\n",
       "      <td>2025-04-10</td>\n",
       "      <td>Intensivvård</td>\n",
       "      <td>Antal</td>\n",
       "      <td>1.1</td>\n",
       "    </tr>\n",
       "  </tbody>\n",
       "</table>\n",
       "<p>1020 rows × 4 columns</p>\n",
       "</div>"
      ],
      "text/plain": [
       "           Datum      Vårdform   Mått  DATA\n",
       "0     2015-07-09    Slutenvård  Antal   0.0\n",
       "2     2015-07-09  Intensivvård  Antal   0.0\n",
       "4     2015-07-16    Slutenvård  Antal   0.0\n",
       "6     2015-07-16  Intensivvård  Antal   0.0\n",
       "8     2015-07-23    Slutenvård  Antal   0.6\n",
       "...          ...           ...    ...   ...\n",
       "2030  2025-03-27  Intensivvård  Antal   2.6\n",
       "2032  2025-04-03    Slutenvård  Antal   NaN\n",
       "2034  2025-04-03  Intensivvård  Antal   1.7\n",
       "2036  2025-04-10    Slutenvård  Antal   NaN\n",
       "2038  2025-04-10  Intensivvård  Antal   1.1\n",
       "\n",
       "[1020 rows x 4 columns]"
      ]
     },
     "execution_count": 43,
     "metadata": {},
     "output_type": "execute_result"
    }
   ],
   "source": [
    "df_antal = df[df[\"Mått\"] == \"Antal\"]\n",
    "df_antal"
   ]
  },
  {
   "cell_type": "code",
   "execution_count": null,
   "id": "c8c588d2",
   "metadata": {},
   "outputs": [
    {
     "name": "stderr",
     "output_type": "stream",
     "text": [
      "C:\\Users\\Marcus\\AppData\\Local\\Temp\\ipykernel_20892\\3880622632.py:1: SettingWithCopyWarning: \n",
      "A value is trying to be set on a copy of a slice from a DataFrame.\n",
      "Try using .loc[row_indexer,col_indexer] = value instead\n",
      "\n",
      "See the caveats in the documentation: https://pandas.pydata.org/pandas-docs/stable/user_guide/indexing.html#returning-a-view-versus-a-copy\n",
      "  df_antal[\"Datum\"] = pd.to_datetime(df_antal[\"Datum\"])\n",
      "C:\\Users\\Marcus\\AppData\\Local\\Temp\\ipykernel_20892\\3880622632.py:2: SettingWithCopyWarning: \n",
      "A value is trying to be set on a copy of a slice from a DataFrame.\n",
      "Try using .loc[row_indexer,col_indexer] = value instead\n",
      "\n",
      "See the caveats in the documentation: https://pandas.pydata.org/pandas-docs/stable/user_guide/indexing.html#returning-a-view-versus-a-copy\n",
      "  df_antal[\"År\"] = df_antal[\"Datum\"].dt.year\n"
     ]
    }
   ],
   "source": [
    "df_antal[\"Datum\"] = pd.to_datetime(df_antal[\"Datum\"])\n",
    "df_antal[\"År\"] = df_antal[\"Datum\"].dt.year "
   ]
  },
  {
   "cell_type": "code",
   "execution_count": 53,
   "id": "aba2b2eb",
   "metadata": {},
   "outputs": [
    {
     "name": "stderr",
     "output_type": "stream",
     "text": [
      "C:\\Users\\Marcus\\AppData\\Local\\Temp\\ipykernel_20892\\94120758.py:1: SettingWithCopyWarning: \n",
      "A value is trying to be set on a copy of a slice from a DataFrame.\n",
      "Try using .loc[row_indexer,col_indexer] = value instead\n",
      "\n",
      "See the caveats in the documentation: https://pandas.pydata.org/pandas-docs/stable/user_guide/indexing.html#returning-a-view-versus-a-copy\n",
      "  df_antal[\"DATA\"] = pd.to_numeric(df_antal[\"DATA\"], errors= 'coerce')\n"
     ]
    }
   ],
   "source": [
    "df_antal[\"DATA\"] = pd.to_numeric(df_antal[\"DATA\"], errors= 'coerce')\n",
    "df_antal_årsvis = df_antal[df_antal[\"Mått\"] == \"Antal\"].groupby(\"År\")[\"DATA\"].sum().round().astype(int).reset_index()"
   ]
  },
  {
   "cell_type": "code",
   "execution_count": 56,
   "id": "983dee01",
   "metadata": {},
   "outputs": [
    {
     "data": {
      "text/html": [
       "<div>\n",
       "<style scoped>\n",
       "    .dataframe tbody tr th:only-of-type {\n",
       "        vertical-align: middle;\n",
       "    }\n",
       "\n",
       "    .dataframe tbody tr th {\n",
       "        vertical-align: top;\n",
       "    }\n",
       "\n",
       "    .dataframe thead th {\n",
       "        text-align: right;\n",
       "    }\n",
       "</style>\n",
       "<table border=\"1\" class=\"dataframe\">\n",
       "  <thead>\n",
       "    <tr style=\"text-align: right;\">\n",
       "      <th></th>\n",
       "      <th>År</th>\n",
       "      <th>DATA</th>\n",
       "    </tr>\n",
       "  </thead>\n",
       "  <tbody>\n",
       "    <tr>\n",
       "      <th>0</th>\n",
       "      <td>2015</td>\n",
       "      <td>62</td>\n",
       "    </tr>\n",
       "    <tr>\n",
       "      <th>1</th>\n",
       "      <td>2016</td>\n",
       "      <td>684</td>\n",
       "    </tr>\n",
       "    <tr>\n",
       "      <th>2</th>\n",
       "      <td>2017</td>\n",
       "      <td>648</td>\n",
       "    </tr>\n",
       "    <tr>\n",
       "      <th>3</th>\n",
       "      <td>2018</td>\n",
       "      <td>1144</td>\n",
       "    </tr>\n",
       "    <tr>\n",
       "      <th>4</th>\n",
       "      <td>2019</td>\n",
       "      <td>762</td>\n",
       "    </tr>\n",
       "    <tr>\n",
       "      <th>5</th>\n",
       "      <td>2020</td>\n",
       "      <td>292</td>\n",
       "    </tr>\n",
       "    <tr>\n",
       "      <th>6</th>\n",
       "      <td>2021</td>\n",
       "      <td>252</td>\n",
       "    </tr>\n",
       "    <tr>\n",
       "      <th>7</th>\n",
       "      <td>2022</td>\n",
       "      <td>524</td>\n",
       "    </tr>\n",
       "    <tr>\n",
       "      <th>8</th>\n",
       "      <td>2023</td>\n",
       "      <td>827</td>\n",
       "    </tr>\n",
       "    <tr>\n",
       "      <th>9</th>\n",
       "      <td>2024</td>\n",
       "      <td>654</td>\n",
       "    </tr>\n",
       "    <tr>\n",
       "      <th>10</th>\n",
       "      <td>2025</td>\n",
       "      <td>986</td>\n",
       "    </tr>\n",
       "  </tbody>\n",
       "</table>\n",
       "</div>"
      ],
      "text/plain": [
       "      År  DATA\n",
       "0   2015    62\n",
       "1   2016   684\n",
       "2   2017   648\n",
       "3   2018  1144\n",
       "4   2019   762\n",
       "5   2020   292\n",
       "6   2021   252\n",
       "7   2022   524\n",
       "8   2023   827\n",
       "9   2024   654\n",
       "10  2025   986"
      ]
     },
     "execution_count": 56,
     "metadata": {},
     "output_type": "execute_result"
    }
   ],
   "source": [
    "df_antal_årsvis"
   ]
  }
 ],
 "metadata": {
  "kernelspec": {
   "display_name": ".venv",
   "language": "python",
   "name": "python3"
  },
  "language_info": {
   "codemirror_mode": {
    "name": "ipython",
    "version": 3
   },
   "file_extension": ".py",
   "mimetype": "text/x-python",
   "name": "python",
   "nbconvert_exporter": "python",
   "pygments_lexer": "ipython3",
   "version": "3.12.6"
  }
 },
 "nbformat": 4,
 "nbformat_minor": 5
}
