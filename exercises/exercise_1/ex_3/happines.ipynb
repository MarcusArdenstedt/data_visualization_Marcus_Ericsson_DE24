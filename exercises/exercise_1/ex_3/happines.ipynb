{
 "cells": [
  {
   "cell_type": "markdown",
   "id": "10fc14a3",
   "metadata": {},
   "source": [
    "# 3. Exploring and explaining happiness"
   ]
  },
  {
   "cell_type": "markdown",
   "id": "7fa51ce6",
   "metadata": {},
   "source": [
    "In the data happiness.xlsx from here you can find happiness scores as well as a visualization of all the countries happiness along with different variables to explain the happiness to various levels. Do exploratory data analysis on this dataset, then pick out a few visualizations that you turn into explanatory data analysis using the principles of data storytelling."
   ]
  },
  {
   "cell_type": "code",
   "execution_count": 1,
   "id": "45d00da2",
   "metadata": {},
   "outputs": [
    {
     "data": {
      "text/html": [
       "<div>\n",
       "<style scoped>\n",
       "    .dataframe tbody tr th:only-of-type {\n",
       "        vertical-align: middle;\n",
       "    }\n",
       "\n",
       "    .dataframe tbody tr th {\n",
       "        vertical-align: top;\n",
       "    }\n",
       "\n",
       "    .dataframe thead th {\n",
       "        text-align: right;\n",
       "    }\n",
       "</style>\n",
       "<table border=\"1\" class=\"dataframe\">\n",
       "  <thead>\n",
       "    <tr style=\"text-align: right;\">\n",
       "      <th></th>\n",
       "      <th>Country name</th>\n",
       "      <th>Ladder score</th>\n",
       "      <th>upperwhisker</th>\n",
       "      <th>lowerwhisker</th>\n",
       "      <th>Explained by: Log GDP per capita</th>\n",
       "      <th>Explained by: Social support</th>\n",
       "      <th>Explained by: Healthy life expectancy</th>\n",
       "      <th>Explained by: Freedom to make life choices</th>\n",
       "      <th>Explained by: Generosity</th>\n",
       "      <th>Explained by: Perceptions of corruption</th>\n",
       "      <th>Dystopia + residual</th>\n",
       "    </tr>\n",
       "  </thead>\n",
       "  <tbody>\n",
       "    <tr>\n",
       "      <th>0</th>\n",
       "      <td>Finland</td>\n",
       "      <td>7.7407</td>\n",
       "      <td>7.814808</td>\n",
       "      <td>7.666591</td>\n",
       "      <td>1.844054</td>\n",
       "      <td>1.572367</td>\n",
       "      <td>0.694793</td>\n",
       "      <td>0.859294</td>\n",
       "      <td>0.141674</td>\n",
       "      <td>0.546158</td>\n",
       "      <td>2.082367</td>\n",
       "    </tr>\n",
       "    <tr>\n",
       "      <th>1</th>\n",
       "      <td>Denmark</td>\n",
       "      <td>7.5827</td>\n",
       "      <td>7.665297</td>\n",
       "      <td>7.500103</td>\n",
       "      <td>1.907798</td>\n",
       "      <td>1.520361</td>\n",
       "      <td>0.698944</td>\n",
       "      <td>0.822740</td>\n",
       "      <td>0.203579</td>\n",
       "      <td>0.548413</td>\n",
       "      <td>1.880887</td>\n",
       "    </tr>\n",
       "    <tr>\n",
       "      <th>2</th>\n",
       "      <td>Iceland</td>\n",
       "      <td>7.5251</td>\n",
       "      <td>7.617527</td>\n",
       "      <td>7.432673</td>\n",
       "      <td>1.880718</td>\n",
       "      <td>1.616525</td>\n",
       "      <td>0.718345</td>\n",
       "      <td>0.818509</td>\n",
       "      <td>0.258344</td>\n",
       "      <td>0.182473</td>\n",
       "      <td>2.050233</td>\n",
       "    </tr>\n",
       "    <tr>\n",
       "      <th>3</th>\n",
       "      <td>Sweden</td>\n",
       "      <td>7.3441</td>\n",
       "      <td>7.421563</td>\n",
       "      <td>7.266637</td>\n",
       "      <td>1.878146</td>\n",
       "      <td>1.500826</td>\n",
       "      <td>0.723871</td>\n",
       "      <td>0.838269</td>\n",
       "      <td>0.221455</td>\n",
       "      <td>0.523795</td>\n",
       "      <td>1.657707</td>\n",
       "    </tr>\n",
       "    <tr>\n",
       "      <th>4</th>\n",
       "      <td>Israel</td>\n",
       "      <td>7.3411</td>\n",
       "      <td>7.405165</td>\n",
       "      <td>7.277036</td>\n",
       "      <td>1.802934</td>\n",
       "      <td>1.512793</td>\n",
       "      <td>0.739816</td>\n",
       "      <td>0.641463</td>\n",
       "      <td>0.153205</td>\n",
       "      <td>0.192823</td>\n",
       "      <td>2.298026</td>\n",
       "    </tr>\n",
       "  </tbody>\n",
       "</table>\n",
       "</div>"
      ],
      "text/plain": [
       "  Country name  Ladder score  upperwhisker  lowerwhisker  \\\n",
       "0      Finland        7.7407      7.814808      7.666591   \n",
       "1      Denmark        7.5827      7.665297      7.500103   \n",
       "2      Iceland        7.5251      7.617527      7.432673   \n",
       "3       Sweden        7.3441      7.421563      7.266637   \n",
       "4       Israel        7.3411      7.405165      7.277036   \n",
       "\n",
       "   Explained by: Log GDP per capita  Explained by: Social support  \\\n",
       "0                          1.844054                      1.572367   \n",
       "1                          1.907798                      1.520361   \n",
       "2                          1.880718                      1.616525   \n",
       "3                          1.878146                      1.500826   \n",
       "4                          1.802934                      1.512793   \n",
       "\n",
       "   Explained by: Healthy life expectancy  \\\n",
       "0                               0.694793   \n",
       "1                               0.698944   \n",
       "2                               0.718345   \n",
       "3                               0.723871   \n",
       "4                               0.739816   \n",
       "\n",
       "   Explained by: Freedom to make life choices  Explained by: Generosity  \\\n",
       "0                                    0.859294                  0.141674   \n",
       "1                                    0.822740                  0.203579   \n",
       "2                                    0.818509                  0.258344   \n",
       "3                                    0.838269                  0.221455   \n",
       "4                                    0.641463                  0.153205   \n",
       "\n",
       "   Explained by: Perceptions of corruption  Dystopia + residual  \n",
       "0                                 0.546158             2.082367  \n",
       "1                                 0.548413             1.880887  \n",
       "2                                 0.182473             2.050233  \n",
       "3                                 0.523795             1.657707  \n",
       "4                                 0.192823             2.298026  "
      ]
     },
     "execution_count": 1,
     "metadata": {},
     "output_type": "execute_result"
    }
   ],
   "source": [
    "import pandas as pd\n",
    "import duckdb \n",
    "\n",
    "df = pd.read_excel(\"data/happiness.xlsx\")\n",
    "df.head()"
   ]
  },
  {
   "cell_type": "code",
   "execution_count": 2,
   "id": "2b4351ef",
   "metadata": {},
   "outputs": [],
   "source": [
    "df_happies_country = df.sort_values(by=\"Ladder score\", ascending=False).head()"
   ]
  },
  {
   "cell_type": "code",
   "execution_count": 3,
   "id": "a7eb4ea3",
   "metadata": {},
   "outputs": [],
   "source": [
    "df_happies_country = df_happies_country[[\"Country name\", \"Ladder score\"]].set_index(\"Country name\")"
   ]
  },
  {
   "cell_type": "code",
   "execution_count": 4,
   "id": "41d4a682",
   "metadata": {},
   "outputs": [
    {
     "data": {
      "image/png": "[encoded data removed]",
      "text/plain": [
       "<Figure size 1200x600 with 1 Axes>"
      ]
     },
     "metadata": {},
     "output_type": "display_data"
    }
   ],
   "source": [
    "import matplotlib.pyplot as plt\n",
    "from constants import GRAY_1, GRAY_2, GRAY_3, BLUE_1, RED_1, RED_2, RED_3\n",
    "\n",
    "\n",
    "\n",
    "\n",
    "fig, ax = plt.subplots(figsize= (12,6))\n",
    "ax.bar(df_happies_country.index, height=df_happies_country[\"Ladder score\"], width= 0.35)\n",
    "\n",
    "\n",
    "# clutters\n",
    "ax.spines[[\"top\", \"right\"]].set_visible(False)\n",
    "ax.tick_params(\"x\", length= 0)\n",
    "\n",
    "# contast\n",
    "ax.spines[[\"left\", \"bottom\"]].set_color(GRAY_2)\n",
    "ax.tick_params(\"both\", labelcolor= GRAY_2)\n",
    "\n",
    "# description title and label - call to action (CTA)\n",
    "ax.set_title(\"The happiest countries base on the average respones in each country. \\nThis are the one with heighest score\", loc= \"left\", color= GRAY_3, pad= 25)\n",
    "ax.set_ylabel(\"Score between 0 - 10\", loc = \"top\", color= GRAY_3, rotation= 0)\n",
    "ax.yaxis.set_label_coords(0.02,1.02)\n",
    "ax.set_xlabel(\"Top 5 happies country\", loc= \"left\", color= GRAY_3)\n",
    "\n",
    "\n",
    "# annotation with { \n",
    "bars = ax.containers[0]\n",
    "\n",
    "bar= bars[3]\n",
    "\n",
    "x= bar.get_x()\n",
    "y= bar.get_height()\n",
    "    \n",
    "ax.text(x + 0.58, y + 0.3, \"{\", ha= \"center\", va= \"center\", fontsize= 110, rotation= 270, color= GRAY_2, family= \"Times New Roman\")\n",
    "\n",
    "ax.text(x + 0.5, y + 1, \"Differs 0.003\")\n",
    "\n",
    "\n",
    "fig.tight_layout()\n",
    "fig.savefig(\"figures/top_5_happies.png\", dpi= 300)\n",
    "plt.show()\n"
   ]
  },
  {
   "cell_type": "code",
   "execution_count": 5,
   "id": "a7a2fb26",
   "metadata": {},
   "outputs": [
    {
     "data": {
      "text/html": [
       "<div>\n",
       "<style scoped>\n",
       "    .dataframe tbody tr th:only-of-type {\n",
       "        vertical-align: middle;\n",
       "    }\n",
       "\n",
       "    .dataframe tbody tr th {\n",
       "        vertical-align: top;\n",
       "    }\n",
       "\n",
       "    .dataframe thead th {\n",
       "        text-align: right;\n",
       "    }\n",
       "</style>\n",
       "<table border=\"1\" class=\"dataframe\">\n",
       "  <thead>\n",
       "    <tr style=\"text-align: right;\">\n",
       "      <th></th>\n",
       "      <th>Country name</th>\n",
       "      <th>Ladder score</th>\n",
       "      <th>upperwhisker</th>\n",
       "      <th>lowerwhisker</th>\n",
       "      <th>Explained by: Log GDP per capita</th>\n",
       "      <th>Explained by: Social support</th>\n",
       "      <th>Explained by: Healthy life expectancy</th>\n",
       "      <th>Explained by: Freedom to make life choices</th>\n",
       "      <th>Explained by: Generosity</th>\n",
       "      <th>Explained by: Perceptions of corruption</th>\n",
       "      <th>Dystopia + residual</th>\n",
       "    </tr>\n",
       "  </thead>\n",
       "  <tbody>\n",
       "    <tr>\n",
       "      <th>0</th>\n",
       "      <td>Finland</td>\n",
       "      <td>7.7407</td>\n",
       "      <td>7.814808</td>\n",
       "      <td>7.666591</td>\n",
       "      <td>1.844054</td>\n",
       "      <td>1.572367</td>\n",
       "      <td>0.694793</td>\n",
       "      <td>0.859294</td>\n",
       "      <td>0.141674</td>\n",
       "      <td>0.546158</td>\n",
       "      <td>2.082367</td>\n",
       "    </tr>\n",
       "    <tr>\n",
       "      <th>1</th>\n",
       "      <td>Denmark</td>\n",
       "      <td>7.5827</td>\n",
       "      <td>7.665297</td>\n",
       "      <td>7.500103</td>\n",
       "      <td>1.907798</td>\n",
       "      <td>1.520361</td>\n",
       "      <td>0.698944</td>\n",
       "      <td>0.822740</td>\n",
       "      <td>0.203579</td>\n",
       "      <td>0.548413</td>\n",
       "      <td>1.880887</td>\n",
       "    </tr>\n",
       "    <tr>\n",
       "      <th>2</th>\n",
       "      <td>Iceland</td>\n",
       "      <td>7.5251</td>\n",
       "      <td>7.617527</td>\n",
       "      <td>7.432673</td>\n",
       "      <td>1.880718</td>\n",
       "      <td>1.616525</td>\n",
       "      <td>0.718345</td>\n",
       "      <td>0.818509</td>\n",
       "      <td>0.258344</td>\n",
       "      <td>0.182473</td>\n",
       "      <td>2.050233</td>\n",
       "    </tr>\n",
       "    <tr>\n",
       "      <th>3</th>\n",
       "      <td>Sweden</td>\n",
       "      <td>7.3441</td>\n",
       "      <td>7.421563</td>\n",
       "      <td>7.266637</td>\n",
       "      <td>1.878146</td>\n",
       "      <td>1.500826</td>\n",
       "      <td>0.723871</td>\n",
       "      <td>0.838269</td>\n",
       "      <td>0.221455</td>\n",
       "      <td>0.523795</td>\n",
       "      <td>1.657707</td>\n",
       "    </tr>\n",
       "    <tr>\n",
       "      <th>4</th>\n",
       "      <td>Israel</td>\n",
       "      <td>7.3411</td>\n",
       "      <td>7.405165</td>\n",
       "      <td>7.277036</td>\n",
       "      <td>1.802934</td>\n",
       "      <td>1.512793</td>\n",
       "      <td>0.739816</td>\n",
       "      <td>0.641463</td>\n",
       "      <td>0.153205</td>\n",
       "      <td>0.192823</td>\n",
       "      <td>2.298026</td>\n",
       "    </tr>\n",
       "    <tr>\n",
       "      <th>...</th>\n",
       "      <td>...</td>\n",
       "      <td>...</td>\n",
       "      <td>...</td>\n",
       "      <td>...</td>\n",
       "      <td>...</td>\n",
       "      <td>...</td>\n",
       "      <td>...</td>\n",
       "      <td>...</td>\n",
       "      <td>...</td>\n",
       "      <td>...</td>\n",
       "      <td>...</td>\n",
       "    </tr>\n",
       "    <tr>\n",
       "      <th>138</th>\n",
       "      <td>Congo (Kinshasa)</td>\n",
       "      <td>3.2954</td>\n",
       "      <td>3.462328</td>\n",
       "      <td>3.128472</td>\n",
       "      <td>0.533670</td>\n",
       "      <td>0.664700</td>\n",
       "      <td>0.261508</td>\n",
       "      <td>0.472705</td>\n",
       "      <td>0.188676</td>\n",
       "      <td>0.072167</td>\n",
       "      <td>1.102014</td>\n",
       "    </tr>\n",
       "    <tr>\n",
       "      <th>139</th>\n",
       "      <td>Sierra Leone</td>\n",
       "      <td>3.2452</td>\n",
       "      <td>3.366252</td>\n",
       "      <td>3.124148</td>\n",
       "      <td>0.654278</td>\n",
       "      <td>0.565977</td>\n",
       "      <td>0.253321</td>\n",
       "      <td>0.469035</td>\n",
       "      <td>0.181365</td>\n",
       "      <td>0.053299</td>\n",
       "      <td>1.067906</td>\n",
       "    </tr>\n",
       "    <tr>\n",
       "      <th>140</th>\n",
       "      <td>Lesotho</td>\n",
       "      <td>3.1862</td>\n",
       "      <td>3.468785</td>\n",
       "      <td>2.903615</td>\n",
       "      <td>0.770807</td>\n",
       "      <td>0.850587</td>\n",
       "      <td>0.000000</td>\n",
       "      <td>0.523188</td>\n",
       "      <td>0.082087</td>\n",
       "      <td>0.084969</td>\n",
       "      <td>0.874525</td>\n",
       "    </tr>\n",
       "    <tr>\n",
       "      <th>141</th>\n",
       "      <td>Lebanon</td>\n",
       "      <td>2.7065</td>\n",
       "      <td>2.796744</td>\n",
       "      <td>2.616256</td>\n",
       "      <td>1.376726</td>\n",
       "      <td>0.576713</td>\n",
       "      <td>0.556247</td>\n",
       "      <td>0.173223</td>\n",
       "      <td>0.067641</td>\n",
       "      <td>0.028772</td>\n",
       "      <td>-0.072831</td>\n",
       "    </tr>\n",
       "    <tr>\n",
       "      <th>142</th>\n",
       "      <td>Afghanistan</td>\n",
       "      <td>1.7210</td>\n",
       "      <td>1.775271</td>\n",
       "      <td>1.666728</td>\n",
       "      <td>0.628138</td>\n",
       "      <td>0.000000</td>\n",
       "      <td>0.241763</td>\n",
       "      <td>0.000000</td>\n",
       "      <td>0.090736</td>\n",
       "      <td>0.088471</td>\n",
       "      <td>0.671903</td>\n",
       "    </tr>\n",
       "  </tbody>\n",
       "</table>\n",
       "<p>143 rows × 11 columns</p>\n",
       "</div>"
      ],
      "text/plain": [
       "         Country name  Ladder score  upperwhisker  lowerwhisker  \\\n",
       "0             Finland        7.7407      7.814808      7.666591   \n",
       "1             Denmark        7.5827      7.665297      7.500103   \n",
       "2             Iceland        7.5251      7.617527      7.432673   \n",
       "3              Sweden        7.3441      7.421563      7.266637   \n",
       "4              Israel        7.3411      7.405165      7.277036   \n",
       "..                ...           ...           ...           ...   \n",
       "138  Congo (Kinshasa)        3.2954      3.462328      3.128472   \n",
       "139      Sierra Leone        3.2452      3.366252      3.124148   \n",
       "140           Lesotho        3.1862      3.468785      2.903615   \n",
       "141           Lebanon        2.7065      2.796744      2.616256   \n",
       "142       Afghanistan        1.7210      1.775271      1.666728   \n",
       "\n",
       "     Explained by: Log GDP per capita  Explained by: Social support  \\\n",
       "0                            1.844054                      1.572367   \n",
       "1                            1.907798                      1.520361   \n",
       "2                            1.880718                      1.616525   \n",
       "3                            1.878146                      1.500826   \n",
       "4                            1.802934                      1.512793   \n",
       "..                                ...                           ...   \n",
       "138                          0.533670                      0.664700   \n",
       "139                          0.654278                      0.565977   \n",
       "140                          0.770807                      0.850587   \n",
       "141                          1.376726                      0.576713   \n",
       "142                          0.628138                      0.000000   \n",
       "\n",
       "     Explained by: Healthy life expectancy  \\\n",
       "0                                 0.694793   \n",
       "1                                 0.698944   \n",
       "2                                 0.718345   \n",
       "3                                 0.723871   \n",
       "4                                 0.739816   \n",
       "..                                     ...   \n",
       "138                               0.261508   \n",
       "139                               0.253321   \n",
       "140                               0.000000   \n",
       "141                               0.556247   \n",
       "142                               0.241763   \n",
       "\n",
       "     Explained by: Freedom to make life choices  Explained by: Generosity  \\\n",
       "0                                      0.859294                  0.141674   \n",
       "1                                      0.822740                  0.203579   \n",
       "2                                      0.818509                  0.258344   \n",
       "3                                      0.838269                  0.221455   \n",
       "4                                      0.641463                  0.153205   \n",
       "..                                          ...                       ...   \n",
       "138                                    0.472705                  0.188676   \n",
       "139                                    0.469035                  0.181365   \n",
       "140                                    0.523188                  0.082087   \n",
       "141                                    0.173223                  0.067641   \n",
       "142                                    0.000000                  0.090736   \n",
       "\n",
       "     Explained by: Perceptions of corruption  Dystopia + residual  \n",
       "0                                   0.546158             2.082367  \n",
       "1                                   0.548413             1.880887  \n",
       "2                                   0.182473             2.050233  \n",
       "3                                   0.523795             1.657707  \n",
       "4                                   0.192823             2.298026  \n",
       "..                                       ...                  ...  \n",
       "138                                 0.072167             1.102014  \n",
       "139                                 0.053299             1.067906  \n",
       "140                                 0.084969             0.874525  \n",
       "141                                 0.028772            -0.072831  \n",
       "142                                 0.088471             0.671903  \n",
       "\n",
       "[143 rows x 11 columns]"
      ]
     },
     "execution_count": 5,
     "metadata": {},
     "output_type": "execute_result"
    }
   ],
   "source": [
    "df"
   ]
  },
  {
   "cell_type": "code",
   "execution_count": 6,
   "id": "b4e66a8a",
   "metadata": {},
   "outputs": [],
   "source": [
    "df[\"perc_diff_whisker\"] = ((df[\"upperwhisker\"] / df[\"lowerwhisker\"] - 1) * 100).round(2)"
   ]
  },
  {
   "cell_type": "code",
   "execution_count": 7,
   "id": "6306b73e",
   "metadata": {},
   "outputs": [],
   "source": [
    "df_top_5_differnce_whisker = df.sort_values(\"perc_diff_whisker\", ascending=False).head()"
   ]
  },
  {
   "cell_type": "code",
   "execution_count": 8,
   "id": "1e5832a2",
   "metadata": {},
   "outputs": [],
   "source": [
    "df_top_5_differnce_whisker.reset_index(drop= True, inplace=True)"
   ]
  },
  {
   "cell_type": "code",
   "execution_count": 9,
   "id": "783eae8c",
   "metadata": {},
   "outputs": [],
   "source": [
    "df_top_5_differnce_whisker = df_top_5_differnce_whisker[[\"Country name\", \"Ladder score\", \"perc_diff_whisker\"]].set_index(\"Country name\")"
   ]
  },
  {
   "cell_type": "code",
   "execution_count": 10,
   "id": "8c9247f2",
   "metadata": {},
   "outputs": [
    {
     "data": {
      "text/html": [
       "<div>\n",
       "<style scoped>\n",
       "    .dataframe tbody tr th:only-of-type {\n",
       "        vertical-align: middle;\n",
       "    }\n",
       "\n",
       "    .dataframe tbody tr th {\n",
       "        vertical-align: top;\n",
       "    }\n",
       "\n",
       "    .dataframe thead th {\n",
       "        text-align: right;\n",
       "    }\n",
       "</style>\n",
       "<table border=\"1\" class=\"dataframe\">\n",
       "  <thead>\n",
       "    <tr style=\"text-align: right;\">\n",
       "      <th></th>\n",
       "      <th>Ladder score</th>\n",
       "      <th>perc_diff_whisker</th>\n",
       "    </tr>\n",
       "    <tr>\n",
       "      <th>Country name</th>\n",
       "      <th></th>\n",
       "      <th></th>\n",
       "    </tr>\n",
       "  </thead>\n",
       "  <tbody>\n",
       "    <tr>\n",
       "      <th>Lesotho</th>\n",
       "      <td>3.1862</td>\n",
       "      <td>19.46</td>\n",
       "    </tr>\n",
       "    <tr>\n",
       "      <th>Comoros</th>\n",
       "      <td>3.5663</td>\n",
       "      <td>11.13</td>\n",
       "    </tr>\n",
       "    <tr>\n",
       "      <th>Botswana</th>\n",
       "      <td>3.3834</td>\n",
       "      <td>10.85</td>\n",
       "    </tr>\n",
       "    <tr>\n",
       "      <th>Congo (Kinshasa)</th>\n",
       "      <td>3.2954</td>\n",
       "      <td>10.67</td>\n",
       "    </tr>\n",
       "    <tr>\n",
       "      <th>Eswatini</th>\n",
       "      <td>3.5020</td>\n",
       "      <td>10.28</td>\n",
       "    </tr>\n",
       "  </tbody>\n",
       "</table>\n",
       "</div>"
      ],
      "text/plain": [
       "                  Ladder score  perc_diff_whisker\n",
       "Country name                                     \n",
       "Lesotho                 3.1862              19.46\n",
       "Comoros                 3.5663              11.13\n",
       "Botswana                3.3834              10.85\n",
       "Congo (Kinshasa)        3.2954              10.67\n",
       "Eswatini                3.5020              10.28"
      ]
     },
     "execution_count": 10,
     "metadata": {},
     "output_type": "execute_result"
    }
   ],
   "source": [
    "df_top_5_differnce_whisker"
   ]
  },
  {
   "cell_type": "code",
   "execution_count": 11,
   "id": "437e60ac",
   "metadata": {},
   "outputs": [
    {
     "data": {
      "image/png": "[encoded data removed]",
      "text/plain": [
       "<Figure size 1600x600 with 2 Axes>"
      ]
     },
     "metadata": {},
     "output_type": "display_data"
    }
   ],
   "source": [
    "fig, ax = plt.subplots(1,2, figsize= (16,6))\n",
    "\n",
    "\n",
    "# plot one and two \n",
    "df_top_5_differnce_whisker[\"Ladder score\"].plot(kind=\"bar\", ax=ax[0], width= 0.4)\n",
    "df_top_5_differnce_whisker[\"perc_diff_whisker\"].plot(kind= \"bar\", ax= ax[1], width= 0.4)\n",
    "\n",
    "\n",
    "#clutter\n",
    "ax[0].tick_params(left= True, bottom= False)\n",
    "ax[0].spines[[\"top\", \"right\"]].set_visible(False)\n",
    "ax[1].tick_params(left= True, bottom= False)\n",
    "ax[1].spines[[\"top\", \"right\"]].set_visible(False)\n",
    "\n",
    "# contrast\n",
    "ax[0].tick_params(axis=\"x\", rotation= 0, labelsize= 12, labelcolor= GRAY_3)\n",
    "ax[0].tick_params(axis=\"y\", labelcolor= GRAY_3)\n",
    "ax[0].spines[[\"left\", \"bottom\"]].set_color(GRAY_1)\n",
    "ax[1].tick_params(axis=\"x\", rotation= 0, labelsize= 12, labelcolor= GRAY_3)\n",
    "ax[1].tick_params(axis= \"y\", labelcolor= GRAY_3)\n",
    "ax[1].spines[[\"left\", \"bottom\"]].set_color(GRAY_1)\n",
    "\n",
    "\n",
    "# description title and label - Call TO Action (CTA)\n",
    "ax[0].set_title(\"Average responses from each country have responded to. \\nThese are the ones with highest margin of error percentage-wise.\", \n",
    "                loc= \"left\", \n",
    "                pad= 20, \n",
    "                color= GRAY_3)\n",
    "ax[0].set_ylabel(\"SCORE 1-10\", loc= \"top\", rotation= 0, color= GRAY_3)\n",
    "ax[0].yaxis.set_label_coords(0,1)  # position y-label \n",
    "ax[0].set_xlabel(\"COUNTRY\", loc= \"left\", color= GRAY_3)\n",
    "\n",
    "ax[1].set_title(\"Top five countries with the highest confidence interval.\", loc= \"left\", color= GRAY_2, pad= 25)\n",
    "ax[1].set_ylabel(\"PERCENTAGE (%)\", loc= \"top\", rotation= 0, color= GRAY_2)\n",
    "ax[1].yaxis.set_label_coords(0,1.025)\n",
    "ax[1].set_xlabel(\"COUNTRY\", loc= \"left\", color= GRAY_2)\n",
    "\n",
    "# text and annotation with -> \n",
    "bars = ax[0].containers[0]\n",
    "bar = bars[0]\n",
    "x= bar.get_x() - bar.get_width() / 2\n",
    "y= bar.get_height()\n",
    "\n",
    "ax[0].text(x + 0.13, y + 0.35, \"Third lowest score\", color= GRAY_3, fontsize= 8.6)\n",
    "ax[0].annotate(text=\"\", \n",
    "               xy= (x + .38, y + .05), # arrows spets coordinate (end with edge)\n",
    "               xytext= (x + 0.5, y + 0.3), # arrows comes from (start)\n",
    "               arrowprops= dict(arrowstyle= \"->\", linewidth= 1, connectionstyle= \"arc3, rad=.1\", color= GRAY_2))\n",
    "\n",
    "fig.tight_layout()\n",
    "fig.savefig(\"figures/Top_5_highest_confidence_interval.png\", dpi= 300)\n"
   ]
  },
  {
   "cell_type": "code",
   "execution_count": 12,
   "id": "6ca17757",
   "metadata": {},
   "outputs": [],
   "source": [
    "df_sweden = df[df[\"Country name\"] == \"Sweden\"]"
   ]
  },
  {
   "cell_type": "code",
   "execution_count": 13,
   "id": "3b19ff51",
   "metadata": {},
   "outputs": [
    {
     "data": {
      "text/plain": [
       "Index(['Country name', 'Ladder score', 'upperwhisker', 'lowerwhisker',\n",
       "       'Explained by: Log GDP per capita', 'Explained by: Social support',\n",
       "       'Explained by: Healthy life expectancy',\n",
       "       'Explained by: Freedom to make life choices',\n",
       "       'Explained by: Generosity', 'Explained by: Perceptions of corruption',\n",
       "       'Dystopia + residual', 'perc_diff_whisker'],\n",
       "      dtype='object')"
      ]
     },
     "execution_count": 13,
     "metadata": {},
     "output_type": "execute_result"
    }
   ],
   "source": [
    "df_sweden.columns"
   ]
  },
  {
   "cell_type": "code",
   "execution_count": 14,
   "id": "2eef92b6",
   "metadata": {},
   "outputs": [],
   "source": [
    "df_sweden = df_sweden.drop([\"upperwhisker\", \"lowerwhisker\", \"perc_diff_whisker\"], axis=1)"
   ]
  },
  {
   "cell_type": "code",
   "execution_count": 15,
   "id": "c53d92ce",
   "metadata": {},
   "outputs": [
    {
     "name": "stdout",
     "output_type": "stream",
     "text": [
      "<class 'pandas.core.frame.DataFrame'>\n",
      "Index: 1 entries, 3 to 3\n",
      "Data columns (total 9 columns):\n",
      " #   Column                                      Non-Null Count  Dtype  \n",
      "---  ------                                      --------------  -----  \n",
      " 0   Country name                                1 non-null      object \n",
      " 1   Ladder score                                1 non-null      float64\n",
      " 2   Explained by: Log GDP per capita            1 non-null      float64\n",
      " 3   Explained by: Social support                1 non-null      float64\n",
      " 4   Explained by: Healthy life expectancy       1 non-null      float64\n",
      " 5   Explained by: Freedom to make life choices  1 non-null      float64\n",
      " 6   Explained by: Generosity                    1 non-null      float64\n",
      " 7   Explained by: Perceptions of corruption     1 non-null      float64\n",
      " 8   Dystopia + residual                         1 non-null      float64\n",
      "dtypes: float64(8), object(1)\n",
      "memory usage: 80.0+ bytes\n"
     ]
    }
   ],
   "source": [
    "df_sweden.info()"
   ]
  },
  {
   "cell_type": "code",
   "execution_count": 16,
   "id": "f16ff6b5",
   "metadata": {},
   "outputs": [],
   "source": [
    "columns = [\"Explained by: Log GDP per capita\", \"Explained by: Social support\", \"Explained by: Healthy life expectancy\", \"Explained by: Freedom to make life choices\", \"Explained by: Generosity\", \"Explained by: Perceptions of corruption\", \"Dystopia + residual\"]\n",
    "\n",
    "\n",
    "df_sweden.loc[:,columns] = (df_sweden[columns].div(df_sweden[\"Ladder score\"], axis=0) * 100).round(2)\n",
    "\n"
   ]
  },
  {
   "cell_type": "code",
   "execution_count": 17,
   "id": "2c4f15a9",
   "metadata": {},
   "outputs": [],
   "source": [
    "df_sweden.drop(\"Ladder score\", axis=1, inplace=True)"
   ]
  },
  {
   "cell_type": "code",
   "execution_count": 18,
   "id": "8ca694bd",
   "metadata": {},
   "outputs": [],
   "source": [
    "df_sweden = df_sweden.transpose().drop(\"Country name\", axis=0)"
   ]
  },
  {
   "cell_type": "code",
   "execution_count": 19,
   "id": "3897cbee",
   "metadata": {},
   "outputs": [
    {
     "data": {
      "text/plain": [
       "Index([3], dtype='int64')"
      ]
     },
     "execution_count": 19,
     "metadata": {},
     "output_type": "execute_result"
    }
   ],
   "source": [
    "df_sweden.columns"
   ]
  },
  {
   "cell_type": "code",
   "execution_count": 20,
   "id": "1ca80554",
   "metadata": {},
   "outputs": [],
   "source": [
    "df_sweden.columns = [\"Percentage (%)\"]"
   ]
  },
  {
   "cell_type": "code",
   "execution_count": 21,
   "id": "d28494ba",
   "metadata": {},
   "outputs": [],
   "source": [
    "df_sweden = df_sweden.reset_index()"
   ]
  },
  {
   "cell_type": "code",
   "execution_count": 22,
   "id": "13f46d17",
   "metadata": {},
   "outputs": [],
   "source": [
    "df_sweden.columns = [\"Category\", \"Percentage (%)\"]"
   ]
  },
  {
   "cell_type": "code",
   "execution_count": 23,
   "id": "6c921252",
   "metadata": {},
   "outputs": [
    {
     "data": {
      "text/html": [
       "<div>\n",
       "<style scoped>\n",
       "    .dataframe tbody tr th:only-of-type {\n",
       "        vertical-align: middle;\n",
       "    }\n",
       "\n",
       "    .dataframe tbody tr th {\n",
       "        vertical-align: top;\n",
       "    }\n",
       "\n",
       "    .dataframe thead th {\n",
       "        text-align: right;\n",
       "    }\n",
       "</style>\n",
       "<table border=\"1\" class=\"dataframe\">\n",
       "  <thead>\n",
       "    <tr style=\"text-align: right;\">\n",
       "      <th></th>\n",
       "      <th>Category</th>\n",
       "      <th>Percentage (%)</th>\n",
       "    </tr>\n",
       "  </thead>\n",
       "  <tbody>\n",
       "    <tr>\n",
       "      <th>0</th>\n",
       "      <td>Explained by: Log GDP per capita</td>\n",
       "      <td>25.57</td>\n",
       "    </tr>\n",
       "    <tr>\n",
       "      <th>1</th>\n",
       "      <td>Explained by: Social support</td>\n",
       "      <td>20.44</td>\n",
       "    </tr>\n",
       "    <tr>\n",
       "      <th>2</th>\n",
       "      <td>Explained by: Healthy life expectancy</td>\n",
       "      <td>9.86</td>\n",
       "    </tr>\n",
       "    <tr>\n",
       "      <th>3</th>\n",
       "      <td>Explained by: Freedom to make life choices</td>\n",
       "      <td>11.41</td>\n",
       "    </tr>\n",
       "    <tr>\n",
       "      <th>4</th>\n",
       "      <td>Explained by: Generosity</td>\n",
       "      <td>3.02</td>\n",
       "    </tr>\n",
       "    <tr>\n",
       "      <th>5</th>\n",
       "      <td>Explained by: Perceptions of corruption</td>\n",
       "      <td>7.13</td>\n",
       "    </tr>\n",
       "    <tr>\n",
       "      <th>6</th>\n",
       "      <td>Dystopia + residual</td>\n",
       "      <td>22.57</td>\n",
       "    </tr>\n",
       "  </tbody>\n",
       "</table>\n",
       "</div>"
      ],
      "text/plain": [
       "                                     Category Percentage (%)\n",
       "0            Explained by: Log GDP per capita          25.57\n",
       "1                Explained by: Social support          20.44\n",
       "2       Explained by: Healthy life expectancy           9.86\n",
       "3  Explained by: Freedom to make life choices          11.41\n",
       "4                    Explained by: Generosity           3.02\n",
       "5     Explained by: Perceptions of corruption           7.13\n",
       "6                         Dystopia + residual          22.57"
      ]
     },
     "execution_count": 23,
     "metadata": {},
     "output_type": "execute_result"
    }
   ],
   "source": [
    "df_sweden"
   ]
  },
  {
   "cell_type": "code",
   "execution_count": 24,
   "id": "c8dfc937",
   "metadata": {},
   "outputs": [],
   "source": [
    "df_sweden = df_sweden.set_index(\"Category\")"
   ]
  },
  {
   "cell_type": "code",
   "execution_count": 60,
   "id": "1f1fceea",
   "metadata": {},
   "outputs": [],
   "source": [
    "df_sweden.sort_values(\"Percentage (%)\", ascending=False, inplace=True)"
   ]
  },
  {
   "cell_type": "code",
   "execution_count": 76,
   "id": "39f4c3f6",
   "metadata": {},
   "outputs": [
    {
     "data": {
      "text/plain": [
       "Text(0, 0, 'PERCENTAGE')"
      ]
     },
     "execution_count": 76,
     "metadata": {},
     "output_type": "execute_result"
    },
    {
     "data": {
      "image/png": "[encoded data removed]",
      "text/plain": [
       "<Figure size 640x480 with 1 Axes>"
      ]
     },
     "metadata": {},
     "output_type": "display_data"
    }
   ],
   "source": [
    "\n",
    "colors = [GRAY_1] * len(df_sweden)\n",
    "colors[:3] = [BLUE_1] * 3\n",
    "\n",
    "\n",
    "ax = df_sweden[\"Percentage (%)\"].plot(kind=\"barh\", color= colors)\n",
    "\n",
    "ax.invert_yaxis()\n",
    "\n",
    "# Clutter\n",
    "ax.tick_params(left= False)\n",
    "ax.spines[[\"top\", \"right\"]].set_visible(False)\n",
    "\n",
    "# contrast\n",
    "ax.spines[[\"left\", \"bottom\"]].set_color(GRAY_1)\n",
    "ax.tick_params(\"both\", labelcolor= GRAY_2)\n",
    "\n",
    "\n",
    "# description title and label - call to action (CTA)\n",
    "ax.set_ylabel(\"CATEGORY\", rotation= 0, color= GRAY_3)\n",
    "ax.yaxis.set_label_coords(-0.1,1)\n",
    "ax.set_xlabel(\"PERCENTAGE\", color= GRAY_3, loc= \"left\")"
   ]
  },
  {
   "cell_type": "code",
   "execution_count": null,
   "id": "c2f7ed4b",
   "metadata": {},
   "outputs": [],
   "source": []
  }
 ],
 "metadata": {
  "kernelspec": {
   "display_name": ".venv",
   "language": "python",
   "name": "python3"
  },
  "language_info": {
   "codemirror_mode": {
    "name": "ipython",
    "version": 3
   },
   "file_extension": ".py",
   "mimetype": "text/x-python",
   "name": "python",
   "nbconvert_exporter": "python",
   "pygments_lexer": "ipython3",
   "version": "3.12.6"
  }
 },
 "nbformat": 4,
 "nbformat_minor": 5
}
