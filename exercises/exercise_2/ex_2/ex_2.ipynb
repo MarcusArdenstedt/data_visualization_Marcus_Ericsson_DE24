{
 "cells": [
  {
   "cell_type": "markdown",
   "id": "4b69b77f",
   "metadata": {},
   "source": [
    "# Price on memory\n",
    "\n",
    "This visualization comes from [ourworldindata](https://ourworldindata.org/technological-change).\n",
    "\n",
    "<img src=\"https://github.com/kokchun/assets/blob/main/data_visualization/historical-cost-of-computer-memory-and-storage.png?raw=true\" alt=\"bar chart and line chart\" width=\"300\">\n",
    "\n",
    "&nbsp; a) Recreate this visualization using plotly, make it as close as possible to the image.\n",
    "\n",
    "&nbsp; b) Apply storytelling principles to improve this visualization. You can make several variations if you want to tell different stories."
   ]
  },
  {
   "cell_type": "code",
   "execution_count": 2,
   "id": "a790350a",
   "metadata": {},
   "outputs": [
    {
     "data": {
      "text/html": [
       "<div>\n",
       "<style scoped>\n",
       "    .dataframe tbody tr th:only-of-type {\n",
       "        vertical-align: middle;\n",
       "    }\n",
       "\n",
       "    .dataframe tbody tr th {\n",
       "        vertical-align: top;\n",
       "    }\n",
       "\n",
       "    .dataframe thead th {\n",
       "        text-align: right;\n",
       "    }\n",
       "</style>\n",
       "<table border=\"1\" class=\"dataframe\">\n",
       "  <thead>\n",
       "    <tr style=\"text-align: right;\">\n",
       "      <th></th>\n",
       "      <th>Entity</th>\n",
       "      <th>Code</th>\n",
       "      <th>Year</th>\n",
       "      <th>Historical price of memory</th>\n",
       "      <th>Historical price of flash memory</th>\n",
       "      <th>Historical price of disk drives</th>\n",
       "      <th>Historical price of solid-state drives</th>\n",
       "    </tr>\n",
       "  </thead>\n",
       "  <tbody>\n",
       "    <tr>\n",
       "      <th>0</th>\n",
       "      <td>World</td>\n",
       "      <td>OWID_WRL</td>\n",
       "      <td>1957</td>\n",
       "      <td>3.786967e+15</td>\n",
       "      <td>NaN</td>\n",
       "      <td>NaN</td>\n",
       "      <td>NaN</td>\n",
       "    </tr>\n",
       "    <tr>\n",
       "      <th>1</th>\n",
       "      <td>World</td>\n",
       "      <td>OWID_WRL</td>\n",
       "      <td>1959</td>\n",
       "      <td>6.032806e+14</td>\n",
       "      <td>NaN</td>\n",
       "      <td>6.747736e+10</td>\n",
       "      <td>NaN</td>\n",
       "    </tr>\n",
       "    <tr>\n",
       "      <th>2</th>\n",
       "      <td>World</td>\n",
       "      <td>OWID_WRL</td>\n",
       "      <td>1960</td>\n",
       "      <td>4.588051e+13</td>\n",
       "      <td>NaN</td>\n",
       "      <td>3.150364e+10</td>\n",
       "      <td>NaN</td>\n",
       "    </tr>\n",
       "    <tr>\n",
       "      <th>3</th>\n",
       "      <td>World</td>\n",
       "      <td>OWID_WRL</td>\n",
       "      <td>1965</td>\n",
       "      <td>2.170492e+13</td>\n",
       "      <td>NaN</td>\n",
       "      <td>NaN</td>\n",
       "      <td>NaN</td>\n",
       "    </tr>\n",
       "    <tr>\n",
       "      <th>4</th>\n",
       "      <td>World</td>\n",
       "      <td>OWID_WRL</td>\n",
       "      <td>1970</td>\n",
       "      <td>4.892936e+12</td>\n",
       "      <td>NaN</td>\n",
       "      <td>1.731185e+09</td>\n",
       "      <td>NaN</td>\n",
       "    </tr>\n",
       "  </tbody>\n",
       "</table>\n",
       "</div>"
      ],
      "text/plain": [
       "  Entity      Code  Year  Historical price of memory  \\\n",
       "0  World  OWID_WRL  1957                3.786967e+15   \n",
       "1  World  OWID_WRL  1959                6.032806e+14   \n",
       "2  World  OWID_WRL  1960                4.588051e+13   \n",
       "3  World  OWID_WRL  1965                2.170492e+13   \n",
       "4  World  OWID_WRL  1970                4.892936e+12   \n",
       "\n",
       "   Historical price of flash memory  Historical price of disk drives  \\\n",
       "0                               NaN                              NaN   \n",
       "1                               NaN                     6.747736e+10   \n",
       "2                               NaN                     3.150364e+10   \n",
       "3                               NaN                              NaN   \n",
       "4                               NaN                     1.731185e+09   \n",
       "\n",
       "   Historical price of solid-state drives  \n",
       "0                                     NaN  \n",
       "1                                     NaN  \n",
       "2                                     NaN  \n",
       "3                                     NaN  \n",
       "4                                     NaN  "
      ]
     },
     "execution_count": 2,
     "metadata": {},
     "output_type": "execute_result"
    }
   ],
   "source": [
    "import pandas as pd\n",
    "import plotly.express as px\n",
    "\n",
    "\n",
    "df = pd.read_csv(\"data/historical-cost-of-computer-memory-and-storage.csv\")\n",
    "\n",
    "df.head()\n"
   ]
  },
  {
   "cell_type": "code",
   "execution_count": 3,
   "id": "d771b2e7",
   "metadata": {},
   "outputs": [
    {
     "data": {
      "text/plain": [
       "(59, 7)"
      ]
     },
     "execution_count": 3,
     "metadata": {},
     "output_type": "execute_result"
    }
   ],
   "source": [
    "df.shape"
   ]
  },
  {
   "cell_type": "code",
   "execution_count": 4,
   "id": "597cf7a5",
   "metadata": {},
   "outputs": [
    {
     "name": "stdout",
     "output_type": "stream",
     "text": [
      "<class 'pandas.core.frame.DataFrame'>\n",
      "RangeIndex: 59 entries, 0 to 58\n",
      "Data columns (total 7 columns):\n",
      " #   Column                                  Non-Null Count  Dtype  \n",
      "---  ------                                  --------------  -----  \n",
      " 0   Entity                                  59 non-null     object \n",
      " 1   Code                                    59 non-null     object \n",
      " 2   Year                                    59 non-null     int64  \n",
      " 3   Historical price of memory              56 non-null     float64\n",
      " 4   Historical price of flash memory        15 non-null     float64\n",
      " 5   Historical price of disk drives         54 non-null     float64\n",
      " 6   Historical price of solid-state drives  11 non-null     float64\n",
      "dtypes: float64(4), int64(1), object(2)\n",
      "memory usage: 3.4+ KB\n"
     ]
    }
   ],
   "source": [
    "df.info()"
   ]
  },
  {
   "cell_type": "code",
   "execution_count": 5,
   "id": "1b470f66",
   "metadata": {},
   "outputs": [
    {
     "data": {
      "text/plain": [
       "Index(['Entity', 'Code', 'Year', 'Historical price of memory',\n",
       "       'Historical price of flash memory', 'Historical price of disk drives',\n",
       "       'Historical price of solid-state drives'],\n",
       "      dtype='object')"
      ]
     },
     "execution_count": 5,
     "metadata": {},
     "output_type": "execute_result"
    }
   ],
   "source": [
    "df.columns"
   ]
  },
  {
   "cell_type": "code",
   "execution_count": 12,
   "id": "91a1b01f",
   "metadata": {},
   "outputs": [],
   "source": [
    "df_memory_price = df[[\"Year\", \"Historical price of memory\",\"Historical price of flash memory\", \"Historical price of flash memory\", \"Historical price of disk drives\", \"Historical price of solid-state drives\"]]"
   ]
  },
  {
   "cell_type": "code",
   "execution_count": 13,
   "id": "f898bf33",
   "metadata": {},
   "outputs": [
    {
     "data": {
      "text/plain": [
       "(59, 6)"
      ]
     },
     "execution_count": 13,
     "metadata": {},
     "output_type": "execute_result"
    }
   ],
   "source": [
    "df_memory_price.shape"
   ]
  },
  {
   "cell_type": "code",
   "execution_count": 14,
   "id": "ca193798",
   "metadata": {},
   "outputs": [
    {
     "data": {
      "text/plain": [
       "Index(['Year', 'Historical price of memory',\n",
       "       'Historical price of flash memory', 'Historical price of flash memory',\n",
       "       'Historical price of disk drives',\n",
       "       'Historical price of solid-state drives'],\n",
       "      dtype='object')"
      ]
     },
     "execution_count": 14,
     "metadata": {},
     "output_type": "execute_result"
    }
   ],
   "source": [
    "df_memory_price.columns"
   ]
  }
 ],
 "metadata": {
  "kernelspec": {
   "display_name": ".venv",
   "language": "python",
   "name": "python3"
  },
  "language_info": {
   "codemirror_mode": {
    "name": "ipython",
    "version": 3
   },
   "file_extension": ".py",
   "mimetype": "text/x-python",
   "name": "python",
   "nbconvert_exporter": "python",
   "pygments_lexer": "ipython3",
   "version": "3.12.6"
  }
 },
 "nbformat": 4,
 "nbformat_minor": 5
}
