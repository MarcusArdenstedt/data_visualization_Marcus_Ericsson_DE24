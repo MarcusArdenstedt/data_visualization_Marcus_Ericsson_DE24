{
 "cells": [
  {
   "cell_type": "markdown",
   "id": "4f7f8c17",
   "metadata": {},
   "source": [
    "# Exercise 2 - Interactive charting with plotly"
   ]
  },
  {
   "cell_type": "markdown",
   "id": "cad86b7d",
   "metadata": {},
   "source": [
    "## 0. Internet usage"
   ]
  },
  {
   "cell_type": "markdown",
   "id": "59f10858",
   "metadata": {},
   "source": [
    "This visualization comes from [ourworldindata](https://ourworldindata.org/technological-change).\n",
    "\n",
    "<img src=\"https://github.com/kokchun/assets/blob/main/data_visualization/share-of-individuals-using-the-internet.png?raw=true\" alt=\"bar chart and line chart\" width=\"500\">\n",
    "\n",
    "&nbsp; a) Recreate this visualization using plotly, make it as close as possible to the image.\n",
    "\n",
    "&nbsp; b) Apply storytelling principles to improve this visualization. You can make several variations if you want to tell different stories."
   ]
  },
  {
   "cell_type": "code",
   "execution_count": 3,
   "id": "69791284",
   "metadata": {},
   "outputs": [
    {
     "data": {
      "text/html": [
       "<div>\n",
       "<style scoped>\n",
       "    .dataframe tbody tr th:only-of-type {\n",
       "        vertical-align: middle;\n",
       "    }\n",
       "\n",
       "    .dataframe tbody tr th {\n",
       "        vertical-align: top;\n",
       "    }\n",
       "\n",
       "    .dataframe thead th {\n",
       "        text-align: right;\n",
       "    }\n",
       "</style>\n",
       "<table border=\"1\" class=\"dataframe\">\n",
       "  <thead>\n",
       "    <tr style=\"text-align: right;\">\n",
       "      <th></th>\n",
       "      <th>Entity</th>\n",
       "      <th>Code</th>\n",
       "      <th>Year</th>\n",
       "      <th>Individuals using the Internet (% of population)</th>\n",
       "    </tr>\n",
       "  </thead>\n",
       "  <tbody>\n",
       "    <tr>\n",
       "      <th>0</th>\n",
       "      <td>Afghanistan</td>\n",
       "      <td>AFG</td>\n",
       "      <td>1990</td>\n",
       "      <td>0.0</td>\n",
       "    </tr>\n",
       "    <tr>\n",
       "      <th>1</th>\n",
       "      <td>Afghanistan</td>\n",
       "      <td>AFG</td>\n",
       "      <td>1991</td>\n",
       "      <td>0.0</td>\n",
       "    </tr>\n",
       "    <tr>\n",
       "      <th>2</th>\n",
       "      <td>Afghanistan</td>\n",
       "      <td>AFG</td>\n",
       "      <td>1992</td>\n",
       "      <td>0.0</td>\n",
       "    </tr>\n",
       "    <tr>\n",
       "      <th>3</th>\n",
       "      <td>Afghanistan</td>\n",
       "      <td>AFG</td>\n",
       "      <td>1993</td>\n",
       "      <td>0.0</td>\n",
       "    </tr>\n",
       "    <tr>\n",
       "      <th>4</th>\n",
       "      <td>Afghanistan</td>\n",
       "      <td>AFG</td>\n",
       "      <td>1994</td>\n",
       "      <td>0.0</td>\n",
       "    </tr>\n",
       "  </tbody>\n",
       "</table>\n",
       "</div>"
      ],
      "text/plain": [
       "        Entity Code  Year  Individuals using the Internet (% of population)\n",
       "0  Afghanistan  AFG  1990                                               0.0\n",
       "1  Afghanistan  AFG  1991                                               0.0\n",
       "2  Afghanistan  AFG  1992                                               0.0\n",
       "3  Afghanistan  AFG  1993                                               0.0\n",
       "4  Afghanistan  AFG  1994                                               0.0"
      ]
     },
     "execution_count": 3,
     "metadata": {},
     "output_type": "execute_result"
    }
   ],
   "source": [
    "import plotly.express as px\n",
    "import pandas as pd\n",
    "\n",
    "df = pd.read_csv(\"data/share-of-individuals-using-the-internet.csv\")\n",
    "\n",
    "df.head()"
   ]
  },
  {
   "cell_type": "code",
   "execution_count": 4,
   "id": "ebc75c1b",
   "metadata": {},
   "outputs": [
    {
     "name": "stdout",
     "output_type": "stream",
     "text": [
      "<class 'pandas.core.frame.DataFrame'>\n",
      "RangeIndex: 7184 entries, 0 to 7183\n",
      "Data columns (total 4 columns):\n",
      " #   Column                                            Non-Null Count  Dtype  \n",
      "---  ------                                            --------------  -----  \n",
      " 0   Entity                                            7184 non-null   object \n",
      " 1   Code                                              6717 non-null   object \n",
      " 2   Year                                              7184 non-null   int64  \n",
      " 3   Individuals using the Internet (% of population)  7184 non-null   float64\n",
      "dtypes: float64(1), int64(1), object(2)\n",
      "memory usage: 224.6+ KB\n"
     ]
    }
   ],
   "source": [
    "df.info()"
   ]
  },
  {
   "cell_type": "code",
   "execution_count": 5,
   "id": "a1938728",
   "metadata": {},
   "outputs": [
    {
     "data": {
      "text/plain": [
       "Index(['Entity', 'Code', 'Year',\n",
       "       'Individuals using the Internet (% of population)'],\n",
       "      dtype='object')"
      ]
     },
     "execution_count": 5,
     "metadata": {},
     "output_type": "execute_result"
    }
   ],
   "source": [
    "df.columns"
   ]
  },
  {
   "cell_type": "code",
   "execution_count": 6,
   "id": "41e3b92f",
   "metadata": {},
   "outputs": [],
   "source": [
    "df_south_asia_2021 = df[(df[\"Year\"] == 2021) & (df[\"Entity\"] == \"South Asia (WB)\")]"
   ]
  },
  {
   "cell_type": "code",
   "execution_count": 7,
   "id": "a1facef0",
   "metadata": {},
   "outputs": [],
   "source": [
    "internet2023 = df[df[\"Year\"] == 2023]"
   ]
  },
  {
   "cell_type": "code",
   "execution_count": 8,
   "id": "bd218561",
   "metadata": {},
   "outputs": [],
   "source": [
    "internet2023 = pd.concat([internet2023, df_south_asia_2021], ignore_index=True)"
   ]
  },
  {
   "cell_type": "code",
   "execution_count": 9,
   "id": "99df8099",
   "metadata": {},
   "outputs": [],
   "source": [
    "internet2023 = internet2023.query(\n",
    "    \"Entity in ['North America (WB)', 'Europe and Central Asia (WB)', 'Latin America and Caribbean (WB)', 'East Asia and Pacific (WB)', 'Middle East and North Africa (WB)', 'World', 'South Asia (WB)', 'Sub-Saharan Africa (WB)']\"\n",
    ")"
   ]
  },
  {
   "cell_type": "code",
   "execution_count": 10,
   "id": "097a7011",
   "metadata": {},
   "outputs": [
    {
     "name": "stdout",
     "output_type": "stream",
     "text": [
      "<class 'pandas.core.frame.DataFrame'>\n",
      "Index: 8 entries, 17 to 71\n",
      "Data columns (total 4 columns):\n",
      " #   Column                                            Non-Null Count  Dtype  \n",
      "---  ------                                            --------------  -----  \n",
      " 0   Entity                                            8 non-null      object \n",
      " 1   Code                                              1 non-null      object \n",
      " 2   Year                                              8 non-null      int64  \n",
      " 3   Individuals using the Internet (% of population)  8 non-null      float64\n",
      "dtypes: float64(1), int64(1), object(2)\n",
      "memory usage: 320.0+ bytes\n"
     ]
    }
   ],
   "source": [
    "internet2023.info()"
   ]
  },
  {
   "cell_type": "code",
   "execution_count": 11,
   "id": "63be94c4",
   "metadata": {},
   "outputs": [
    {
     "data": {
      "text/plain": [
       "(8, 4)"
      ]
     },
     "execution_count": 11,
     "metadata": {},
     "output_type": "execute_result"
    }
   ],
   "source": [
    "internet2023.shape"
   ]
  },
  {
   "cell_type": "code",
   "execution_count": 12,
   "id": "47e06b2c",
   "metadata": {},
   "outputs": [
    {
     "data": {
      "text/plain": [
       "Index(['Entity', 'Code', 'Year',\n",
       "       'Individuals using the Internet (% of population)'],\n",
       "      dtype='object')"
      ]
     },
     "execution_count": 12,
     "metadata": {},
     "output_type": "execute_result"
    }
   ],
   "source": [
    "internet2023.columns"
   ]
  },
  {
   "cell_type": "code",
   "execution_count": 13,
   "id": "b86c6c8a",
   "metadata": {},
   "outputs": [
    {
     "data": {
      "text/html": [
       "<div>\n",
       "<style scoped>\n",
       "    .dataframe tbody tr th:only-of-type {\n",
       "        vertical-align: middle;\n",
       "    }\n",
       "\n",
       "    .dataframe tbody tr th {\n",
       "        vertical-align: top;\n",
       "    }\n",
       "\n",
       "    .dataframe thead th {\n",
       "        text-align: right;\n",
       "    }\n",
       "</style>\n",
       "<table border=\"1\" class=\"dataframe\">\n",
       "  <thead>\n",
       "    <tr style=\"text-align: right;\">\n",
       "      <th></th>\n",
       "      <th>Entity</th>\n",
       "      <th>Code</th>\n",
       "      <th>Year</th>\n",
       "      <th>Individuals using the Internet (% of population)</th>\n",
       "    </tr>\n",
       "  </thead>\n",
       "  <tbody>\n",
       "    <tr>\n",
       "      <th>17</th>\n",
       "      <td>East Asia and Pacific (WB)</td>\n",
       "      <td>NaN</td>\n",
       "      <td>2023</td>\n",
       "      <td>79.000000</td>\n",
       "    </tr>\n",
       "    <tr>\n",
       "      <th>20</th>\n",
       "      <td>Europe and Central Asia (WB)</td>\n",
       "      <td>NaN</td>\n",
       "      <td>2023</td>\n",
       "      <td>90.100000</td>\n",
       "    </tr>\n",
       "    <tr>\n",
       "      <th>33</th>\n",
       "      <td>Latin America and Caribbean (WB)</td>\n",
       "      <td>NaN</td>\n",
       "      <td>2023</td>\n",
       "      <td>81.000000</td>\n",
       "    </tr>\n",
       "    <tr>\n",
       "      <th>43</th>\n",
       "      <td>Middle East and North Africa (WB)</td>\n",
       "      <td>NaN</td>\n",
       "      <td>2023</td>\n",
       "      <td>77.700000</td>\n",
       "    </tr>\n",
       "    <tr>\n",
       "      <th>45</th>\n",
       "      <td>North America (WB)</td>\n",
       "      <td>NaN</td>\n",
       "      <td>2023</td>\n",
       "      <td>97.300000</td>\n",
       "    </tr>\n",
       "    <tr>\n",
       "      <th>61</th>\n",
       "      <td>Sub-Saharan Africa (WB)</td>\n",
       "      <td>NaN</td>\n",
       "      <td>2023</td>\n",
       "      <td>36.700000</td>\n",
       "    </tr>\n",
       "    <tr>\n",
       "      <th>70</th>\n",
       "      <td>World</td>\n",
       "      <td>OWID_WRL</td>\n",
       "      <td>2023</td>\n",
       "      <td>67.400000</td>\n",
       "    </tr>\n",
       "    <tr>\n",
       "      <th>71</th>\n",
       "      <td>South Asia (WB)</td>\n",
       "      <td>NaN</td>\n",
       "      <td>2021</td>\n",
       "      <td>42.850647</td>\n",
       "    </tr>\n",
       "  </tbody>\n",
       "</table>\n",
       "</div>"
      ],
      "text/plain": [
       "                               Entity      Code  Year  \\\n",
       "17         East Asia and Pacific (WB)       NaN  2023   \n",
       "20       Europe and Central Asia (WB)       NaN  2023   \n",
       "33   Latin America and Caribbean (WB)       NaN  2023   \n",
       "43  Middle East and North Africa (WB)       NaN  2023   \n",
       "45                 North America (WB)       NaN  2023   \n",
       "61            Sub-Saharan Africa (WB)       NaN  2023   \n",
       "70                              World  OWID_WRL  2023   \n",
       "71                    South Asia (WB)       NaN  2021   \n",
       "\n",
       "    Individuals using the Internet (% of population)  \n",
       "17                                         79.000000  \n",
       "20                                         90.100000  \n",
       "33                                         81.000000  \n",
       "43                                         77.700000  \n",
       "45                                         97.300000  \n",
       "61                                         36.700000  \n",
       "70                                         67.400000  \n",
       "71                                         42.850647  "
      ]
     },
     "execution_count": 13,
     "metadata": {},
     "output_type": "execute_result"
    }
   ],
   "source": [
    "internet2023"
   ]
  },
  {
   "cell_type": "code",
   "execution_count": 14,
   "id": "7fc1fa59",
   "metadata": {},
   "outputs": [],
   "source": [
    "internet2023 = internet2023.sort_values(\n",
    "    by=\"Individuals using the Internet (% of population)\", ascending=True\n",
    ")"
   ]
  },
  {
   "cell_type": "code",
   "execution_count": 15,
   "id": "fcb2e2bc",
   "metadata": {},
   "outputs": [],
   "source": [
    "from constant import GRAY_3, GRAY_1, GRAY_2"
   ]
  },
  {
   "cell_type": "code",
   "execution_count": 35,
   "id": "e58eb8ed",
   "metadata": {},
   "outputs": [
    {
     "data": {
      "application/vnd.plotly.v1+json": {
       "config": {
        "plotlyServerURL": "https://plot.ly"
       },
       "data": [
        {
         "hovertemplate": "Individuals using the Internet (% of population)=%{x}<br>Entity=%{y}<extra></extra>",
         "legendgroup": "",
         "marker": {
          "color": "#7c93d8",
          "pattern": {
           "shape": ""
          }
         },
         "name": "",
         "orientation": "h",
         "showlegend": false,
         "textposition": "auto",
         "type": "bar",
         "x": {
          "bdata": "mpmZmZlZQkBjuDoA4mxFQJqZmZmZ2VBAzczMzMxsU0AAAAAAAMBTQAAAAAAAQFRAZmZmZmaGVkAzMzMzM1NYQA==",
          "dtype": "f8"
         },
         "xaxis": "x",
         "y": [
          "Sub-Saharan Africa (WB)",
          "South Asia (WB)",
          "World",
          "Middle East and North Africa (WB)",
          "East Asia and Pacific (WB)",
          "Latin America and Caribbean (WB)",
          "Europe and Central Asia (WB)",
          "North America (WB)"
         ],
         "yaxis": "y"
        }
       ],
       "layout": {
        "annotations": [
         {
          "align": "left",
          "font": {
           "color": "#969696",
           "size": 14
          },
          "showarrow": false,
          "text": "<b>Data source</b>: International Telecommunication Union (via World Bank)(2025)",
          "x": -0.4,
          "xref": "paper",
          "y": -0.08,
          "yref": "paper"
         },
         {
          "font": {
           "color": "#969696",
           "size": 14
          },
          "showarrow": false,
          "text": "OurWorldData.org/internet | CC BY",
          "x": 1.1,
          "xref": "paper",
          "y": -0.08,
          "yref": "paper"
         },
         {
          "align": "left",
          "font": {
           "color": "#969696",
           "size": 13
          },
          "showarrow": false,
          "text": "<b>1.Internet user</b>: An internet user is defined by the international Telecommunication Union as anyone who has accessed the internet from any<br>location int the last three months. This can be from any type of device, including a computer, mobile phone, personal digital assistants, games<br>machine, digital TV, and others technological devices",
          "x": -0.4,
          "xref": "paper",
          "y": -0.32,
          "yref": "paper"
         },
         {
          "font": {
           "color": "#191919",
           "size": 12
          },
          "showarrow": false,
          "text": "36.7%",
          "x": 36.7,
          "xanchor": "left",
          "xref": "x",
          "y": "Sub-Saharan Africa (WB)",
          "yanchor": "middle",
          "yref": "y"
         },
         {
          "font": {
           "color": "#191919",
           "size": 12
          },
          "showarrow": false,
          "text": "42.9%",
          "x": 42.850647,
          "xanchor": "left",
          "xref": "x",
          "y": "South Asia (WB)",
          "yanchor": "middle",
          "yref": "y"
         },
         {
          "font": {
           "color": "#191919",
           "size": 12
          },
          "showarrow": false,
          "text": "67.4%",
          "x": 67.4,
          "xanchor": "left",
          "xref": "x",
          "y": "World",
          "yanchor": "middle",
          "yref": "y"
         },
         {
          "font": {
           "color": "#191919",
           "size": 12
          },
          "showarrow": false,
          "text": "77.7%",
          "x": 77.7,
          "xanchor": "left",
          "xref": "x",
          "y": "Middle East and North Africa (WB)",
          "yanchor": "middle",
          "yref": "y"
         },
         {
          "font": {
           "color": "#191919",
           "size": 12
          },
          "showarrow": false,
          "text": "79.0%",
          "x": 79,
          "xanchor": "left",
          "xref": "x",
          "y": "East Asia and Pacific (WB)",
          "yanchor": "middle",
          "yref": "y"
         },
         {
          "font": {
           "color": "#191919",
           "size": 12
          },
          "showarrow": false,
          "text": "81.0%",
          "x": 81,
          "xanchor": "left",
          "xref": "x",
          "y": "Latin America and Caribbean (WB)",
          "yanchor": "middle",
          "yref": "y"
         },
         {
          "font": {
           "color": "#191919",
           "size": 12
          },
          "showarrow": false,
          "text": "90.1%",
          "x": 90.1,
          "xanchor": "left",
          "xref": "x",
          "y": "Europe and Central Asia (WB)",
          "yanchor": "middle",
          "yref": "y"
         },
         {
          "font": {
           "color": "#191919",
           "size": 12
          },
          "showarrow": false,
          "text": "97.3%",
          "x": 97.3,
          "xanchor": "left",
          "xref": "x",
          "y": "North America (WB)",
          "yanchor": "middle",
          "yref": "y"
         },
         {
          "font": {
           "color": "#969696",
           "size": 13
          },
          "showarrow": false,
          "text": "in 2021",
          "x": 0.52,
          "xref": "paper",
          "y": 0.15,
          "yref": "paper"
         }
        ],
        "bargap": 0.4,
        "barmode": "relative",
        "height": 500,
        "images": [
         {
          "layer": "above",
          "sizex": 0.15,
          "sizey": 0.15,
          "source": "https://docs.owid.io/projects/covid/en/latest/_static/owid.png",
          "x": 1.08,
          "xanchor": "right",
          "xref": "paper",
          "y": 1.25,
          "yanchor": "top",
          "yref": "paper"
         }
        ],
        "legend": {
         "tracegroupgap": 0
        },
        "margin": {
         "b": 102
        },
        "plot_bgcolor": "white",
        "shapes": [
         {
          "line": {
           "color": "lightgrey",
           "width": 1
          },
          "type": "line",
          "x0": -0.5,
          "x1": 1.5,
          "xref": "paper",
          "y0": -0.12,
          "y1": -0.12,
          "yref": "paper"
         }
        ],
        "template": {
         "data": {
          "bar": [
           {
            "error_x": {
             "color": "#2a3f5f"
            },
            "error_y": {
             "color": "#2a3f5f"
            },
            "marker": {
             "line": {
              "color": "#E5ECF6",
              "width": 0.5
             },
             "pattern": {
              "fillmode": "overlay",
              "size": 10,
              "solidity": 0.2
             }
            },
            "type": "bar"
           }
          ],
          "barpolar": [
           {
            "marker": {
             "line": {
              "color": "#E5ECF6",
              "width": 0.5
             },
             "pattern": {
              "fillmode": "overlay",
              "size": 10,
              "solidity": 0.2
             }
            },
            "type": "barpolar"
           }
          ],
          "carpet": [
           {
            "aaxis": {
             "endlinecolor": "#2a3f5f",
             "gridcolor": "white",
             "linecolor": "white",
             "minorgridcolor": "white",
             "startlinecolor": "#2a3f5f"
            },
            "baxis": {
             "endlinecolor": "#2a3f5f",
             "gridcolor": "white",
             "linecolor": "white",
             "minorgridcolor": "white",
             "startlinecolor": "#2a3f5f"
            },
            "type": "carpet"
           }
          ],
          "choropleth": [
           {
            "colorbar": {
             "outlinewidth": 0,
             "ticks": ""
            },
            "type": "choropleth"
           }
          ],
          "contour": [
           {
            "colorbar": {
             "outlinewidth": 0,
             "ticks": ""
            },
            "colorscale": [
             [
              0,
              "#0d0887"
             ],
             [
              0.1111111111111111,
              "#46039f"
             ],
             [
              0.2222222222222222,
              "#7201a8"
             ],
             [
              0.3333333333333333,
              "#9c179e"
             ],
             [
              0.4444444444444444,
              "#bd3786"
             ],
             [
              0.5555555555555556,
              "#d8576b"
             ],
             [
              0.6666666666666666,
              "#ed7953"
             ],
             [
              0.7777777777777778,
              "#fb9f3a"
             ],
             [
              0.8888888888888888,
              "#fdca26"
             ],
             [
              1,
              "#f0f921"
             ]
            ],
            "type": "contour"
           }
          ],
          "contourcarpet": [
           {
            "colorbar": {
             "outlinewidth": 0,
             "ticks": ""
            },
            "type": "contourcarpet"
           }
          ],
          "heatmap": [
           {
            "colorbar": {
             "outlinewidth": 0,
             "ticks": ""
            },
            "colorscale": [
             [
              0,
              "#0d0887"
             ],
             [
              0.1111111111111111,
              "#46039f"
             ],
             [
              0.2222222222222222,
              "#7201a8"
             ],
             [
              0.3333333333333333,
              "#9c179e"
             ],
             [
              0.4444444444444444,
              "#bd3786"
             ],
             [
              0.5555555555555556,
              "#d8576b"
             ],
             [
              0.6666666666666666,
              "#ed7953"
             ],
             [
              0.7777777777777778,
              "#fb9f3a"
             ],
             [
              0.8888888888888888,
              "#fdca26"
             ],
             [
              1,
              "#f0f921"
             ]
            ],
            "type": "heatmap"
           }
          ],
          "histogram": [
           {
            "marker": {
             "pattern": {
              "fillmode": "overlay",
              "size": 10,
              "solidity": 0.2
             }
            },
            "type": "histogram"
           }
          ],
          "histogram2d": [
           {
            "colorbar": {
             "outlinewidth": 0,
             "ticks": ""
            },
            "colorscale": [
             [
              0,
              "#0d0887"
             ],
             [
              0.1111111111111111,
              "#46039f"
             ],
             [
              0.2222222222222222,
              "#7201a8"
             ],
             [
              0.3333333333333333,
              "#9c179e"
             ],
             [
              0.4444444444444444,
              "#bd3786"
             ],
             [
              0.5555555555555556,
              "#d8576b"
             ],
             [
              0.6666666666666666,
              "#ed7953"
             ],
             [
              0.7777777777777778,
              "#fb9f3a"
             ],
             [
              0.8888888888888888,
              "#fdca26"
             ],
             [
              1,
              "#f0f921"
             ]
            ],
            "type": "histogram2d"
           }
          ],
          "histogram2dcontour": [
           {
            "colorbar": {
             "outlinewidth": 0,
             "ticks": ""
            },
            "colorscale": [
             [
              0,
              "#0d0887"
             ],
             [
              0.1111111111111111,
              "#46039f"
             ],
             [
              0.2222222222222222,
              "#7201a8"
             ],
             [
              0.3333333333333333,
              "#9c179e"
             ],
             [
              0.4444444444444444,
              "#bd3786"
             ],
             [
              0.5555555555555556,
              "#d8576b"
             ],
             [
              0.6666666666666666,
              "#ed7953"
             ],
             [
              0.7777777777777778,
              "#fb9f3a"
             ],
             [
              0.8888888888888888,
              "#fdca26"
             ],
             [
              1,
              "#f0f921"
             ]
            ],
            "type": "histogram2dcontour"
           }
          ],
          "mesh3d": [
           {
            "colorbar": {
             "outlinewidth": 0,
             "ticks": ""
            },
            "type": "mesh3d"
           }
          ],
          "parcoords": [
           {
            "line": {
             "colorbar": {
              "outlinewidth": 0,
              "ticks": ""
             }
            },
            "type": "parcoords"
           }
          ],
          "pie": [
           {
            "automargin": true,
            "type": "pie"
           }
          ],
          "scatter": [
           {
            "fillpattern": {
             "fillmode": "overlay",
             "size": 10,
             "solidity": 0.2
            },
            "type": "scatter"
           }
          ],
          "scatter3d": [
           {
            "line": {
             "colorbar": {
              "outlinewidth": 0,
              "ticks": ""
             }
            },
            "marker": {
             "colorbar": {
              "outlinewidth": 0,
              "ticks": ""
             }
            },
            "type": "scatter3d"
           }
          ],
          "scattercarpet": [
           {
            "marker": {
             "colorbar": {
              "outlinewidth": 0,
              "ticks": ""
             }
            },
            "type": "scattercarpet"
           }
          ],
          "scattergeo": [
           {
            "marker": {
             "colorbar": {
              "outlinewidth": 0,
              "ticks": ""
             }
            },
            "type": "scattergeo"
           }
          ],
          "scattergl": [
           {
            "marker": {
             "colorbar": {
              "outlinewidth": 0,
              "ticks": ""
             }
            },
            "type": "scattergl"
           }
          ],
          "scattermap": [
           {
            "marker": {
             "colorbar": {
              "outlinewidth": 0,
              "ticks": ""
             }
            },
            "type": "scattermap"
           }
          ],
          "scattermapbox": [
           {
            "marker": {
             "colorbar": {
              "outlinewidth": 0,
              "ticks": ""
             }
            },
            "type": "scattermapbox"
           }
          ],
          "scatterpolar": [
           {
            "marker": {
             "colorbar": {
              "outlinewidth": 0,
              "ticks": ""
             }
            },
            "type": "scatterpolar"
           }
          ],
          "scatterpolargl": [
           {
            "marker": {
             "colorbar": {
              "outlinewidth": 0,
              "ticks": ""
             }
            },
            "type": "scatterpolargl"
           }
          ],
          "scatterternary": [
           {
            "marker": {
             "colorbar": {
              "outlinewidth": 0,
              "ticks": ""
             }
            },
            "type": "scatterternary"
           }
          ],
          "surface": [
           {
            "colorbar": {
             "outlinewidth": 0,
             "ticks": ""
            },
            "colorscale": [
             [
              0,
              "#0d0887"
             ],
             [
              0.1111111111111111,
              "#46039f"
             ],
             [
              0.2222222222222222,
              "#7201a8"
             ],
             [
              0.3333333333333333,
              "#9c179e"
             ],
             [
              0.4444444444444444,
              "#bd3786"
             ],
             [
              0.5555555555555556,
              "#d8576b"
             ],
             [
              0.6666666666666666,
              "#ed7953"
             ],
             [
              0.7777777777777778,
              "#fb9f3a"
             ],
             [
              0.8888888888888888,
              "#fdca26"
             ],
             [
              1,
              "#f0f921"
             ]
            ],
            "type": "surface"
           }
          ],
          "table": [
           {
            "cells": {
             "fill": {
              "color": "#EBF0F8"
             },
             "line": {
              "color": "white"
             }
            },
            "header": {
             "fill": {
              "color": "#C8D4E3"
             },
             "line": {
              "color": "white"
             }
            },
            "type": "table"
           }
          ]
         },
         "layout": {
          "annotationdefaults": {
           "arrowcolor": "#2a3f5f",
           "arrowhead": 0,
           "arrowwidth": 1
          },
          "autotypenumbers": "strict",
          "coloraxis": {
           "colorbar": {
            "outlinewidth": 0,
            "ticks": ""
           }
          },
          "colorscale": {
           "diverging": [
            [
             0,
             "#8e0152"
            ],
            [
             0.1,
             "#c51b7d"
            ],
            [
             0.2,
             "#de77ae"
            ],
            [
             0.3,
             "#f1b6da"
            ],
            [
             0.4,
             "#fde0ef"
            ],
            [
             0.5,
             "#f7f7f7"
            ],
            [
             0.6,
             "#e6f5d0"
            ],
            [
             0.7,
             "#b8e186"
            ],
            [
             0.8,
             "#7fbc41"
            ],
            [
             0.9,
             "#4d9221"
            ],
            [
             1,
             "#276419"
            ]
           ],
           "sequential": [
            [
             0,
             "#0d0887"
            ],
            [
             0.1111111111111111,
             "#46039f"
            ],
            [
             0.2222222222222222,
             "#7201a8"
            ],
            [
             0.3333333333333333,
             "#9c179e"
            ],
            [
             0.4444444444444444,
             "#bd3786"
            ],
            [
             0.5555555555555556,
             "#d8576b"
            ],
            [
             0.6666666666666666,
             "#ed7953"
            ],
            [
             0.7777777777777778,
             "#fb9f3a"
            ],
            [
             0.8888888888888888,
             "#fdca26"
            ],
            [
             1,
             "#f0f921"
            ]
           ],
           "sequentialminus": [
            [
             0,
             "#0d0887"
            ],
            [
             0.1111111111111111,
             "#46039f"
            ],
            [
             0.2222222222222222,
             "#7201a8"
            ],
            [
             0.3333333333333333,
             "#9c179e"
            ],
            [
             0.4444444444444444,
             "#bd3786"
            ],
            [
             0.5555555555555556,
             "#d8576b"
            ],
            [
             0.6666666666666666,
             "#ed7953"
            ],
            [
             0.7777777777777778,
             "#fb9f3a"
            ],
            [
             0.8888888888888888,
             "#fdca26"
            ],
            [
             1,
             "#f0f921"
            ]
           ]
          },
          "colorway": [
           "#636efa",
           "#EF553B",
           "#00cc96",
           "#ab63fa",
           "#FFA15A",
           "#19d3f3",
           "#FF6692",
           "#B6E880",
           "#FF97FF",
           "#FECB52"
          ],
          "font": {
           "color": "#2a3f5f"
          },
          "geo": {
           "bgcolor": "white",
           "lakecolor": "white",
           "landcolor": "#E5ECF6",
           "showlakes": true,
           "showland": true,
           "subunitcolor": "white"
          },
          "hoverlabel": {
           "align": "left"
          },
          "hovermode": "closest",
          "mapbox": {
           "style": "light"
          },
          "paper_bgcolor": "white",
          "plot_bgcolor": "#E5ECF6",
          "polar": {
           "angularaxis": {
            "gridcolor": "white",
            "linecolor": "white",
            "ticks": ""
           },
           "bgcolor": "#E5ECF6",
           "radialaxis": {
            "gridcolor": "white",
            "linecolor": "white",
            "ticks": ""
           }
          },
          "scene": {
           "xaxis": {
            "backgroundcolor": "#E5ECF6",
            "gridcolor": "white",
            "gridwidth": 2,
            "linecolor": "white",
            "showbackground": true,
            "ticks": "",
            "zerolinecolor": "white"
           },
           "yaxis": {
            "backgroundcolor": "#E5ECF6",
            "gridcolor": "white",
            "gridwidth": 2,
            "linecolor": "white",
            "showbackground": true,
            "ticks": "",
            "zerolinecolor": "white"
           },
           "zaxis": {
            "backgroundcolor": "#E5ECF6",
            "gridcolor": "white",
            "gridwidth": 2,
            "linecolor": "white",
            "showbackground": true,
            "ticks": "",
            "zerolinecolor": "white"
           }
          },
          "shapedefaults": {
           "line": {
            "color": "#2a3f5f"
           }
          },
          "ternary": {
           "aaxis": {
            "gridcolor": "white",
            "linecolor": "white",
            "ticks": ""
           },
           "baxis": {
            "gridcolor": "white",
            "linecolor": "white",
            "ticks": ""
           },
           "bgcolor": "#E5ECF6",
           "caxis": {
            "gridcolor": "white",
            "linecolor": "white",
            "ticks": ""
           }
          },
          "title": {
           "x": 0.05
          },
          "xaxis": {
           "automargin": true,
           "gridcolor": "white",
           "linecolor": "white",
           "ticks": "",
           "title": {
            "standoff": 15
           },
           "zerolinecolor": "white",
           "zerolinewidth": 2
          },
          "yaxis": {
           "automargin": true,
           "gridcolor": "white",
           "linecolor": "white",
           "ticks": "",
           "title": {
            "standoff": 15
           },
           "zerolinecolor": "white",
           "zerolinewidth": 2
          }
         }
        },
        "title": {
         "text": "<b>Share of the population using the internet, 2023</b><br>Share of the population who used the internet&#185; in the last three months"
        },
        "width": 1000,
        "xaxis": {
         "anchor": "y",
         "domain": [
          0,
          1
         ],
         "title": {
          "text": "Individuals using the Internet (% of population)"
         },
         "visible": false
        },
        "yaxis": {
         "anchor": "x",
         "domain": [
          0,
          1
         ],
         "tickfont": {
          "color": "#000000",
          "size": 15
         },
         "title": {}
        }
       }
      }
     },
     "metadata": {},
     "output_type": "display_data"
    }
   ],
   "source": [
    "fig = px.bar(\n",
    "    internet2023,\n",
    "    x=\"Individuals using the Internet (% of population)\",\n",
    "    y=\"Entity\",\n",
    "    title=\"<b>Share of the population using the internet, 2023</b>\"\n",
    "    + \"<br>Share of the population who used the internet&#185; in the last three months\",\n",
    ")\n",
    "\n",
    "# color for the bar\n",
    "fig.update_traces(\n",
    "    marker_color=\"#7c93d8\",\n",
    ")\n",
    "\n",
    "fig.update_layout(\n",
    "    xaxis=dict(visible=False),\n",
    "    yaxis_title=None,\n",
    "    yaxis=dict(tickfont=dict(color= \"#000000\", size= 15)),\n",
    "    plot_bgcolor=\"white\",\n",
    "    width=1000,\n",
    "    height=500,\n",
    "    bargap=0.4,\n",
    ")\n",
    "\n",
    "fig.add_shape(\n",
    "    type=\"line\",\n",
    "    x0=-0.5,\n",
    "    x1= 1.5,\n",
    "    y0= -0.12,\n",
    "    y1= -0.12,\n",
    "    xref= \"paper\",\n",
    "    yref=\"paper\",\n",
    "    line=dict(color= \"lightgrey\", width= 1)\n",
    ")\n",
    "\n",
    "\n",
    "\n",
    "\n",
    "fig.add_annotation(\n",
    "    text=\"<b>Data source</b>: International Telecommunication Union (via World Bank)(2025)\",\n",
    "    xref=\"paper\",  # Relativ till hela figuren (från 0-1)\n",
    "    yref=\"paper\",  # --||-- om man väljer y så kan man ta värde på y-axeln\n",
    "    showarrow=False,\n",
    "    x=-0.4,\n",
    "    y=-0.08,\n",
    "    font=dict(color= \"#969696\", size=14),\n",
    "    align=\"left\"\n",
    ")\n",
    "\n",
    "fig.add_annotation(\n",
    "    text=\"OurWorldData.org/internet | CC BY\",\n",
    "    xref=\"paper\",\n",
    "    yref=\"paper\",\n",
    "    showarrow=False,\n",
    "    x=1.10,\n",
    "    y=-0.08,\n",
    "    font=dict(color= \"#969696\", size=14),\n",
    ")\n",
    "\n",
    "\n",
    "fig.add_layout_image(\n",
    "    dict(\n",
    "        source=\"https://docs.owid.io/projects/covid/en/latest/_static/owid.png\",\n",
    "        xref=\"paper\",\n",
    "        yref=\"paper\",\n",
    "        x=1.08,\n",
    "        y=1.25,\n",
    "        sizex=.15,\n",
    "        sizey=.15,\n",
    "        xanchor=\"right\",\n",
    "        yanchor=\"top\",\n",
    "        layer=\"above\",\n",
    "    )\n",
    ")\n",
    "\n",
    "\n",
    "fig.add_annotation(\n",
    "    text= \"<b>1.Internet user</b>: An internet user is defined by the international Telecommunication Union as anyone who has accessed the internet from any\" \n",
    "    \"<br>location int the last three months. This can be from any type of device, including a computer, mobile phone, personal digital assistants, games\" \n",
    "    \"<br>machine, digital TV, and others technological devices\",\n",
    "    xref=\"paper\",\n",
    "    yref= \"paper\",\n",
    "    x= -0.4,\n",
    "    y= -0.32,\n",
    "    showarrow=False,\n",
    "    font=dict(color= \"#969696\", size= 13),\n",
    "    align= \"left\"\n",
    ")\n",
    "\n",
    "for percent, row in internet2023.iterrows():\n",
    "    fig.add_annotation(\n",
    "        x=row[\"Individuals using the Internet (% of population)\"],\n",
    "        y=row[\"Entity\"],\n",
    "        text=f\"{row['Individuals using the Internet (% of population)']:.1f}%\",\n",
    "        showarrow=False,\n",
    "        xanchor=\"left\",\n",
    "        yanchor=\"middle\",\n",
    "        xref=\"x\",\n",
    "        yref=\"y\",\n",
    "        font=dict(size=12, color=\"#191919\")\n",
    "    )\n",
    "\n",
    "fig.add_annotation(\n",
    "    text=\"in 2021\",\n",
    "    xref=\"paper\",\n",
    "    yref=\"paper\",\n",
    "    x= 0.52,\n",
    "    y=0.15,\n",
    "    showarrow=False,\n",
    "    font=dict(color= \"#969696\", size=13)\n",
    ")\n",
    "\n",
    "\n",
    "fig.update_layout(\n",
    "    margin= dict(b=102)\n",
    ")"
   ]
  }
 ],
 "metadata": {
  "kernelspec": {
   "display_name": ".venv",
   "language": "python",
   "name": "python3"
  },
  "language_info": {
   "codemirror_mode": {
    "name": "ipython",
    "version": 3
   },
   "file_extension": ".py",
   "mimetype": "text/x-python",
   "name": "python",
   "nbconvert_exporter": "python",
   "pygments_lexer": "ipython3",
   "version": "3.12.6"
  }
 },
 "nbformat": 4,
 "nbformat_minor": 5
}
