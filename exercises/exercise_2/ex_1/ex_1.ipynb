{
 "cells": [
  {
   "cell_type": "markdown",
   "id": "29ea7ac2",
   "metadata": {},
   "source": [
    "# 1. Internet usage historical\n",
    "\n",
    "This visualization comes from [ourworldindata](https://ourworldindata.org/technological-change).\n",
    "\n",
    "<img src=\"https://github.com/kokchun/assets/blob/main/data_visualization/share-of-individuals-using-the-internet-historical.png?raw=true\" alt=\"bar chart and line chart\" width=\"500\">\n",
    "\n",
    "&nbsp; a) Recreate this visualization using plotly, make it as close as possible to the image.\n",
    "\n",
    "&nbsp; b) Apply storytelling principles to improve this visualization. You can make several variations if you want to tell different stories."
   ]
  },
  {
   "cell_type": "code",
   "execution_count": 1,
   "id": "84f91baa",
   "metadata": {},
   "outputs": [
    {
     "data": {
      "text/html": [
       "<div>\n",
       "<style scoped>\n",
       "    .dataframe tbody tr th:only-of-type {\n",
       "        vertical-align: middle;\n",
       "    }\n",
       "\n",
       "    .dataframe tbody tr th {\n",
       "        vertical-align: top;\n",
       "    }\n",
       "\n",
       "    .dataframe thead th {\n",
       "        text-align: right;\n",
       "    }\n",
       "</style>\n",
       "<table border=\"1\" class=\"dataframe\">\n",
       "  <thead>\n",
       "    <tr style=\"text-align: right;\">\n",
       "      <th></th>\n",
       "      <th>Entity</th>\n",
       "      <th>Code</th>\n",
       "      <th>Year</th>\n",
       "      <th>Individuals using the Internet (% of population)</th>\n",
       "    </tr>\n",
       "  </thead>\n",
       "  <tbody>\n",
       "    <tr>\n",
       "      <th>0</th>\n",
       "      <td>Afghanistan</td>\n",
       "      <td>AFG</td>\n",
       "      <td>1990</td>\n",
       "      <td>0.0</td>\n",
       "    </tr>\n",
       "    <tr>\n",
       "      <th>1</th>\n",
       "      <td>Afghanistan</td>\n",
       "      <td>AFG</td>\n",
       "      <td>1991</td>\n",
       "      <td>0.0</td>\n",
       "    </tr>\n",
       "    <tr>\n",
       "      <th>2</th>\n",
       "      <td>Afghanistan</td>\n",
       "      <td>AFG</td>\n",
       "      <td>1992</td>\n",
       "      <td>0.0</td>\n",
       "    </tr>\n",
       "    <tr>\n",
       "      <th>3</th>\n",
       "      <td>Afghanistan</td>\n",
       "      <td>AFG</td>\n",
       "      <td>1993</td>\n",
       "      <td>0.0</td>\n",
       "    </tr>\n",
       "    <tr>\n",
       "      <th>4</th>\n",
       "      <td>Afghanistan</td>\n",
       "      <td>AFG</td>\n",
       "      <td>1994</td>\n",
       "      <td>0.0</td>\n",
       "    </tr>\n",
       "  </tbody>\n",
       "</table>\n",
       "</div>"
      ],
      "text/plain": [
       "        Entity Code  Year  Individuals using the Internet (% of population)\n",
       "0  Afghanistan  AFG  1990                                               0.0\n",
       "1  Afghanistan  AFG  1991                                               0.0\n",
       "2  Afghanistan  AFG  1992                                               0.0\n",
       "3  Afghanistan  AFG  1993                                               0.0\n",
       "4  Afghanistan  AFG  1994                                               0.0"
      ]
     },
     "execution_count": 1,
     "metadata": {},
     "output_type": "execute_result"
    }
   ],
   "source": [
    "import pandas as pd\n",
    "import plotly.express as px\n",
    "\n",
    "df = pd.read_csv(\"../data/share-of-individuals-using-the-internet.csv\")\n",
    "\n",
    "df.head()"
   ]
  },
  {
   "cell_type": "code",
   "execution_count": 2,
   "id": "db8034dd",
   "metadata": {},
   "outputs": [
    {
     "data": {
      "text/plain": [
       "(7184, 4)"
      ]
     },
     "execution_count": 2,
     "metadata": {},
     "output_type": "execute_result"
    }
   ],
   "source": [
    "df.shape"
   ]
  },
  {
   "cell_type": "code",
   "execution_count": 3,
   "id": "9a4f0b08",
   "metadata": {},
   "outputs": [
    {
     "name": "stdout",
     "output_type": "stream",
     "text": [
      "<class 'pandas.core.frame.DataFrame'>\n",
      "RangeIndex: 7184 entries, 0 to 7183\n",
      "Data columns (total 4 columns):\n",
      " #   Column                                            Non-Null Count  Dtype  \n",
      "---  ------                                            --------------  -----  \n",
      " 0   Entity                                            7184 non-null   object \n",
      " 1   Code                                              6717 non-null   object \n",
      " 2   Year                                              7184 non-null   int64  \n",
      " 3   Individuals using the Internet (% of population)  7184 non-null   float64\n",
      "dtypes: float64(1), int64(1), object(2)\n",
      "memory usage: 224.6+ KB\n"
     ]
    }
   ],
   "source": [
    "df.info()"
   ]
  },
  {
   "cell_type": "code",
   "execution_count": 4,
   "id": "ce869e51",
   "metadata": {},
   "outputs": [],
   "source": [
    "internet = df[df[\"Entity\"].isin([\"North America (WB)\", \"Europe and Central Asia (WB)\", \"Latin America and Caribbean (WB)\", \"East Asia and Pacific (WB)\", \"Middle East and North Africa (WB)\", \"World\", \"South Asia (WB)\", \"Sub-Saharan Africa (WB)\"])]"
   ]
  },
  {
   "cell_type": "code",
   "execution_count": 5,
   "id": "1ffc9e9f",
   "metadata": {},
   "outputs": [
    {
     "data": {
      "text/html": [
       "<div>\n",
       "<style scoped>\n",
       "    .dataframe tbody tr th:only-of-type {\n",
       "        vertical-align: middle;\n",
       "    }\n",
       "\n",
       "    .dataframe tbody tr th {\n",
       "        vertical-align: top;\n",
       "    }\n",
       "\n",
       "    .dataframe thead th {\n",
       "        text-align: right;\n",
       "    }\n",
       "</style>\n",
       "<table border=\"1\" class=\"dataframe\">\n",
       "  <thead>\n",
       "    <tr style=\"text-align: right;\">\n",
       "      <th></th>\n",
       "      <th>Entity</th>\n",
       "      <th>Year</th>\n",
       "      <th>Individuals using the Internet (% of population)</th>\n",
       "    </tr>\n",
       "  </thead>\n",
       "  <tbody>\n",
       "    <tr>\n",
       "      <th>7082</th>\n",
       "      <td>World</td>\n",
       "      <td>2019</td>\n",
       "      <td>53.2</td>\n",
       "    </tr>\n",
       "    <tr>\n",
       "      <th>7083</th>\n",
       "      <td>World</td>\n",
       "      <td>2020</td>\n",
       "      <td>59.3</td>\n",
       "    </tr>\n",
       "    <tr>\n",
       "      <th>7084</th>\n",
       "      <td>World</td>\n",
       "      <td>2021</td>\n",
       "      <td>62.2</td>\n",
       "    </tr>\n",
       "    <tr>\n",
       "      <th>7085</th>\n",
       "      <td>World</td>\n",
       "      <td>2022</td>\n",
       "      <td>64.4</td>\n",
       "    </tr>\n",
       "    <tr>\n",
       "      <th>7086</th>\n",
       "      <td>World</td>\n",
       "      <td>2023</td>\n",
       "      <td>67.4</td>\n",
       "    </tr>\n",
       "  </tbody>\n",
       "</table>\n",
       "</div>"
      ],
      "text/plain": [
       "     Entity  Year  Individuals using the Internet (% of population)\n",
       "7082  World  2019                                              53.2\n",
       "7083  World  2020                                              59.3\n",
       "7084  World  2021                                              62.2\n",
       "7085  World  2022                                              64.4\n",
       "7086  World  2023                                              67.4"
      ]
     },
     "execution_count": 5,
     "metadata": {},
     "output_type": "execute_result"
    }
   ],
   "source": [
    "internet = internet.drop(\"Code\", axis=1)\n",
    "\n",
    "internet.tail()"
   ]
  },
  {
   "cell_type": "code",
   "execution_count": 6,
   "id": "6524801c",
   "metadata": {},
   "outputs": [],
   "source": [
    "internet_df = internet[(internet[\"Year\"] != 2025) & (internet[\"Year\"] != 2024)] "
   ]
  },
  {
   "cell_type": "code",
   "execution_count": 7,
   "id": "49693c92",
   "metadata": {},
   "outputs": [
    {
     "name": "stdout",
     "output_type": "stream",
     "text": [
      "[1990 1991 1992 1993 1994 1995 1996 1997 1998 1999 2000 2001 2002 2003\n",
      " 2004 2005 2006 2007 2008 2009 2010 2011 2012 2013 2014 2015 2016 2017\n",
      " 2018 2019 2020 2021 2022 2023]\n"
     ]
    }
   ],
   "source": [
    "print(internet_df[\"Year\"].unique())"
   ]
  },
  {
   "cell_type": "code",
   "execution_count": 8,
   "id": "78dc42b8",
   "metadata": {},
   "outputs": [
    {
     "data": {
      "text/plain": [
       "np.float64(0.0)"
      ]
     },
     "execution_count": 8,
     "metadata": {},
     "output_type": "execute_result"
    }
   ],
   "source": [
    "internet_df[\"Individuals using the Internet (% of population)\"].min()"
   ]
  },
  {
   "cell_type": "code",
   "execution_count": 9,
   "id": "ec9b46f3",
   "metadata": {},
   "outputs": [],
   "source": [
    "tickvals= [0, 20, 40, 60, 80, 100]\n",
    "\n",
    "ticktext= [f\"{v}%  \" for v in tickvals]"
   ]
  },
  {
   "cell_type": "code",
   "execution_count": 14,
   "id": "3b2aab2c",
   "metadata": {},
   "outputs": [
    {
     "data": {
      "application/vnd.plotly.v1+json": {
       "config": {
        "plotlyServerURL": "https://plot.ly"
       },
       "data": [
        {
         "hovertemplate": "Entity=East Asia and Pacific (WB)<br>Year=%{x}<br>Individuals using the Internet (% of population)=%{y}<extra></extra>",
         "legendgroup": "East Asia and Pacific (WB)",
         "line": {
          "color": "#5783c9",
          "dash": "solid"
         },
         "marker": {
          "symbol": "circle"
         },
         "mode": "lines+markers",
         "name": "East Asia and Pacific (WB)",
         "orientation": "v",
         "showlegend": true,
         "type": "scatter",
         "x": {
          "bdata": "xgfHB8gHyQfKB8sHzAfNB84HzwfQB9EH0gfTB9QH1QfWB9cH2AfZB9oH2wfcB90H3gffB+AH4QfiB+MH5AflB+YH5wc=",
          "dtype": "i2"
         },
         "xaxis": "x",
         "y": {
          "bdata": "MrV//i8Zfj8YOxQX3QCPP01yjb2BQ6A/JO1nLdwksD8qDxzh/u27P0+8NXaq+Mg/jmJvGLsz3j/aCYp6HIHxPyhtYGF3cP4/ymKsgIyKC0BGfZI7bIIWQIVgVb38Lh1A9KPhlLkRIkBp4h3gSTclQDscXaW7SylAZmZmZmZmLUAzMzMzM7MwQM3MzMzMzDRAzczMzMxMOUAAAAAAAIA9QJqZmZmZGUFAZmZmZmamQkAzMzMzMzNEQGZmZmZmpkVAAAAAAADARkBmZmZmZiZIQJqZmZmZ2UlAZmZmZmbmSkAzMzMzM3NNQGZmZmZm5k9AAAAAAABAUUAzMzMzMzNSQGZmZmZm5lJAAAAAAADAU0A=",
          "dtype": "f8"
         },
         "yaxis": "y"
        },
        {
         "hovertemplate": "Entity=Europe and Central Asia (WB)<br>Year=%{x}<br>Individuals using the Internet (% of population)=%{y}<extra></extra>",
         "legendgroup": "Europe and Central Asia (WB)",
         "line": {
          "color": "#bb2d3c",
          "dash": "solid"
         },
         "marker": {
          "symbol": "circle"
         },
         "mode": "lines+markers",
         "name": "Europe and Central Asia (WB)",
         "orientation": "v",
         "showlegend": true,
         "type": "scatter",
         "x": {
          "bdata": "xgfHB8gHyQfKB8sHzAfNB84HzwfQB9EH0gfTB9QH1QfWB9cH2AfZB9oH2wfcB90H3gffB+AH4QfiB+MH5AflB+YH5wc=",
          "dtype": "i2"
         },
         "xaxis": "x",
         "y": {
          "bdata": "uZQMY3+XqD+Elvk3/RO6PycyMWX5Hcc/KyvykM7l0T/N6h1uh8bgP4pt9xfmqe8/ph6z/XVY/T8AcsKE0bwKQIURVr7CpRVAavgW1o1nIkDZJD/iV0QqQA05tp4hXDBA+5KNB1v4NkB3acNhaUA8QCv2l92TH0BAmpmZmZlZQUAAAAAAAABDQM3MzMzMzEVAzczMzMwMSECamZmZmVlKQAAAAAAAgExAmpmZmZkZTkAzMzMzM/NPQDMzMzMzk1BAMzMzMzMzUUAzMzMzM3NRQDMzMzMzE1JAmpmZmZmZUkBmZmZmZoZTQDMzMzMzE1RAmpmZmZnZVEAAAAAAAIBVQJqZmZmZ+VVAZmZmZmaGVkA=",
          "dtype": "f8"
         },
         "yaxis": "y"
        },
        {
         "hovertemplate": "Entity=Latin America and Caribbean (WB)<br>Year=%{x}<br>Individuals using the Internet (% of population)=%{y}<extra></extra>",
         "legendgroup": "Latin America and Caribbean (WB)",
         "line": {
          "color": "#834c1f",
          "dash": "solid"
         },
         "marker": {
          "symbol": "circle"
         },
         "mode": "lines+markers",
         "name": "Latin America and Caribbean (WB)",
         "orientation": "v",
         "showlegend": true,
         "type": "scatter",
         "x": {
          "bdata": "xgfHB8gHyQfKB8sHzAfNB84HzwfQB9EH0gfTB9QH1QfWB9cH2AfZB9oH2wfcB90H3gffB+AH4QfiB+MH5AflB+YH5wc=",
          "dtype": "i2"
         },
         "xaxis": "x",
         "y": {
          "bdata": "AAAAAAAAAAAPh+rDQR1iPzd7hsETsoM/vqFTBPaglT9ccoviHSymP3D8eej1Brs/JQgVJM/Y0z//D2bJ0n3jPz8DRYcbq/M/UC4ypgVkAEA23JH7ZxcPQH5VLlT+hRZAelbSim+4IUDyBwPPvYcmQPJfIAiQySxAmpmZmZmZMEAzMzMzM7M0QDMzMzMzszdAAAAAAACAOkAAAAAAAAA/QJqZmZmZWUFAZmZmZmamQ0AAAAAAAIBFQM3MzMzMDEdAmpmZmZlZSEBmZmZmZiZLQAAAAAAAwExAZmZmZmYmT0AzMzMzM1NQQAAAAAAAAFFAZmZmZmaGUkAAAAAAAABTQGZmZmZmZlNAAAAAAABAVEA=",
          "dtype": "f8"
         },
         "yaxis": "y"
        },
        {
         "hovertemplate": "Entity=Middle East and North Africa (WB)<br>Year=%{x}<br>Individuals using the Internet (% of population)=%{y}<extra></extra>",
         "legendgroup": "Middle East and North Africa (WB)",
         "line": {
          "color": "#81d681",
          "dash": "solid"
         },
         "marker": {
          "symbol": "circle"
         },
         "mode": "lines+markers",
         "name": "Middle East and North Africa (WB)",
         "orientation": "v",
         "showlegend": true,
         "type": "scatter",
         "x": {
          "bdata": "xgfHB8gHyQfKB8sHzAfNB84HzwfQB9EH0gfTB9QH1QfWB9cH2AfZB9oH2wfcB90H3gffB+AH4QfiB+MH5AflB+YH5wc=",
          "dtype": "i2"
         },
         "xaxis": "x",
         "y": {
          "bdata": "TXyU3m76YD/+hs0jJnhwP4QFq7731nc/KvoOQX/ogD9BGWn9u6uLP6wYMkckRKA/W49GLs3ntT+2CJRmVuPNP7uPipwR598/S+TlXbMk7j9WPaqrTIL7P0D8/PfglQBA9k1QeSoGDkByCAvd23MUQEJ8YMd/0SBAmpmZmZmZI0CamZmZmZknQDMzMzMzMy5AzczMzMzMMkAzMzMzM7M1QGZmZmZm5jhAzczMzMzMO0AzMzMzMzM/QJqZmZmZmUFAMzMzMzPzQ0DNzMzMzAxGQJqZmZmZGUhAZmZmZmZmS0DNzMzMzAxNQDMzMzMzs09AMzMzMzNzUUBmZmZmZiZSQAAAAAAA4FJAzczMzMxsU0A=",
          "dtype": "f8"
         },
         "yaxis": "y"
        },
        {
         "hovertemplate": "Entity=North America (WB)<br>Year=%{x}<br>Individuals using the Internet (% of population)=%{y}<extra></extra>",
         "legendgroup": "North America (WB)",
         "line": {
          "color": "#6b2e60",
          "dash": "solid"
         },
         "marker": {
          "symbol": "circle"
         },
         "mode": "lines+markers",
         "name": "North America (WB)",
         "orientation": "v",
         "showlegend": true,
         "type": "scatter",
         "x": {
          "bdata": "xgfHB8gHyQfKB8sHzAfNB84HzwfQB9EH0gfTB9QH1QfWB9cH2AfZB9oH2wfcB90H3gffB+AH4QfiB+MH5AflB+YH5wc=",
          "dtype": "i2"
         },
         "xaxis": "x",
         "y": {
          "bdata": "IS0hYRC/5z/5JvLJL6jxPykaEMb0Sfo/esybHm9NAUBA2v8Aa3USQHxkc9U8dyFAPwCpTZzsLkCFlnX/WPg0QJxrmKHxlD1AW8064/vwQUA8TtGRXPJFQHrCEg8oF0lAvwrw3eaHTUBK0cq9wPhOQKDgYkUNOFBAMzMzMzMTUUAzMzMzM1NRQDMzMzMzs1JAMzMzMzOTUkCamZmZmflRQAAAAAAAIFJAAAAAAADAUUAAAAAAAOBSQDMzMzMzM1JAmpmZmZmZUkBmZmZmZgZTQGZmZmZmhlVAMzMzMzPzVUBmZmZmZkZWQM3MzMzMbFZAZmZmZmYGWECamZmZmRlYQDMzMzMzM1hAMzMzMzNTWEA=",
          "dtype": "f8"
         },
         "yaxis": "y"
        },
        {
         "hovertemplate": "Entity=South Asia (WB)<br>Year=%{x}<br>Individuals using the Internet (% of population)=%{y}<extra></extra>",
         "legendgroup": "South Asia (WB)",
         "line": {
          "color": "#cf956c",
          "dash": "solid"
         },
         "marker": {
          "symbol": "circle"
         },
         "mode": "lines+markers",
         "name": "South Asia (WB)",
         "orientation": "v",
         "showlegend": true,
         "type": "scatter",
         "x": {
          "bdata": "xgfHB8gHyQfKB8sHzAfNB84HzwfQB9EH0gfTB9QH1QfWB9cH2AfZB9oH2wfcB90H3gffB+AH4QfiB+MH5AflBw==",
          "dtype": "i2"
         },
         "xaxis": "x",
         "y": {
          "bdata": "AAAAAAAAAAAAAAAAAAAAAEwi4wCENRY/Fn7AqW66JT+3ZKk6CuVLP1KyiKDrdJQ/4lOJfcXEpD91dcwbVb2uP1Qq8jUV870/DJ2uWfTvzD8yzvgh40/eP6UUdHtJY+U/ZVr2f2mM9z9NbJlngOb9P3aTc73IvwFANlCF5AmpBEAHlPL/TyoIQAeaz7nbBRBAxpOTP866EUAKdNzfj5EUQCvZsRGIpxxApDUGnRBqIkAkRWRYxSskQF9gVijSlSZAGCe+2lGkKUBhpu1fWWEsQIpW7gVmMTBAG2SSkbMQMkCXqN4a2C40QNS7eD9u9ztAzGH3HcOHQ0BjuDoA4mxFQA==",
          "dtype": "f8"
         },
         "yaxis": "y"
        },
        {
         "hovertemplate": "Entity=Sub-Saharan Africa (WB)<br>Year=%{x}<br>Individuals using the Internet (% of population)=%{y}<extra></extra>",
         "legendgroup": "Sub-Saharan Africa (WB)",
         "line": {
          "color": "#17215e",
          "dash": "solid"
         },
         "marker": {
          "symbol": "circle"
         },
         "mode": "lines+markers",
         "name": "Sub-Saharan Africa (WB)",
         "orientation": "v",
         "showlegend": true,
         "type": "scatter",
         "x": {
          "bdata": "xgfHB8gHyQfKB8sHzAfNB84HzwfQB9EH0gfTB9QH1QfWB9cH2AfZB9oH2wfcB90H3gffB+AH4QfiB+MH5AflB+YH5wc=",
          "dtype": "i2"
         },
         "xaxis": "x",
         "y": {
          "bdata": "AAAAAAAAAACWwUEQWu5QP2oBhlcloGg/pOfogSfegT+fEc2Fj12TP+uvkQP6bao/BByEsWyDsj9hFTW5lErBP/UQbOA3U88/fJR0QTvv1z+fPZepSXDgP9R8OsN53eQ/CTyLOWOz6j++q9Si9LvxP+yEPCdi1vc/AAAAAAAAAEAAAAAAAAAEQGZmZmZmZgpAZmZmZmZmDkCamZmZmZkRQGZmZmZmZhhAZmZmZmZmHkBmZmZmZmYiQDMzMzMzMyZAZmZmZmZmKkAAAAAAAAAvQGZmZmZmZjFAMzMzMzOzM0AzMzMzMzM2QM3MzMzMTDlAmpmZmZmZPEBmZmZmZmY/QM3MzMzMzEBAmpmZmZlZQkA=",
          "dtype": "f8"
         },
         "yaxis": "y"
        },
        {
         "hovertemplate": "Entity=World<br>Year=%{x}<br>Individuals using the Internet (% of population)=%{y}<extra></extra>",
         "legendgroup": "World",
         "line": {
          "color": "#bf81d6",
          "dash": "solid"
         },
         "marker": {
          "symbol": "circle"
         },
         "mode": "lines+markers",
         "name": "World",
         "orientation": "v",
         "showlegend": true,
         "type": "scatter",
         "x": {
          "bdata": "xgfHB8gHyQfKB8sHzAfNB84HzwfQB9EH0gfTB9QH1QfWB9cH2AfZB9oH2wfcB90H3gffB+AH4QfiB+MH5AflB+YH5wc=",
          "dtype": "i2"
         },
         "xaxis": "x",
         "y": {
          "bdata": "0DXv34z/qD/s9Afz7Cy0P10+J/caBsA/7cku3rDpxj96ec+7kBLXP2weyd3O2+U/AiQ/h5459T83GVWGcVcAQBja7z/oHwlApzaCnheIEkAUzm4tk+EaQIJxcOmYCyBAdelfksr0JEAKhQg4hFIoQFWEm4wqEyxAMzMzMzMzL0DNzMzMzEwxQM3MzMzMTDRAzczMzMzMNkBmZmZmZmY5QAAAAAAAgDxAAAAAAAAAP0AAAAAAAMBAQDMzMzMzs0FAAAAAAADAQkAzMzMzM/NDQDMzMzMzc0VAMzMzMzOzRkDNzMzMzExIQJqZmZmZmUpAZmZmZmamTUCamZmZmRlPQJqZmZmZGVBAmpmZmZnZUEA=",
          "dtype": "f8"
         },
         "yaxis": "y"
        }
       ],
       "layout": {
        "annotations": [
         {
          "align": "left",
          "font": {
           "color": "#969696",
           "size": 13
          },
          "showarrow": false,
          "text": "<b>1.Internet user</b>: An internet user is defined by the international Telecommunication Union as anyone who has accessed the internet from any<br>location int the last three months. This can be from any type of device, including a computer, mobile phone, personal digital assistants, games<br>machine, digital TV, and others technological devices",
          "x": -0.08,
          "xref": "paper",
          "y": -0.65,
          "yref": "paper"
         },
         {
          "align": "left",
          "font": {
           "color": "#969696",
           "size": 14
          },
          "showarrow": false,
          "text": "<b>Data source</b>: International Telecommunication Union (via World Bank)(2025)",
          "x": -0.08,
          "xref": "paper",
          "y": -0.25,
          "yref": "paper"
         },
         {
          "align": "right",
          "font": {
           "color": "#969696",
           "size": 14
          },
          "showarrow": false,
          "text": "OurWorldData.org/internet | CC BY",
          "x": 1.24,
          "xref": "paper",
          "y": -0.25,
          "yref": "paper"
         }
        ],
        "images": [
         {
          "layer": "above",
          "sizex": 0.2,
          "sizey": 0.2,
          "source": "https://docs.owid.io/projects/covid/en/latest/_static/owid.png",
          "x": 1.26,
          "xanchor": "right",
          "xref": "paper",
          "y": 1.35,
          "yanchor": "top",
          "yref": "paper"
         }
        ],
        "legend": {
         "title": {
          "text": "Entity"
         },
         "tracegroupgap": 0
        },
        "margin": {
         "b": 150,
         "l": 80,
         "r": 200
        },
        "plot_bgcolor": "white",
        "shapes": [
         {
          "line": {
           "color": "lightgrey",
           "width": 1
          },
          "type": "line",
          "x0": -0.5,
          "x1": 1.5,
          "xref": "paper",
          "y0": -0.3,
          "y1": -0.3,
          "yref": "paper"
         }
        ],
        "showlegend": false,
        "template": {
         "data": {
          "bar": [
           {
            "error_x": {
             "color": "#2a3f5f"
            },
            "error_y": {
             "color": "#2a3f5f"
            },
            "marker": {
             "line": {
              "color": "#E5ECF6",
              "width": 0.5
             },
             "pattern": {
              "fillmode": "overlay",
              "size": 10,
              "solidity": 0.2
             }
            },
            "type": "bar"
           }
          ],
          "barpolar": [
           {
            "marker": {
             "line": {
              "color": "#E5ECF6",
              "width": 0.5
             },
             "pattern": {
              "fillmode": "overlay",
              "size": 10,
              "solidity": 0.2
             }
            },
            "type": "barpolar"
           }
          ],
          "carpet": [
           {
            "aaxis": {
             "endlinecolor": "#2a3f5f",
             "gridcolor": "white",
             "linecolor": "white",
             "minorgridcolor": "white",
             "startlinecolor": "#2a3f5f"
            },
            "baxis": {
             "endlinecolor": "#2a3f5f",
             "gridcolor": "white",
             "linecolor": "white",
             "minorgridcolor": "white",
             "startlinecolor": "#2a3f5f"
            },
            "type": "carpet"
           }
          ],
          "choropleth": [
           {
            "colorbar": {
             "outlinewidth": 0,
             "ticks": ""
            },
            "type": "choropleth"
           }
          ],
          "contour": [
           {
            "colorbar": {
             "outlinewidth": 0,
             "ticks": ""
            },
            "colorscale": [
             [
              0,
              "#0d0887"
             ],
             [
              0.1111111111111111,
              "#46039f"
             ],
             [
              0.2222222222222222,
              "#7201a8"
             ],
             [
              0.3333333333333333,
              "#9c179e"
             ],
             [
              0.4444444444444444,
              "#bd3786"
             ],
             [
              0.5555555555555556,
              "#d8576b"
             ],
             [
              0.6666666666666666,
              "#ed7953"
             ],
             [
              0.7777777777777778,
              "#fb9f3a"
             ],
             [
              0.8888888888888888,
              "#fdca26"
             ],
             [
              1,
              "#f0f921"
             ]
            ],
            "type": "contour"
           }
          ],
          "contourcarpet": [
           {
            "colorbar": {
             "outlinewidth": 0,
             "ticks": ""
            },
            "type": "contourcarpet"
           }
          ],
          "heatmap": [
           {
            "colorbar": {
             "outlinewidth": 0,
             "ticks": ""
            },
            "colorscale": [
             [
              0,
              "#0d0887"
             ],
             [
              0.1111111111111111,
              "#46039f"
             ],
             [
              0.2222222222222222,
              "#7201a8"
             ],
             [
              0.3333333333333333,
              "#9c179e"
             ],
             [
              0.4444444444444444,
              "#bd3786"
             ],
             [
              0.5555555555555556,
              "#d8576b"
             ],
             [
              0.6666666666666666,
              "#ed7953"
             ],
             [
              0.7777777777777778,
              "#fb9f3a"
             ],
             [
              0.8888888888888888,
              "#fdca26"
             ],
             [
              1,
              "#f0f921"
             ]
            ],
            "type": "heatmap"
           }
          ],
          "histogram": [
           {
            "marker": {
             "pattern": {
              "fillmode": "overlay",
              "size": 10,
              "solidity": 0.2
             }
            },
            "type": "histogram"
           }
          ],
          "histogram2d": [
           {
            "colorbar": {
             "outlinewidth": 0,
             "ticks": ""
            },
            "colorscale": [
             [
              0,
              "#0d0887"
             ],
             [
              0.1111111111111111,
              "#46039f"
             ],
             [
              0.2222222222222222,
              "#7201a8"
             ],
             [
              0.3333333333333333,
              "#9c179e"
             ],
             [
              0.4444444444444444,
              "#bd3786"
             ],
             [
              0.5555555555555556,
              "#d8576b"
             ],
             [
              0.6666666666666666,
              "#ed7953"
             ],
             [
              0.7777777777777778,
              "#fb9f3a"
             ],
             [
              0.8888888888888888,
              "#fdca26"
             ],
             [
              1,
              "#f0f921"
             ]
            ],
            "type": "histogram2d"
           }
          ],
          "histogram2dcontour": [
           {
            "colorbar": {
             "outlinewidth": 0,
             "ticks": ""
            },
            "colorscale": [
             [
              0,
              "#0d0887"
             ],
             [
              0.1111111111111111,
              "#46039f"
             ],
             [
              0.2222222222222222,
              "#7201a8"
             ],
             [
              0.3333333333333333,
              "#9c179e"
             ],
             [
              0.4444444444444444,
              "#bd3786"
             ],
             [
              0.5555555555555556,
              "#d8576b"
             ],
             [
              0.6666666666666666,
              "#ed7953"
             ],
             [
              0.7777777777777778,
              "#fb9f3a"
             ],
             [
              0.8888888888888888,
              "#fdca26"
             ],
             [
              1,
              "#f0f921"
             ]
            ],
            "type": "histogram2dcontour"
           }
          ],
          "mesh3d": [
           {
            "colorbar": {
             "outlinewidth": 0,
             "ticks": ""
            },
            "type": "mesh3d"
           }
          ],
          "parcoords": [
           {
            "line": {
             "colorbar": {
              "outlinewidth": 0,
              "ticks": ""
             }
            },
            "type": "parcoords"
           }
          ],
          "pie": [
           {
            "automargin": true,
            "type": "pie"
           }
          ],
          "scatter": [
           {
            "fillpattern": {
             "fillmode": "overlay",
             "size": 10,
             "solidity": 0.2
            },
            "type": "scatter"
           }
          ],
          "scatter3d": [
           {
            "line": {
             "colorbar": {
              "outlinewidth": 0,
              "ticks": ""
             }
            },
            "marker": {
             "colorbar": {
              "outlinewidth": 0,
              "ticks": ""
             }
            },
            "type": "scatter3d"
           }
          ],
          "scattercarpet": [
           {
            "marker": {
             "colorbar": {
              "outlinewidth": 0,
              "ticks": ""
             }
            },
            "type": "scattercarpet"
           }
          ],
          "scattergeo": [
           {
            "marker": {
             "colorbar": {
              "outlinewidth": 0,
              "ticks": ""
             }
            },
            "type": "scattergeo"
           }
          ],
          "scattergl": [
           {
            "marker": {
             "colorbar": {
              "outlinewidth": 0,
              "ticks": ""
             }
            },
            "type": "scattergl"
           }
          ],
          "scattermap": [
           {
            "marker": {
             "colorbar": {
              "outlinewidth": 0,
              "ticks": ""
             }
            },
            "type": "scattermap"
           }
          ],
          "scattermapbox": [
           {
            "marker": {
             "colorbar": {
              "outlinewidth": 0,
              "ticks": ""
             }
            },
            "type": "scattermapbox"
           }
          ],
          "scatterpolar": [
           {
            "marker": {
             "colorbar": {
              "outlinewidth": 0,
              "ticks": ""
             }
            },
            "type": "scatterpolar"
           }
          ],
          "scatterpolargl": [
           {
            "marker": {
             "colorbar": {
              "outlinewidth": 0,
              "ticks": ""
             }
            },
            "type": "scatterpolargl"
           }
          ],
          "scatterternary": [
           {
            "marker": {
             "colorbar": {
              "outlinewidth": 0,
              "ticks": ""
             }
            },
            "type": "scatterternary"
           }
          ],
          "surface": [
           {
            "colorbar": {
             "outlinewidth": 0,
             "ticks": ""
            },
            "colorscale": [
             [
              0,
              "#0d0887"
             ],
             [
              0.1111111111111111,
              "#46039f"
             ],
             [
              0.2222222222222222,
              "#7201a8"
             ],
             [
              0.3333333333333333,
              "#9c179e"
             ],
             [
              0.4444444444444444,
              "#bd3786"
             ],
             [
              0.5555555555555556,
              "#d8576b"
             ],
             [
              0.6666666666666666,
              "#ed7953"
             ],
             [
              0.7777777777777778,
              "#fb9f3a"
             ],
             [
              0.8888888888888888,
              "#fdca26"
             ],
             [
              1,
              "#f0f921"
             ]
            ],
            "type": "surface"
           }
          ],
          "table": [
           {
            "cells": {
             "fill": {
              "color": "#EBF0F8"
             },
             "line": {
              "color": "white"
             }
            },
            "header": {
             "fill": {
              "color": "#C8D4E3"
             },
             "line": {
              "color": "white"
             }
            },
            "type": "table"
           }
          ]
         },
         "layout": {
          "annotationdefaults": {
           "arrowcolor": "#2a3f5f",
           "arrowhead": 0,
           "arrowwidth": 1
          },
          "autotypenumbers": "strict",
          "coloraxis": {
           "colorbar": {
            "outlinewidth": 0,
            "ticks": ""
           }
          },
          "colorscale": {
           "diverging": [
            [
             0,
             "#8e0152"
            ],
            [
             0.1,
             "#c51b7d"
            ],
            [
             0.2,
             "#de77ae"
            ],
            [
             0.3,
             "#f1b6da"
            ],
            [
             0.4,
             "#fde0ef"
            ],
            [
             0.5,
             "#f7f7f7"
            ],
            [
             0.6,
             "#e6f5d0"
            ],
            [
             0.7,
             "#b8e186"
            ],
            [
             0.8,
             "#7fbc41"
            ],
            [
             0.9,
             "#4d9221"
            ],
            [
             1,
             "#276419"
            ]
           ],
           "sequential": [
            [
             0,
             "#0d0887"
            ],
            [
             0.1111111111111111,
             "#46039f"
            ],
            [
             0.2222222222222222,
             "#7201a8"
            ],
            [
             0.3333333333333333,
             "#9c179e"
            ],
            [
             0.4444444444444444,
             "#bd3786"
            ],
            [
             0.5555555555555556,
             "#d8576b"
            ],
            [
             0.6666666666666666,
             "#ed7953"
            ],
            [
             0.7777777777777778,
             "#fb9f3a"
            ],
            [
             0.8888888888888888,
             "#fdca26"
            ],
            [
             1,
             "#f0f921"
            ]
           ],
           "sequentialminus": [
            [
             0,
             "#0d0887"
            ],
            [
             0.1111111111111111,
             "#46039f"
            ],
            [
             0.2222222222222222,
             "#7201a8"
            ],
            [
             0.3333333333333333,
             "#9c179e"
            ],
            [
             0.4444444444444444,
             "#bd3786"
            ],
            [
             0.5555555555555556,
             "#d8576b"
            ],
            [
             0.6666666666666666,
             "#ed7953"
            ],
            [
             0.7777777777777778,
             "#fb9f3a"
            ],
            [
             0.8888888888888888,
             "#fdca26"
            ],
            [
             1,
             "#f0f921"
            ]
           ]
          },
          "colorway": [
           "#636efa",
           "#EF553B",
           "#00cc96",
           "#ab63fa",
           "#FFA15A",
           "#19d3f3",
           "#FF6692",
           "#B6E880",
           "#FF97FF",
           "#FECB52"
          ],
          "font": {
           "color": "#2a3f5f"
          },
          "geo": {
           "bgcolor": "white",
           "lakecolor": "white",
           "landcolor": "#E5ECF6",
           "showlakes": true,
           "showland": true,
           "subunitcolor": "white"
          },
          "hoverlabel": {
           "align": "left"
          },
          "hovermode": "closest",
          "mapbox": {
           "style": "light"
          },
          "paper_bgcolor": "white",
          "plot_bgcolor": "#E5ECF6",
          "polar": {
           "angularaxis": {
            "gridcolor": "white",
            "linecolor": "white",
            "ticks": ""
           },
           "bgcolor": "#E5ECF6",
           "radialaxis": {
            "gridcolor": "white",
            "linecolor": "white",
            "ticks": ""
           }
          },
          "scene": {
           "xaxis": {
            "backgroundcolor": "#E5ECF6",
            "gridcolor": "white",
            "gridwidth": 2,
            "linecolor": "white",
            "showbackground": true,
            "ticks": "",
            "zerolinecolor": "white"
           },
           "yaxis": {
            "backgroundcolor": "#E5ECF6",
            "gridcolor": "white",
            "gridwidth": 2,
            "linecolor": "white",
            "showbackground": true,
            "ticks": "",
            "zerolinecolor": "white"
           },
           "zaxis": {
            "backgroundcolor": "#E5ECF6",
            "gridcolor": "white",
            "gridwidth": 2,
            "linecolor": "white",
            "showbackground": true,
            "ticks": "",
            "zerolinecolor": "white"
           }
          },
          "shapedefaults": {
           "line": {
            "color": "#2a3f5f"
           }
          },
          "ternary": {
           "aaxis": {
            "gridcolor": "white",
            "linecolor": "white",
            "ticks": ""
           },
           "baxis": {
            "gridcolor": "white",
            "linecolor": "white",
            "ticks": ""
           },
           "bgcolor": "#E5ECF6",
           "caxis": {
            "gridcolor": "white",
            "linecolor": "white",
            "ticks": ""
           }
          },
          "title": {
           "x": 0.05
          },
          "xaxis": {
           "automargin": true,
           "gridcolor": "white",
           "linecolor": "white",
           "ticks": "",
           "title": {
            "standoff": 15
           },
           "zerolinecolor": "white",
           "zerolinewidth": 2
          },
          "yaxis": {
           "automargin": true,
           "gridcolor": "white",
           "linecolor": "white",
           "ticks": "",
           "title": {
            "standoff": 15
           },
           "zerolinecolor": "white",
           "zerolinewidth": 2
          }
         }
        },
        "title": {
         "text": "<b>Share of the population using the internet, 2023</b><br>Share of the population who used the internet&#185; in the last three months"
        },
        "xaxis": {
         "anchor": "free",
         "domain": [
          0,
          1
         ],
         "linecolor": "#afafaf",
         "position": 0,
         "range": [
          1990,
          2023
         ],
         "showgrid": false,
         "showline": true,
         "tickcolor": "#afafaf",
         "ticklen": 5,
         "ticks": "outside",
         "ticktext": [
          "1990",
          "1995",
          "2000",
          "2005",
          "2010",
          "2015",
          "2023"
         ],
         "tickvals": [
          1990,
          1995,
          2000,
          2005,
          2010,
          2015,
          2023
         ],
         "tickwidth": 1,
         "title": {},
         "zeroline": false
        },
        "yaxis": {
         "anchor": "free",
         "automargin": true,
         "domain": [
          0,
          1
         ],
         "gridcolor": "#c8c8c8",
         "griddash": "dash",
         "gridwidth": 1,
         "position": 0,
         "range": [
          0,
          117.3
         ],
         "showgrid": true,
         "ticklabelposition": "outside left",
         "tickmode": "array",
         "ticktext": [
          "0%  ",
          "20%  ",
          "40%  ",
          "60%  ",
          "80%  ",
          "100%  "
         ],
         "tickvals": [
          0,
          20,
          40,
          60,
          80,
          100
         ],
         "title": {}
        }
       }
      }
     },
     "metadata": {},
     "output_type": "display_data"
    }
   ],
   "source": [
    "fig = px.line(\n",
    "    internet_df,\n",
    "    x=\"Year\",\n",
    "    y=\"Individuals using the Internet (% of population)\",\n",
    "    color=\"Entity\",\n",
    "    markers=True,\n",
    "    color_discrete_map={\n",
    "        \"North America (WB)\": \"#6b2e60\",\n",
    "        \"Europe and Central Asia (WB)\": \"#bb2d3c\",\n",
    "        \"Latin America and Caribbean (WB)\": \"#834c1f\",\n",
    "        \"East Asia and Pacific (WB)\": \"#5783c9\",\n",
    "        \"Middle East and North Africa (WB)\": \"#81d681\",\n",
    "        \"World\": \"#bf81d6\",\n",
    "        \"South Asia (WB)\": \"#cf956c\",\n",
    "        \"Sub-Saharan Africa (WB)\": \"#17215e\",\n",
    "    },\n",
    "    title=\"<b>Share of the population using the internet, 2023</b>\"\n",
    "    + \"<br>Share of the population who used the internet&#185; in the last three months\",\n",
    ")\n",
    "\n",
    "\n",
    "fig.update_layout(\n",
    "    plot_bgcolor=\"white\",\n",
    "    yaxis=dict(\n",
    "        tickmode=\"array\",\n",
    "        tickvals=tickvals,\n",
    "        ticktext=ticktext,\n",
    "        ticklabelposition=\"outside left\",\n",
    "        showgrid=True,\n",
    "        gridcolor=\"#c8c8c8\",\n",
    "        gridwidth=1,\n",
    "        griddash=\"dash\",\n",
    "        range=[\n",
    "            0,\n",
    "            float(internet_df[\"Individuals using the Internet (% of population)\"].max())\n",
    "            + 20,\n",
    "        ],\n",
    "        anchor=\"free\",\n",
    "        position=0,\n",
    "        automargin=True,\n",
    "    ),\n",
    "    xaxis=dict(\n",
    "        tickvals=[1990, 1995, 2000, 2005, 2010, 2015, 2023],\n",
    "        ticktext=[\"1990\", \"1995\", \"2000\", \"2005\", \"2010\", \"2015\", \"2023\"],\n",
    "        showgrid=False,\n",
    "        showline=True,\n",
    "        linecolor=\"#afafaf\",\n",
    "        ticks=\"outside\",\n",
    "        ticklen=5,\n",
    "        tickwidth=1,\n",
    "        tickcolor=\"#afafaf\",\n",
    "        anchor=\"free\",\n",
    "        position=0,\n",
    "        zeroline=False,\n",
    "        range=[1990, (internet_df[\"Year\"].max())],\n",
    "    ),\n",
    "    showlegend=False,\n",
    "    xaxis_title=None,\n",
    "    yaxis_title=None,\n",
    "    margin=dict(l=80),\n",
    ")\n",
    "\n",
    "fig.add_shape(\n",
    "    type=\"line\",\n",
    "    x0=-0.5,\n",
    "    x1=1.5,\n",
    "    y0=-0.30,\n",
    "    y1=-0.30,\n",
    "    xref=\"paper\",\n",
    "    yref=\"paper\",\n",
    "    line=dict(color=\"lightgrey\", width=1),\n",
    ")\n",
    "\n",
    "\n",
    "fig.add_layout_image(\n",
    "    dict(\n",
    "        source=\"https://docs.owid.io/projects/covid/en/latest/_static/owid.png\",\n",
    "        xref=\"paper\",\n",
    "        yref=\"paper\",\n",
    "        x=1.26,\n",
    "        y=1.35,\n",
    "        sizex=0.2,\n",
    "        sizey=0.2,\n",
    "        xanchor=\"right\",\n",
    "        yanchor=\"top\",\n",
    "        layer=\"above\",\n",
    "    )\n",
    ")\n",
    "\n",
    "\n",
    "fig.add_annotation(\n",
    "    text=\"<b>1.Internet user</b>: An internet user is defined by the international Telecommunication Union as anyone who has accessed the internet from any\"\n",
    "    \"<br>location int the last three months. This can be from any type of device, including a computer, mobile phone, personal digital assistants, games\"\n",
    "    \"<br>machine, digital TV, and others technological devices\",\n",
    "    xref=\"paper\",\n",
    "    yref=\"paper\",\n",
    "    x=-0.08,\n",
    "    y=-0.65,\n",
    "    showarrow=False,\n",
    "    font=dict(color=\"#969696\", size=13),\n",
    "    align=\"left\",\n",
    ")\n",
    "\n",
    "\n",
    "fig.add_annotation(\n",
    "    text=\"<b>Data source</b>: International Telecommunication Union (via World Bank)(2025)\",\n",
    "    xref=\"paper\",  # Relativ till hela figuren (från 0-1)\n",
    "    yref=\"paper\",  # --||-- om man väljer y så kan man ta värde på y-axeln\n",
    "    showarrow=False,\n",
    "    x=-0.08,\n",
    "    y=-0.25,\n",
    "    font=dict(color=\"#969696\", size=14),\n",
    "    align=\"left\",\n",
    ")\n",
    "\n",
    "fig.add_annotation(\n",
    "    text=\"OurWorldData.org/internet | CC BY\",\n",
    "    xref=\"paper\",\n",
    "    yref=\"paper\",\n",
    "    showarrow=False,\n",
    "    x=1.24,\n",
    "    y=-0.25,\n",
    "    font=dict(color=\"#969696\", size=14),\n",
    "    align=\"right\",\n",
    ")\n",
    "\n",
    "latest_point = internet_df.sort_values(\"Year\").groupby(\"Entity\").tail(1)\n",
    "row = latest_point[latest_point[\"Entity\"] == \"North America (WB)\"].iloc[0]\n",
    "\n",
    "\n",
    "\n",
    "fig.update_layout(margin=dict(b=150, r=200))\n",
    "\n",
    "\n",
    "fig.show()"
   ]
  }
 ],
 "metadata": {
  "kernelspec": {
   "display_name": ".venv",
   "language": "python",
   "name": "python3"
  },
  "language_info": {
   "codemirror_mode": {
    "name": "ipython",
    "version": 3
   },
   "file_extension": ".py",
   "mimetype": "text/x-python",
   "name": "python",
   "nbconvert_exporter": "python",
   "pygments_lexer": "ipython3",
   "version": "3.12.6"
  }
 },
 "nbformat": 4,
 "nbformat_minor": 5
}
