{
 "cells": [
  {
   "cell_type": "markdown",
   "id": "090d675e",
   "metadata": {},
   "source": [
    "# Palidrome Game"
   ]
  },
  {
   "cell_type": "code",
   "execution_count": null,
   "id": "5c59103a",
   "metadata": {},
   "outputs": [
    {
     "data": {
      "text/html": [
       "<img src=\"https://github.com/kokchun/assets/blob/main/data_visualization/fake_cat.png?raw=true\"/>"
      ],
      "text/plain": [
       "<IPython.core.display.Image object>"
      ]
     },
     "metadata": {},
     "output_type": "display_data"
    },
    {
     "name": "stdout",
     "output_type": "stream",
     "text": [
      "Right\n"
     ]
    },
    {
     "data": {
      "text/html": [
       "<img src=\"https://github.com/kokchun/assets/blob/main/data_visualization/fake_sad_rabbit.png?raw=true\"/>"
      ],
      "text/plain": [
       "<IPython.core.display.Image object>"
      ]
     },
     "metadata": {},
     "output_type": "display_data"
    },
    {
     "name": "stdout",
     "output_type": "stream",
     "text": [
      "Wrong\n"
     ]
    },
    {
     "data": {
      "text/html": [
       "<img src=\"https://github.com/kokchun/assets/blob/main/data_visualization/fake_sad_rabbit.png?raw=true\"/>"
      ],
      "text/plain": [
       "<IPython.core.display.Image object>"
      ]
     },
     "metadata": {},
     "output_type": "display_data"
    },
    {
     "name": "stdout",
     "output_type": "stream",
     "text": [
      "Wrong\n"
     ]
    },
    {
     "data": {
      "text/html": [
       "<img src=\"https://github.com/kokchun/assets/blob/main/data_visualization/fake_sad_rabbit.png?raw=true\"/>"
      ],
      "text/plain": [
       "<IPython.core.display.Image object>"
      ]
     },
     "metadata": {},
     "output_type": "display_data"
    },
    {
     "name": "stdout",
     "output_type": "stream",
     "text": [
      "Wrong\n"
     ]
    },
    {
     "data": {
      "text/html": [
       "<img src=\"https://github.com/kokchun/assets/blob/main/data_visualization/fake_cat.png?raw=true\"/>"
      ],
      "text/plain": [
       "<IPython.core.display.Image object>"
      ]
     },
     "metadata": {},
     "output_type": "display_data"
    },
    {
     "name": "stdout",
     "output_type": "stream",
     "text": [
      "Right\n"
     ]
    },
    {
     "data": {
      "text/html": [
       "<img src=\"https://github.com/kokchun/assets/blob/main/data_visualization/fake_cat.png?raw=true\"/>"
      ],
      "text/plain": [
       "<IPython.core.display.Image object>"
      ]
     },
     "metadata": {},
     "output_type": "display_data"
    },
    {
     "name": "stdout",
     "output_type": "stream",
     "text": [
      "Right\n",
      "Poäng: 3 av 9\n"
     ]
    }
   ],
   "source": [
    "from IPython.display import Image, display\n",
    "\n",
    "\n",
    "\n",
    "picture_1 = \"https://github.com/kokchun/assets/blob/main/data_visualization/fake_cat.png?raw=true\"\n",
    "picture_2 = \"https://github.com/kokchun/assets/blob/main/data_visualization/fake_sad_rabbit.png?raw=true\"\n",
    "\n",
    "right_answer = 0\n",
    "total= 0\n",
    "\n",
    "\n",
    "while True:\n",
    "    word = input(str(\"type in palindrome: \")).lower()\n",
    "    if word == word[::-1]:\n",
    "        display(Image(url= picture_1))\n",
    "        print(\"Right\")\n",
    "        right_answer += 1\n",
    "        total += 1\n",
    " \n",
    "    else:\n",
    "        display(Image(url=picture_2))\n",
    "        print(\"Wrong\")\n",
    "    total += 1\n",
    "    fortsätta = input(str(f\"Poäng {right_answer} av {total}.Vill du fortsätta ja eller nej: \").lower())\n",
    "    if fortsätta == \"nej\":\n",
    "        print()\n",
    "        print(f\"Poäng: {right_answer} av {total}\")\n",
    "        \n",
    "        break"
   ]
  },
  {
   "cell_type": "code",
   "execution_count": 4,
   "id": "8e64f15d",
   "metadata": {},
   "outputs": [
    {
     "name": "stdout",
     "output_type": "stream",
     "text": [
      "🌟🌟\n"
     ]
    }
   ],
   "source": [
    "stars = \"🌟\"\n",
    "print(stars*2)"
   ]
  },
  {
   "cell_type": "code",
   "execution_count": null,
   "id": "0219dd78",
   "metadata": {},
   "outputs": [],
   "source": []
  }
 ],
 "metadata": {
  "kernelspec": {
   "display_name": ".venv",
   "language": "python",
   "name": "python3"
  },
  "language_info": {
   "codemirror_mode": {
    "name": "ipython",
    "version": 3
   },
   "file_extension": ".py",
   "mimetype": "text/x-python",
   "name": "python",
   "nbconvert_exporter": "python",
   "pygments_lexer": "ipython3",
   "version": "3.12.6"
  }
 },
 "nbformat": 4,
 "nbformat_minor": 5
}
