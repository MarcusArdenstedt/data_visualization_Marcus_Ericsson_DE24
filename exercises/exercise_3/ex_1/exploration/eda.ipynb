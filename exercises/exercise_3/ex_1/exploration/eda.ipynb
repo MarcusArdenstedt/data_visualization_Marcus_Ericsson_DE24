{
 "cells": [
  {
   "cell_type": "markdown",
   "id": "2b9cf27f",
   "metadata": {},
   "source": [
    "# Dices simulations"
   ]
  },
  {
   "cell_type": "code",
   "execution_count": 1,
   "id": "da0a9645",
   "metadata": {},
   "outputs": [],
   "source": [
    "import random \n",
    "import pandas as pd\n",
    "\n",
    "\n",
    "def throw_dices(dices= 5, rolls= 30001):\n",
    "    throw = []\n",
    "    for _ in range(rolls):\n",
    "        roll = [random.randint(1, 6) for _ in range(dices)]\n",
    "        throw.append(roll)\n",
    "        \n",
    "    \n",
    "    df = pd.DataFrame(throw, columns=[\"dice\"] * dices)\n",
    "\n",
    "    df.index.name = \"Throw\"\n",
    "        \n",
    "        \n",
    "    return df \n"
   ]
  },
  {
   "cell_type": "code",
   "execution_count": 5,
   "id": "a47521da",
   "metadata": {},
   "outputs": [
    {
     "data": {
      "text/plain": [
       "pandas.core.frame.DataFrame"
      ]
     },
     "execution_count": 5,
     "metadata": {},
     "output_type": "execute_result"
    }
   ],
   "source": [
    "df_dices = throw_dices(100, 100)\n",
    "\n",
    "type(df_dices)"
   ]
  },
  {
   "cell_type": "code",
   "execution_count": 3,
   "id": "83a679fa",
   "metadata": {},
   "outputs": [],
   "source": [
    "df_dices[\"mean\"] = df_dices.apply(sum, axis=1) / len(df_dices.columns)"
   ]
  },
  {
   "cell_type": "code",
   "execution_count": null,
   "id": "f5d89753",
   "metadata": {},
   "outputs": [],
   "source": []
  }
 ],
 "metadata": {
  "kernelspec": {
   "display_name": ".venv",
   "language": "python",
   "name": "python3"
  },
  "language_info": {
   "codemirror_mode": {
    "name": "ipython",
    "version": 3
   },
   "file_extension": ".py",
   "mimetype": "text/x-python",
   "name": "python",
   "nbconvert_exporter": "python",
   "pygments_lexer": "ipython3",
   "version": "3.12.6"
  }
 },
 "nbformat": 4,
 "nbformat_minor": 5
}
